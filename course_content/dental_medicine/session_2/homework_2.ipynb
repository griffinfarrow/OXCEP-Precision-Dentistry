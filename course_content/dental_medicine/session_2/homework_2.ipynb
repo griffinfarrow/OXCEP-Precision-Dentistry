{
 "cells": [
  {
   "cell_type": "markdown",
   "id": "1e1c3c05",
   "metadata": {},
   "source": [
    "<div style=\"border: 2px solid #ddd; background-color: #f9f9f9; padding: 15px; margin: 10px 0; border-radius: 8px; color: #333;\">\n",
    "\n",
    "# Homework 2: Prediction of DESNT-status from RNA-seq Prostate Adenocarcinoma Data"
   ]
  },
  {
   "cell_type": "markdown",
   "id": "12e00645",
   "metadata": {},
   "source": [
    "<div style=\"border: 2px solid #ddd; background-color: #f9f9f9; padding: 15px; margin: 10px 0; border-radius: 8px; color: #333;\">\n",
    "\n",
    "## Prostate Adenocarcinoma: A Clinical Challenge\n",
    "\n",
    "Prostate adenocarcinoma is one of the most common cancers in men worldwide. While many prostate cancers are indolent and slow-growing, a significant proportion progress to more aggressive disease, leading to metastasis and mortality. One of the central challenges in prostate cancer management is distinguishing between **low-risk, indolent tumors** and those that are likely to become **clinically significant and life-threatening**.\n",
    "\n",
    "Traditional clinical indicators (like PSA levels, Gleason score, and tumor stage) are valuable but often **insufficient** to capture the underlying biological heterogeneity of the disease. More precise molecular tools are needed to improve risk stratification and guide personalized treatment.\n",
    "\n",
    "## What is DESNT?\n",
    "\n",
    "**DESNT** (pronounced \"descent\") is a **molecular subtype** of prostate cancer identified through gene expression profiling. It was first described through unsupervised clustering of large-scale transcriptomic data. Tumors classified as DESNT exhibit a distinct gene expression signature associated with:\n",
    "\n",
    "- **Poor prognosis**\n",
    "- **Early biochemical recurrence**\n",
    "- **More aggressive clinical behavior**\n",
    "\n",
    "Unlike other prostate cancer subtypes, DESNT is consistently linked to **worse clinical outcomes**, making it a potential marker for identifying high-risk patients.\n",
    "\n",
    "## Why Predict DESNT?\n",
    "\n",
    "Being able to predict whether a prostate tumor is DESNT or not has major clinical implications:\n",
    "\n",
    "- It could **support early intervention** for patients likely to experience aggressive disease.\n",
    "- It may help **avoid overtreatment** in non-DESNT cases by identifying those with lower-risk tumors.\n",
    "- It could serve as a foundation for **biomarker discovery** and **treatment targeting**, as we continue to understand what biologically drives the DESNT phenotype.\n",
    "\n",
    "In this task, we will use RNA-seq gene expression data from prostate cancer patients to **train a machine learning model that predicts DESNT status**. This mirrors real-world translational research efforts that aim to bring molecular signatures from the lab into clinical use."
   ]
  },
  {
   "cell_type": "markdown",
   "id": "ccc7c0c5",
   "metadata": {},
   "source": [
    "<div style=\"border: 2px solid #ddd; background-color: #f9f9f9; padding: 15px; margin: 10px 0; border-radius: 8px; color: #333;\">\n",
    "\n",
    "## DESNT Classification of Prostate Cancers  \n",
    "  \n",
    "The DESNT classification scheme for prostate cancer is first proposed in this paper: https://www.eu-focus.europeanurology.com/article/S2405-4569(17)30025-1/fulltext.  \n",
    "  \n",
    "You do not need to read the paper, but it can motivate the problem that we are trying to address if you are interested.  \n",
    "  \n",
    "The original DESNT paper split prostate cancers from different patients into 10 subtypes. 8 of these were representative of \"indolent\" cancer, whilst 2 were indicative of aggressive cancer with worse survival outcomes. To simplify things for this project, we willl group all 8 \"indolent\" subtypes as \"DESNT-negative\", and the 2 aggressive subtypes as \"DESNT-positive\".  \n",
    "  \n",
    "The aim of the task is to use **random forest classifiers** to predict the DESNT subtype from RNA-seq data, again taken from the TCGA Pan Cancer Atlas study. "
   ]
  },
  {
   "cell_type": "markdown",
   "id": "e49168da",
   "metadata": {},
   "source": [
    "<div style=\"border: 2px solid #ddd; background-color: #f9f9f9; padding: 15px; margin: 10px 0; border-radius: 8px; color: #333;\">\n",
    "\n",
    "By the end of this notebook, you should be able to: \n",
    "1) Build a random forest classifier to identify DESNT status from RNA sequencing data of prostate cancers\n",
    "2) Evaluate that classifier and comment on how well it performs \n",
    "3) Identify a smaller biomarker panel that is indicative of DESNT-positive status in prostate cancers  \n",
    "  \n",
    "These tasks were discussed in depth in the `model_evaluation.ipynb` and `biomarker_discovery.ipynb` notebooks. If you get stuck on any of the tasks in this notebook, then refer back to those notebooks for help"
   ]
  },
  {
   "cell_type": "markdown",
   "id": "4966333a",
   "metadata": {},
   "source": [
    "<div style=\"border: 2px solid #ddd; background-color: #f9f9f9; padding: 15px; margin: 10px 0; border-radius: 8px; color: #333;\">\n",
    "\n",
    "We will get you started by importing all of the modules that you should need to use  \n",
    "  "
   ]
  },
  {
   "cell_type": "code",
   "execution_count": 10,
   "id": "1b3a90cb",
   "metadata": {},
   "outputs": [],
   "source": [
    "# importing numpy, pandas, code for train_test_splitting, RandomForestClassifier and DecisionTreeClassifier\n",
    "\n",
    "import numpy as np \n",
    "import pandas as pd \n",
    "\n",
    "from sklearn.model_selection import train_test_split\n",
    "\n",
    "from sklearn.ensemble import RandomForestClassifier\n",
    "from sklearn.tree import DecisionTreeClassifier # importing a decision tree model as well as the random forest to test"
   ]
  },
  {
   "cell_type": "code",
   "execution_count": 11,
   "id": "14ad70ac",
   "metadata": {},
   "outputs": [],
   "source": [
    "# importing matplotlib.pyplot for visualising results \n",
    "\n",
    "import matplotlib.pyplot as plt \n",
    "\n",
    "# this line makes it so that our matplotlib plots are more visually appealing. It is based on the R ggplot library\n",
    "plt.style.use(\"ggplot\")"
   ]
  },
  {
   "cell_type": "code",
   "execution_count": 12,
   "id": "252b946b",
   "metadata": {},
   "outputs": [],
   "source": [
    "# importing functions from scipy for model evaluation: we will explain these later\n",
    "\n",
    "from sklearn.metrics import accuracy_score\n",
    "from sklearn.metrics import f1_score\n",
    "from sklearn.metrics import roc_auc_score\n",
    "from sklearn.metrics import roc_curve "
   ]
  },
  {
   "cell_type": "code",
   "execution_count": 13,
   "id": "381ee25b",
   "metadata": {},
   "outputs": [
    {
     "name": "stdout",
     "output_type": "stream",
     "text": [
      "'shap' is already installed.\n"
     ]
    }
   ],
   "source": [
    "# this is code that installs and imports the SHAP library, so we can use it for biomarker discovery \n",
    "src_dir = \"../../../src\"\n",
    "import sys\n",
    "sys.path.append(src_dir)\n",
    "from install_if_missing import install_if_missing\n",
    "install_if_missing(\"shap\", verbose=True)\n",
    "\n",
    "import shap\n",
    "np.bool = bool"
   ]
  },
  {
   "cell_type": "markdown",
   "id": "584e097c",
   "metadata": {},
   "source": [
    "<div style=\"border: 2px solid #ddd; background-color: #f9f9f9; padding: 15px; margin: 10px 0; border-radius: 8px; color: #333;\">\n",
    "\n",
    "## 1) Load in the prostate cancer dataset and perform train-test splitting  \n",
    "  \n",
    "The dataset is called `pca_dataset_scaled.csv` and should be found in the `dataset` folder in this directory."
   ]
  },
  {
   "cell_type": "code",
   "execution_count": 14,
   "id": "d91c2f54",
   "metadata": {},
   "outputs": [
    {
     "ename": "TypeError",
     "evalue": "read_csv() missing 1 required positional argument: 'filepath_or_buffer'",
     "output_type": "error",
     "traceback": [
      "\u001b[0;31m---------------------------------------------------------------------------\u001b[0m",
      "\u001b[0;31mTypeError\u001b[0m                                 Traceback (most recent call last)",
      "Cell \u001b[0;32mIn[14], line 3\u001b[0m\n\u001b[1;32m      1\u001b[0m \u001b[38;5;66;03m# use pandas to read in the dataset\u001b[39;00m\n\u001b[0;32m----> 3\u001b[0m df \u001b[38;5;241m=\u001b[39m \u001b[43mpd\u001b[49m\u001b[38;5;241;43m.\u001b[39;49m\u001b[43mread_csv\u001b[49m\u001b[43m(\u001b[49m\u001b[43m)\u001b[49m\n",
      "\u001b[0;31mTypeError\u001b[0m: read_csv() missing 1 required positional argument: 'filepath_or_buffer'"
     ]
    }
   ],
   "source": [
    "# use pandas to read in the dataset\n",
    "\n",
    "df = pd.read_csv()"
   ]
  },
  {
   "cell_type": "code",
   "execution_count": null,
   "id": "b91a2cda",
   "metadata": {},
   "outputs": [],
   "source": [
    "# make sure that X only contains gene information\n",
    "X = df.drop([], axis = 1)\n",
    "\n",
    "# make sure that y contains our DESNT status\n",
    "y = df[]"
   ]
  },
  {
   "cell_type": "code",
   "execution_count": null,
   "id": "9ad35ad7",
   "metadata": {},
   "outputs": [],
   "source": [
    "# you may want to check that X and y look as expected\n",
    "X.head()"
   ]
  },
  {
   "cell_type": "code",
   "execution_count": null,
   "id": "65af979a",
   "metadata": {},
   "outputs": [],
   "source": [
    "print(y)"
   ]
  },
  {
   "cell_type": "code",
   "execution_count": null,
   "id": "48769719",
   "metadata": {},
   "outputs": [],
   "source": [
    "# use train_test_split to do train-test splitting \n",
    "\n",
    "X_train, X_test, y_train, y_test = "
   ]
  },
  {
   "cell_type": "markdown",
   "id": "bdeb07f4",
   "metadata": {},
   "source": [
    "<div style=\"border: 2px solid #ddd; background-color: #f9f9f9; padding: 15px; margin: 10px 0; border-radius: 8px; color: #333;\">\n",
    "\n",
    "## 2) Build and train a random forest classifier \n",
    "  \n",
    "Use as hyperparameters: \n",
    "* random_state = 42\n",
    "* n_estimators = 100\n",
    "* max_depth = 10"
   ]
  },
  {
   "cell_type": "code",
   "execution_count": null,
   "id": "e16135a2",
   "metadata": {},
   "outputs": [],
   "source": [
    "# build your model here\n",
    "\n",
    "model = "
   ]
  },
  {
   "cell_type": "code",
   "execution_count": null,
   "id": "a2ba5a25",
   "metadata": {},
   "outputs": [],
   "source": [
    "# train your model here\n",
    "\n",
    "model.fit()"
   ]
  },
  {
   "cell_type": "markdown",
   "id": "62ab2fce",
   "metadata": {},
   "source": [
    "<div style=\"border: 2px solid #ddd; background-color: #f9f9f9; padding: 15px; margin: 10px 0; border-radius: 8px; color: #333;\">\n",
    "\n",
    "## 3) Evaluate your model  \n",
    "  \n",
    "Using your trained model from the previous task, evaluate the model. You might want to consider: \n",
    "* the accuracy of the model\n",
    "* the f1-score of the model\n",
    "* the reporter operating characteristic of the model \n",
    "* the area under the reporter operating characteristic curve"
   ]
  },
  {
   "cell_type": "code",
   "execution_count": null,
   "id": "a2b4c9da",
   "metadata": {},
   "outputs": [],
   "source": [
    "# write your model evaluation code here"
   ]
  },
  {
   "cell_type": "markdown",
   "id": "479fc26d",
   "metadata": {},
   "source": [
    "<div style=\"border: 2px solid #ddd; background-color: #f9f9f9; padding: 15px; margin: 10px 0; border-radius: 8px; color: #333;\">\n",
    "\n",
    "What can you conclude about your model at this point?\n",
    "1) What is its accuracy? What does this mean for how your model is classifying samples?\n",
    "2) What is its f1-score? What does this mean about how your model is balanced sensitivity and positive predictive value?\n",
    "3) What does the ROC curve look like?\n",
    "  \n",
    "Is the random forest model that you have built a good model?  \n",
    "  \n",
    "Write some of your thoughts in the next cell"
   ]
  },
  {
   "cell_type": "markdown",
   "id": "c9ce1987",
   "metadata": {},
   "source": [
    "* \n",
    "* \n",
    "*"
   ]
  },
  {
   "cell_type": "markdown",
   "id": "e40b59af",
   "metadata": {},
   "source": [
    "<div style=\"border: 2px solid #ddd; background-color: #f9f9f9; padding: 15px; margin: 10px 0; border-radius: 8px; color: #333;\">\n",
    "\n",
    "## 4) Use SHAP to identify what the most important features are  \n",
    "  \n",
    "Now, use the shap module to identify the most important features for your model.  \n",
    "  \n",
    "We recommend that you look back at the `biomarker_discovery.ipynb` notebook for how you might do this"
   ]
  },
  {
   "cell_type": "code",
   "execution_count": 15,
   "id": "66bf908d",
   "metadata": {},
   "outputs": [],
   "source": [
    "# use shap to produce shap scores for every feature"
   ]
  },
  {
   "cell_type": "markdown",
   "id": "7acf73e6",
   "metadata": {},
   "source": [
    "<div style=\"border: 2px solid #ddd; background-color: #f9f9f9; padding: 15px; margin: 10px 0; border-radius: 8px; color: #333;\">\n",
    "\n",
    "## 5) Identify the top 100 most important genes"
   ]
  },
  {
   "cell_type": "code",
   "execution_count": null,
   "id": "8736cc40",
   "metadata": {},
   "outputs": [],
   "source": [
    "#"
   ]
  },
  {
   "cell_type": "markdown",
   "id": "0601f770",
   "metadata": {},
   "source": [
    "<div style=\"border: 2px solid #ddd; background-color: #f9f9f9; padding: 15px; margin: 10px 0; border-radius: 8px; color: #333;\">\n",
    "\n",
    "## 6) Build a new model using these top 100 genes to perform classification"
   ]
  },
  {
   "cell_type": "code",
   "execution_count": null,
   "id": "c7c443f3",
   "metadata": {},
   "outputs": [],
   "source": [
    "#"
   ]
  },
  {
   "cell_type": "markdown",
   "id": "07df755a",
   "metadata": {},
   "source": [
    "<div style=\"border: 2px solid #ddd; background-color: #f9f9f9; padding: 15px; margin: 10px 0; border-radius: 8px; color: #333;\">\n",
    "\n",
    "## 7) Evaluate the new model\n",
    "  \n",
    "Use accuracy, f1-score and the reporter operating characteristic curve to evaluate the new model.   \n",
    "  \n",
    "How does it compare to the model that was trained using all 1000 genes? Why is there a difference?"
   ]
  },
  {
   "cell_type": "code",
   "execution_count": null,
   "id": "031bbbe5",
   "metadata": {},
   "outputs": [],
   "source": [
    "#"
   ]
  },
  {
   "cell_type": "markdown",
   "id": "04e3bbb5",
   "metadata": {},
   "source": [
    "<div style=\"border: 2px solid #ddd; background-color: #f9f9f9; padding: 15px; margin: 10px 0; border-radius: 8px; color: #333;\">\n",
    "\n",
    "## Summary and Next Time\n",
    "\n",
    "In this notebook, you learned how to:\n",
    "* evaluate a machine learning classification model \n",
    "* use SHAP to select the most important features\n",
    "* identify a \"panel\" of biomarkers  \n",
    "  \n",
    "In this task, you likely found that even with 100 biomarker genes, the model with all of the gene expression data still performed better. Does this mean that we shouldn't use the biomarkers? Or that it isn't a useful panel? What can we conclude from this?\n"
   ]
  },
  {
   "cell_type": "markdown",
   "id": "67699f2f",
   "metadata": {},
   "source": [
    "<div style=\"border: 2px solid #ddd; background-color: #f9f9f9; padding: 15px; margin: 10px 0; border-radius: 8px; color: #333;\">\n",
    "\n",
    "In the next session, a course instructor will look through your work and offer feedback.  \n",
    "  \n",
    "We will next look at survival analysis: the task of quantifying the increased risk associated with different subtypes. This is critical for translational work. We'd like to know what the clinical implications of our subtypes are, so we need to identify how they impact on survival for patients."
   ]
  }
 ],
 "metadata": {
  "kernelspec": {
   "display_name": "precision-course-env",
   "language": "python",
   "name": "python3"
  },
  "language_info": {
   "codemirror_mode": {
    "name": "ipython",
    "version": 3
   },
   "file_extension": ".py",
   "mimetype": "text/x-python",
   "name": "python",
   "nbconvert_exporter": "python",
   "pygments_lexer": "ipython3",
   "version": "3.9.21"
  }
 },
 "nbformat": 4,
 "nbformat_minor": 5
}
