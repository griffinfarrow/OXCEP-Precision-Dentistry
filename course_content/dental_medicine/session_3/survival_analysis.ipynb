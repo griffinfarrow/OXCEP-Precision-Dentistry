{
 "cells": [
  {
   "cell_type": "markdown",
   "id": "deb2a08c",
   "metadata": {},
   "source": [
    "<div style=\"border: 2px solid #ddd; background-color: #f9f9f9; padding: 15px; margin: 10px 0; border-radius: 8px; color: #333;\">\n",
    "\n",
    "# Survival Analysis"
   ]
  },
  {
   "cell_type": "markdown",
   "id": "f672e5f7",
   "metadata": {},
   "source": [
    "<div style=\"border: 2px solid #ddd; background-color: #f9f9f9; padding: 15px; margin: 10px 0; border-radius: 8px; color: #333;\">\n",
    "\n",
    "## Why Survival Analysis Matters in Personalized Medicine\n",
    "\n",
    "In personalized medicine, one of the most critical questions is not just **who has a disease**, but **how the disease will progress for different individuals**. This is where **survival analysis** becomes essential.\n",
    "\n",
    "### What is Survival Analysis?\n",
    "\n",
    "**Survival analysis** is a set of statistical methods used to analyze the time until an event of interest occurs—most commonly, time to death, disease progression, or relapse. Unlike standard classification or regression methods, survival analysis accounts for:\n",
    "\n",
    "- **Censoring**: When we don't observe the event for all individuals during the study period.\n",
    "- **Time-to-event**: The actual duration matters, not just whether the event occurred.\n",
    "\n",
    "### Why Is This Important in Personalized Medicine?\n",
    "\n",
    "In the context of **precision or personalized medicine**, we aim to tailor treatment strategies based on an individual's predicted disease trajectory. Survival analysis helps us:\n",
    "\n",
    "- **Stratify patients** into risk groups with different prognoses.\n",
    "- **Quantify** how different subtypes or treatments influence patient outcomes over time.\n",
    "- **Guide decision-making** for clinicians by providing evidence on expected survival outcomes.\n",
    "\n",
    "---\n",
    "\n",
    "## Kaplan-Meier Curves and Subtype Stratification\n",
    "\n",
    "In our previous task, we used a **random forest classifier** to identify a panel of biomarkers that can distinguish between **DESNT** and **non-DESNT** prostate cancer subtypes.\n",
    "\n",
    "We will now use **Kaplan-Meier survival curves** to compare survival outcomes between these groups.\n",
    "\n",
    "### Why Kaplan-Meier?\n",
    "\n",
    "Kaplan-Meier curves offer a simple, visual way to:\n",
    "\n",
    "- Estimate survival probabilities over time.\n",
    "- Compare different patient subgroups (e.g., DESNT vs non-DESNT).\n",
    "- Assess whether certain molecular subtypes are associated with **better or worse prognosis**.\n",
    "\n",
    "By integrating machine learning classification with survival analysis, we can **move beyond static diagnostic labels** and start predicting **dynamic clinical outcomes**—a foundational goal of data-driven personalized medicine.\n"
   ]
  },
  {
   "cell_type": "markdown",
   "id": "1f1659cd",
   "metadata": {},
   "source": [
    "## 1) First, we need to import the libraries that we are going to use  \n",
    "  \n",
    "We are going to use the `lifelines` library in Python to do survival analysis. More on this later."
   ]
  },
  {
   "cell_type": "code",
   "execution_count": 1,
   "id": "a4c04004",
   "metadata": {},
   "outputs": [
    {
     "name": "stdout",
     "output_type": "stream",
     "text": [
      "'lifelines' is already installed.\n"
     ]
    }
   ],
   "source": [
    "src_dir = \"../../../src\"\n",
    "import sys\n",
    "sys.path.append(src_dir)\n",
    "\n",
    "from install_if_missing import install_if_missing\n",
    "\n",
    "install_if_missing(\"lifelines\", verbose=True)"
   ]
  },
  {
   "cell_type": "code",
   "execution_count": 2,
   "id": "91ceb002",
   "metadata": {},
   "outputs": [],
   "source": [
    "import pandas as pd\n",
    "import numpy as np\n",
    "\n",
    "import matplotlib.pyplot as plt\n",
    "\n",
    "plt.style.use(\"ggplot\")"
   ]
  },
  {
   "cell_type": "markdown",
   "id": "32b70813",
   "metadata": {},
   "source": [
    "<div style=\"border: 2px solid #ddd; background-color: #f9f9f9; padding: 15px; margin: 10px 0; border-radius: 8px; color: #333;\">\n",
    "\n",
    "## Lifelines Library\n",
    "  \n",
    "`lifelines` is a library written in `Python` that is designed for survival analysis. It can do a wide range of things, including plotting survival curves and hazard modelling. We are only going to cover Kaplan-Meier survival curves in this course.  \n",
    "  \n",
    "The documentation for `lifelines` can be found here: https://lifelines.readthedocs.io/en/latest/index.html.  \n",
    "It is always good practice, when using a new library that you are not familiar with, to check the documentation. \n",
    "\n",
    "### Kaplan-Meier Fitting\n",
    "  \n",
    "To fit a Kaplan-Meier curve using `lifelines`, we use the following code: "
   ]
  },
  {
   "cell_type": "markdown",
   "id": "b6e77bbc",
   "metadata": {},
   "source": [
    "<div style=\"border: 2px solid #ddd; background-color: #f9f9f9; padding: 15px; margin: 10px 0; border-radius: 8px; color: #333;\">\n",
    "\n",
    "``` {python}\n",
    "# import KaplanMeierFitter function from the lifelines library\n",
    "from lifelines import KaplanMeierFitter\n",
    "\n",
    "# create a KaplanMeierFitter object\n",
    "kmf = KaplanMeierFitter()\n",
    "\n",
    "# fit the object with our data\n",
    "kmf.fit(durations = df[\"Duration\"], \n",
    "        event_observed = df[\"Event_Indication\"])\n",
    "```  "
   ]
  },
  {
   "cell_type": "markdown",
   "id": "3064518b",
   "metadata": {},
   "source": [
    "<div style=\"border: 2px solid #ddd; background-color: #f9f9f9; padding: 15px; margin: 10px 0; border-radius: 8px; color: #333;\">\n",
    "\n",
    "Our dataset must have at least two columns in it. The first of these columns must be numbers and will be the time that each patient was observed until. The second of these column will always be 0 or 1, and represents whether or not the event happened.  \n",
    "  \n",
    "In the cell below, I load in the DESNT survival data, which has the DESNT-status for each patient, as well as columns relating to disease-free status. You can see that we have two columns, called `\"DFS_STATUS\"` and `\"DFS_MONTHS\"`.\n",
    "  \n",
    "`\"DFS_STATUS\"` is the indicator column; if it is equal to 0, the patient was still disease-free when follow-up stopped.  \n",
    "If it is equal to 1, the prostate cancer recurred or progressed in the patient.\n",
    "  \n",
    "`\"DFS_MONTHS\"` is the time (in months) until censorship of the patient. `DFS_MONTHS` will be the `durations` column for `lifelines` and `DFS_STATUS` will be the `event_observed` column for lifelines"
   ]
  },
  {
   "cell_type": "code",
   "execution_count": 3,
   "id": "ebafd324",
   "metadata": {},
   "outputs": [],
   "source": [
    "desnt_survival = pd.read_csv(\"dataset/desnt_survival.csv\")"
   ]
  },
  {
   "cell_type": "code",
   "execution_count": 4,
   "id": "b8a5aa8f",
   "metadata": {},
   "outputs": [
    {
     "data": {
      "text/html": [
       "<div>\n",
       "<style scoped>\n",
       "    .dataframe tbody tr th:only-of-type {\n",
       "        vertical-align: middle;\n",
       "    }\n",
       "\n",
       "    .dataframe tbody tr th {\n",
       "        vertical-align: top;\n",
       "    }\n",
       "\n",
       "    .dataframe thead th {\n",
       "        text-align: right;\n",
       "    }\n",
       "</style>\n",
       "<table border=\"1\" class=\"dataframe\">\n",
       "  <thead>\n",
       "    <tr style=\"text-align: right;\">\n",
       "      <th></th>\n",
       "      <th>DESNT_Status</th>\n",
       "      <th>DFS_STATUS</th>\n",
       "      <th>DFS_MONTHS</th>\n",
       "      <th>SAMPLE_ID</th>\n",
       "    </tr>\n",
       "  </thead>\n",
       "  <tbody>\n",
       "    <tr>\n",
       "      <th>0</th>\n",
       "      <td>Negative</td>\n",
       "      <td>0</td>\n",
       "      <td>20.40</td>\n",
       "      <td>TCGA-2A-A8VL-01</td>\n",
       "    </tr>\n",
       "    <tr>\n",
       "      <th>1</th>\n",
       "      <td>Positive</td>\n",
       "      <td>0</td>\n",
       "      <td>55.88</td>\n",
       "      <td>TCGA-2A-A8VO-01</td>\n",
       "    </tr>\n",
       "    <tr>\n",
       "      <th>2</th>\n",
       "      <td>Negative</td>\n",
       "      <td>0</td>\n",
       "      <td>45.11</td>\n",
       "      <td>TCGA-2A-A8VT-01</td>\n",
       "    </tr>\n",
       "    <tr>\n",
       "      <th>3</th>\n",
       "      <td>Positive</td>\n",
       "      <td>0</td>\n",
       "      <td>22.04</td>\n",
       "      <td>TCGA-2A-A8VV-01</td>\n",
       "    </tr>\n",
       "    <tr>\n",
       "      <th>4</th>\n",
       "      <td>Positive</td>\n",
       "      <td>0</td>\n",
       "      <td>45.27</td>\n",
       "      <td>TCGA-2A-A8VX-01</td>\n",
       "    </tr>\n",
       "    <tr>\n",
       "      <th>5</th>\n",
       "      <td>Positive</td>\n",
       "      <td>0</td>\n",
       "      <td>3.68</td>\n",
       "      <td>TCGA-2A-A8W1-01</td>\n",
       "    </tr>\n",
       "    <tr>\n",
       "      <th>6</th>\n",
       "      <td>Positive</td>\n",
       "      <td>1</td>\n",
       "      <td>6.50</td>\n",
       "      <td>TCGA-2A-A8W3-01</td>\n",
       "    </tr>\n",
       "    <tr>\n",
       "      <th>7</th>\n",
       "      <td>Positive</td>\n",
       "      <td>0</td>\n",
       "      <td>44.81</td>\n",
       "      <td>TCGA-2A-AAYF-01</td>\n",
       "    </tr>\n",
       "    <tr>\n",
       "      <th>8</th>\n",
       "      <td>Negative</td>\n",
       "      <td>0</td>\n",
       "      <td>41.79</td>\n",
       "      <td>TCGA-2A-AAYO-01</td>\n",
       "    </tr>\n",
       "    <tr>\n",
       "      <th>9</th>\n",
       "      <td>Positive</td>\n",
       "      <td>0</td>\n",
       "      <td>20.20</td>\n",
       "      <td>TCGA-2A-AAYU-01</td>\n",
       "    </tr>\n",
       "    <tr>\n",
       "      <th>10</th>\n",
       "      <td>Positive</td>\n",
       "      <td>0</td>\n",
       "      <td>11.50</td>\n",
       "      <td>TCGA-4L-AA1F-01</td>\n",
       "    </tr>\n",
       "    <tr>\n",
       "      <th>11</th>\n",
       "      <td>Positive</td>\n",
       "      <td>0</td>\n",
       "      <td>2.99</td>\n",
       "      <td>TCGA-CH-5737-01</td>\n",
       "    </tr>\n",
       "    <tr>\n",
       "      <th>12</th>\n",
       "      <td>Negative</td>\n",
       "      <td>0</td>\n",
       "      <td>6.96</td>\n",
       "      <td>TCGA-CH-5738-01</td>\n",
       "    </tr>\n",
       "    <tr>\n",
       "      <th>13</th>\n",
       "      <td>Negative</td>\n",
       "      <td>0</td>\n",
       "      <td>22.04</td>\n",
       "      <td>TCGA-CH-5739-01</td>\n",
       "    </tr>\n",
       "    <tr>\n",
       "      <th>14</th>\n",
       "      <td>Negative</td>\n",
       "      <td>0</td>\n",
       "      <td>1.02</td>\n",
       "      <td>TCGA-CH-5740-01</td>\n",
       "    </tr>\n",
       "    <tr>\n",
       "      <th>15</th>\n",
       "      <td>Positive</td>\n",
       "      <td>0</td>\n",
       "      <td>12.98</td>\n",
       "      <td>TCGA-CH-5741-01</td>\n",
       "    </tr>\n",
       "    <tr>\n",
       "      <th>16</th>\n",
       "      <td>Negative</td>\n",
       "      <td>1</td>\n",
       "      <td>13.96</td>\n",
       "      <td>TCGA-CH-5743-01</td>\n",
       "    </tr>\n",
       "    <tr>\n",
       "      <th>17</th>\n",
       "      <td>Negative</td>\n",
       "      <td>0</td>\n",
       "      <td>1.97</td>\n",
       "      <td>TCGA-CH-5744-01</td>\n",
       "    </tr>\n",
       "    <tr>\n",
       "      <th>18</th>\n",
       "      <td>Negative</td>\n",
       "      <td>0</td>\n",
       "      <td>2.99</td>\n",
       "      <td>TCGA-CH-5745-01</td>\n",
       "    </tr>\n",
       "    <tr>\n",
       "      <th>19</th>\n",
       "      <td>Negative</td>\n",
       "      <td>0</td>\n",
       "      <td>24.01</td>\n",
       "      <td>TCGA-CH-5746-01</td>\n",
       "    </tr>\n",
       "  </tbody>\n",
       "</table>\n",
       "</div>"
      ],
      "text/plain": [
       "   DESNT_Status  DFS_STATUS  DFS_MONTHS        SAMPLE_ID\n",
       "0      Negative           0       20.40  TCGA-2A-A8VL-01\n",
       "1      Positive           0       55.88  TCGA-2A-A8VO-01\n",
       "2      Negative           0       45.11  TCGA-2A-A8VT-01\n",
       "3      Positive           0       22.04  TCGA-2A-A8VV-01\n",
       "4      Positive           0       45.27  TCGA-2A-A8VX-01\n",
       "5      Positive           0        3.68  TCGA-2A-A8W1-01\n",
       "6      Positive           1        6.50  TCGA-2A-A8W3-01\n",
       "7      Positive           0       44.81  TCGA-2A-AAYF-01\n",
       "8      Negative           0       41.79  TCGA-2A-AAYO-01\n",
       "9      Positive           0       20.20  TCGA-2A-AAYU-01\n",
       "10     Positive           0       11.50  TCGA-4L-AA1F-01\n",
       "11     Positive           0        2.99  TCGA-CH-5737-01\n",
       "12     Negative           0        6.96  TCGA-CH-5738-01\n",
       "13     Negative           0       22.04  TCGA-CH-5739-01\n",
       "14     Negative           0        1.02  TCGA-CH-5740-01\n",
       "15     Positive           0       12.98  TCGA-CH-5741-01\n",
       "16     Negative           1       13.96  TCGA-CH-5743-01\n",
       "17     Negative           0        1.97  TCGA-CH-5744-01\n",
       "18     Negative           0        2.99  TCGA-CH-5745-01\n",
       "19     Negative           0       24.01  TCGA-CH-5746-01"
      ]
     },
     "execution_count": 4,
     "metadata": {},
     "output_type": "execute_result"
    }
   ],
   "source": [
    "desnt_survival.head(20)"
   ]
  },
  {
   "cell_type": "markdown",
   "id": "ef08a31b",
   "metadata": {},
   "source": [
    "<div style=\"border: 2px solid #ddd; background-color: #f9f9f9; padding: 15px; margin: 10px 0; border-radius: 8px; color: #333;\">\n",
    "\n",
    "## 1) Kaplan-Meier Curves for the DESNT Subtypes"
   ]
  },
  {
   "cell_type": "markdown",
   "id": "5fa8bfd6",
   "metadata": {},
   "source": [
    "<div style=\"border: 2px solid #ddd; background-color: #f9f9f9; padding: 15px; margin: 10px 0; border-radius: 8px; color: #333;\">\n",
    "\n",
    "Now, we can use lifelines to plot the survival functions for the two different cases that we are interested in. We want to compare whether the survival curves differ for patients who have DESNT-positive and DESNT-negative status.  \n",
    "  \n",
    "First, we identify the two subsets of patients. We use `pandas` to do this."
   ]
  },
  {
   "cell_type": "code",
   "execution_count": 5,
   "id": "014fa98e",
   "metadata": {},
   "outputs": [],
   "source": [
    "# first, we identify the patients who were DESNT-negative and the patients who were DESNT-positive\n",
    "desnt_negative = desnt_survival[desnt_survival[\"DESNT_Status\"] == \"Negative\"] # finds the patients in desnt_survival who have DESNT_STATUS = \"Negative\"\n",
    "desnt_positive = desnt_survival[desnt_survival[\"DESNT_Status\"] == \"Positive\"] # finds the patients in desnt_survival who have DESNT_STATUS = \"Positive\""
   ]
  },
  {
   "cell_type": "markdown",
   "id": "5e34e202",
   "metadata": {},
   "source": [
    "<div style=\"border: 2px solid #ddd; background-color: #f9f9f9; padding: 15px; margin: 10px 0; border-radius: 8px; color: #333;\">\n",
    "\n",
    "Next, we fit KaplanMeierFitter objects for each of our groups (DESNT-Negative and DESNT-Positive)"
   ]
  },
  {
   "cell_type": "code",
   "execution_count": 6,
   "id": "7bc0440e",
   "metadata": {},
   "outputs": [
    {
     "name": "stdout",
     "output_type": "stream",
     "text": [
      "'lifelines' is already installed.\n"
     ]
    }
   ],
   "source": [
    "# importing the modules we need to import\n",
    "\n",
    "src_dir = \"../../../src\"\n",
    "import sys\n",
    "sys.path.append(src_dir)\n",
    "\n",
    "from install_if_missing import install_if_missing\n",
    "\n",
    "install_if_missing(\"lifelines\", verbose=True)"
   ]
  },
  {
   "cell_type": "code",
   "execution_count": 7,
   "id": "929b0ff7",
   "metadata": {},
   "outputs": [],
   "source": [
    "from lifelines import KaplanMeierFitter # importing the KaplanMeierFitter function from the lifelines library"
   ]
  },
  {
   "cell_type": "code",
   "execution_count": 8,
   "id": "1c2da3aa",
   "metadata": {},
   "outputs": [
    {
     "data": {
      "text/plain": [
       "<lifelines.KaplanMeierFitter:\"KM_estimate\", fitted with 328 total observations, 280 right-censored observations>"
      ]
     },
     "execution_count": 8,
     "metadata": {},
     "output_type": "execute_result"
    }
   ],
   "source": [
    "# making separate KaplanMeierFitter objects for the DESNT-negative and DESNT-positive groups\n",
    "kmf_negative = KaplanMeierFitter()\n",
    "\n",
    "kmf_negative.fit(durations = desnt_negative[\"DFS_MONTHS\"],  # the DFS_MONTHS column is the \"durations\" data\n",
    "                event_observed = desnt_negative[\"DFS_STATUS\"]) # the DFS_STATUS column is the \"event_observed data\"\n"
   ]
  },
  {
   "cell_type": "code",
   "execution_count": 9,
   "id": "95f65e88",
   "metadata": {},
   "outputs": [
    {
     "data": {
      "text/plain": [
       "<lifelines.KaplanMeierFitter:\"KM_estimate\", fitted with 328 total observations, 238 right-censored observations>"
      ]
     },
     "execution_count": 9,
     "metadata": {},
     "output_type": "execute_result"
    }
   ],
   "source": [
    "kmf_positive = KaplanMeierFitter()\n",
    "\n",
    "kmf_positive.fit(durations = desnt_positive[\"DFS_MONTHS\"],  # the DFS_MONTHS column is the \"durations\" data\n",
    "                event_observed = desnt_positive[\"DFS_STATUS\"])"
   ]
  },
  {
   "cell_type": "markdown",
   "id": "c868be94",
   "metadata": {},
   "source": [
    "<div style=\"border: 2px solid #ddd; background-color: #f9f9f9; padding: 15px; margin: 10px 0; border-radius: 8px; color: #333;\">\n",
    "\n",
    "Finally, we plot both of these Kaplan-Meier curves on the same figure"
   ]
  },
  {
   "cell_type": "code",
   "execution_count": 10,
   "id": "a75cb658",
   "metadata": {},
   "outputs": [
    {
     "data": {
      "image/png": "[encoded data removed]",
      "text/plain": [
       "<Figure size 640x480 with 1 Axes>"
      ]
     },
     "metadata": {},
     "output_type": "display_data"
    }
   ],
   "source": [
    "fig, ax = plt.subplots()\n",
    "kmf_negative.plot_survival_function(ax = ax, label = \"DESNT-Negative\")\n",
    "kmf_positive.plot_survival_function(ax = ax, label = \"DESNT_Positive\")\n",
    "ax.set_xlabel(r\"Months\")\n",
    "ax.set_ylabel(r\"Survival Probability\")\n",
    "fig.tight_layout()\n",
    "plt.show()"
   ]
  },
  {
   "cell_type": "markdown",
   "id": "807dd86e",
   "metadata": {},
   "source": [
    "<div style=\"border: 2px solid #ddd; background-color: #f9f9f9; padding: 15px; margin: 10px 0; border-radius: 8px; color: #333;\">\n",
    "\n",
    "## Comparing Survival Curves: The Log-Rank Test\n",
    "\n",
    "While Kaplan-Meier curves allow us to **visualize** survival differences between groups (e.g., DESNT vs non-DESNT cases), visual differences can be misleading. We need a **statistical test** to determine whether the observed differences are likely due to **chance** or reflect a **real difference in survival** between groups.\n",
    "\n",
    "### What Is the Log-Rank Test?\n",
    "\n",
    "The **log-rank test** is a non-parametric hypothesis test used to compare the survival distributions of two or more groups.\n",
    "\n",
    "- It tests the **null hypothesis** that there is **no difference** in survival between the groups at any point in time.\n",
    "- It takes into account the **number and timing of events (e.g., deaths or recurrences)** in each group.\n",
    "\n",
    "### Why Do We Need It?\n",
    "\n",
    "Even if Kaplan-Meier curves look different, those differences might arise due to:\n",
    "\n",
    "- **Random variation**, especially with small sample sizes.\n",
    "- **Censored data**, which complicates interpretation.\n",
    "\n",
    "The log-rank test gives us a formal way to determine whether observed differences are statistically meaningful.\n",
    "\n",
    "### Interpreting the p-value\n",
    "\n",
    "The log-rank test returns a **p-value**:\n",
    "\n",
    "- A **small p-value** (typically < 0.05) suggests that the difference in survival between the groups is **statistically significant**.\n",
    "- A **large p-value** suggests that any differences in the survival curves are likely due to **random chance**.\n",
    "\n",
    "In our case, we will use the log-rank test to determine whether DESNT and non-DESNT subtypes have **significantly different survival outcomes**, supporting their clinical relevance.\n",
    "\n",
    "---\n",
    "\n",
    "### Summary\n",
    "\n",
    "| Term | Meaning |\n",
    "|------|---------|\n",
    "| **Log-rank test** | Compares survival between groups |\n",
    "| **Null hypothesis** | No difference in survival |\n",
    "| **p-value < 0.05** | Significant difference in survival |\n",
    "| **p-value ≥ 0.05** | No evidence of a difference |\n",
    "\n",
    "By combining Kaplan-Meier curves with the log-rank test, we get both a **visual** and **statistical** understanding of how well our biomarker-based classification predicts patient outcomes.\n",
    "  \n",
    "The log-rank test compares *two* Kaplan-Meier curves. If we had 3 groups to compare, we'd need to use it three times (A vs B, A vs C, B vs C) and see whether *any* of them are statistically significant."
   ]
  },
  {
   "cell_type": "markdown",
   "id": "b454f710",
   "metadata": {},
   "source": [
    "<div style=\"border: 2px solid #ddd; background-color: #f9f9f9; padding: 15px; margin: 10px 0; border-radius: 8px; color: #333;\">\n",
    "\n",
    "We do this with the `logrank_test` function from the `lifelines.statistics` library. "
   ]
  },
  {
   "cell_type": "code",
   "execution_count": 11,
   "id": "05d16ea8",
   "metadata": {},
   "outputs": [],
   "source": [
    "# import that function here \n",
    "\n",
    "from lifelines.statistics import logrank_test"
   ]
  },
  {
   "cell_type": "code",
   "execution_count": 12,
   "id": "d152703f",
   "metadata": {},
   "outputs": [],
   "source": [
    "# Perform the log-rank test\n",
    "results = logrank_test(\n",
    "    durations_A=desnt_negative[\"DFS_MONTHS\"], # the durations for our DESNT-negative patients\n",
    "    durations_B=desnt_positive[\"DFS_MONTHS\"], # the durations for our DESNT-positive patients\n",
    "    event_observed_A=desnt_negative[\"DFS_STATUS\"], # the event observation for our DESNT-negative patients\n",
    "    event_observed_B=desnt_positive[\"DFS_STATUS\"] # the event observation for our DESNT-positive patients\n",
    ")"
   ]
  },
  {
   "cell_type": "markdown",
   "id": "7c16de5a",
   "metadata": {},
   "source": [
    "<div style=\"border: 2px solid #ddd; background-color: #f9f9f9; padding: 15px; margin: 10px 0; border-radius: 8px; color: #333;\">\n",
    "\n",
    "We can then visualise the results using `results.print_summary()`. This gives a lot of information, but the most important part is the **p-value**"
   ]
  },
  {
   "cell_type": "code",
   "execution_count": 13,
   "id": "e335ee4a",
   "metadata": {},
   "outputs": [
    {
     "data": {
      "text/html": [
       "<div>\n",
       "<style scoped>\n",
       "    .dataframe tbody tr th:only-of-type {\n",
       "        vertical-align: middle;\n",
       "    }\n",
       "\n",
       "    .dataframe tbody tr th {\n",
       "        vertical-align: top;\n",
       "    }\n",
       "\n",
       "    .dataframe thead th {\n",
       "        text-align: right;\n",
       "    }\n",
       "</style>\n",
       "<table border=\"1\" class=\"dataframe\">\n",
       "  <tbody>\n",
       "    <tr>\n",
       "      <th>t_0</th>\n",
       "      <td>-1</td>\n",
       "    </tr>\n",
       "    <tr>\n",
       "      <th>null_distribution</th>\n",
       "      <td>chi squared</td>\n",
       "    </tr>\n",
       "    <tr>\n",
       "      <th>degrees_of_freedom</th>\n",
       "      <td>1</td>\n",
       "    </tr>\n",
       "    <tr>\n",
       "      <th>test_name</th>\n",
       "      <td>logrank_test</td>\n",
       "    </tr>\n",
       "  </tbody>\n",
       "</table>\n",
       "</div><table border=\"1\" class=\"dataframe\">\n",
       "  <thead>\n",
       "    <tr style=\"text-align: right;\">\n",
       "      <th></th>\n",
       "      <th>test_statistic</th>\n",
       "      <th>p</th>\n",
       "      <th>-log2(p)</th>\n",
       "    </tr>\n",
       "  </thead>\n",
       "  <tbody>\n",
       "    <tr>\n",
       "      <th>0</th>\n",
       "      <td>14.79</td>\n",
       "      <td>&lt;0.005</td>\n",
       "      <td>13.02</td>\n",
       "    </tr>\n",
       "  </tbody>\n",
       "</table>"
      ],
      "text/latex": [
       "\\begin{tabular}{lrrr}\n",
       " & test_statistic & p & -log2(p) \\\\\n",
       "0 & 14.79 & 0.00 & 13.02 \\\\\n",
       "\\end{tabular}\n"
      ],
      "text/plain": [
       "<lifelines.StatisticalResult: logrank_test>\n",
       "               t_0 = -1\n",
       " null_distribution = chi squared\n",
       "degrees_of_freedom = 1\n",
       "         test_name = logrank_test\n",
       "\n",
       "---\n",
       " test_statistic      p  -log2(p)\n",
       "          14.79 <0.005     13.02"
      ]
     },
     "metadata": {},
     "output_type": "display_data"
    }
   ],
   "source": [
    "results.print_summary()"
   ]
  },
  {
   "cell_type": "code",
   "execution_count": 14,
   "id": "6af4fac2",
   "metadata": {},
   "outputs": [
    {
     "name": "stdout",
     "output_type": "stream",
     "text": [
      "0.00012018520692377246\n"
     ]
    }
   ],
   "source": [
    "print(results.p_value)"
   ]
  },
  {
   "cell_type": "markdown",
   "id": "c7b5b312",
   "metadata": {},
   "source": [
    "<div style=\"border: 2px solid #ddd; background-color: #f9f9f9; padding: 15px; margin: 10px 0; border-radius: 8px; color: #333;\">\n",
    "\n",
    "In our case, the p_value is 0.0001, which is 500 times smaller than the level we need for this to be a significant result. \n",
    "  \n",
    "Therefore, we can say that there is *strong evidence* to suggest that DESNT-positive patients have worse survival outcomes (in terms of the disease recurring or progressing) than DESNT-negative patients. "
   ]
  },
  {
   "cell_type": "markdown",
   "id": "8f4363dc",
   "metadata": {},
   "source": [
    "<div style=\"border: 2px solid #ddd; background-color: #f9f9f9; padding: 15px; margin: 10px 0; border-radius: 8px; color: #333;\">\n",
    "\n",
    "## Summing Up \n",
    "  \n",
    "That brings us to the end of our survival analysis notebook. In this notebook you learned how to: \n",
    "* use the `lifelines` library for survival analysis \n",
    "* plot Kaplan-Meier curves comparing the survival outcomes of different groups of patients \n",
    "* compare those Kaplan-Meier curves statistically using the log-rank test, to determine whether one group has statistically significant worse survival outcomes  \n",
    "  \n",
    "In the homework notebook, you found a biomarker panel of 100 genes which allowed you to classify prostate cancer samples into DESNT-positive and DESNT-negative groups with over 90% accuracy.  \n",
    "  \n",
    "This means that clinicians can now use a **small, data-driven biomarker panel** to identify patients with the **DESNT subtype**, which is associated with **much worse prognosis**.\n",
    "\n",
    "- This stratification enables more **personalized treatment decisions**, such as closer monitoring or more aggressive therapy for DESNT-positive patients.\n",
    "- By combining **machine learning-based biomarker discovery** with **survival analysis**, we provide a powerful tool to move toward **precision medicine**—where treatment is tailored not just to disease presence, but to expected disease trajectory."
   ]
  },
  {
   "cell_type": "markdown",
   "id": "ca9db804",
   "metadata": {},
   "source": [
    "<div style=\"border: 2px solid #ddd; background-color: #f9f9f9; padding: 15px; margin: 10px 0; border-radius: 8px; color: #333;\">\n",
    "\n",
    "## Beyond Kaplan-Meier: Other Survival Analysis Methods\n",
    "\n",
    "While Kaplan-Meier curves and the log-rank test provide valuable insights into differences in survival between groups, they represent just one part of the survival analysis toolkit.\n",
    "\n",
    "### Alternative Approaches\n",
    "\n",
    "- **Cox Proportional Hazards Model**  \n",
    "  This is a popular regression-based method that allows us to:\n",
    "  - Assess the effect of multiple variables (e.g., biomarkers, clinical factors) on survival simultaneously.\n",
    "  - Estimate **hazard ratios**, which quantify how much a factor increases or decreases the risk of an event.\n",
    "  - Adjust for confounding variables, improving the precision of risk predictions.\n",
    "\n",
    "- **Other Hazards Models**  \n",
    "  These include parametric models and time-varying covariate models that can handle more complex survival data scenarios.\n",
    "\n",
    "### Why Consider These?\n",
    "\n",
    "Using these methods can deepen our understanding of how biomarkers and clinical features interact to influence patient outcomes over time, and provide more nuanced risk stratification for personalized treatment planning.\n",
    "\n",
    "---\n",
    "\n",
    "In future analyses, applying Cox modeling or other hazards models can complement Kaplan-Meier curves and help build predictive survival models tailored to individual patients.\n"
   ]
  }
 ],
 "metadata": {
  "kernelspec": {
   "display_name": "precision-course-env",
   "language": "python",
   "name": "python3"
  },
  "language_info": {
   "codemirror_mode": {
    "name": "ipython",
    "version": 3
   },
   "file_extension": ".py",
   "mimetype": "text/x-python",
   "name": "python",
   "nbconvert_exporter": "python",
   "pygments_lexer": "ipython3",
   "version": "3.9.21"
  }
 },
 "nbformat": 4,
 "nbformat_minor": 5
}
