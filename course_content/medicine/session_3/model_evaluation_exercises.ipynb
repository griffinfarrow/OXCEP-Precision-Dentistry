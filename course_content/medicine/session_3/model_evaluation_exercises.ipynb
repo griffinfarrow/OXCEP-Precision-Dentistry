{
 "cells": [
  {
   "cell_type": "markdown",
   "id": "3d9467a2",
   "metadata": {},
   "source": [
    "# Model Evaluation Exercise: Hyperparameter Tuning"
   ]
  },
  {
   "cell_type": "markdown",
   "id": "a011b2d9",
   "metadata": {},
   "source": [
    "In today's session, you learned about how to evaluate a model to determine whether it has good performance. In this exercise, you are going to use what you have learned in carrying out **hyperparameter tuning**.   \n",
    "  \n",
    "Hyperparameters are values in our machine learning model that we have to set, but that are not learned from the data. For example, when we used a random forest model, we used the following code: \n",
    "  \n",
    "```\n",
    "rf_model = RandomForestClassifier(n_estimators=100, random_state=42)\n",
    "``` \n",
    "  \n",
    "Here, `n_estimators` and `random_state` are the hyperparameters. We set them and give them values and the model changes depending on what those values are, but there is no way to directly *learn* the values from the data. `n_estimators` is the number of decision trees in our random forest and `random_state` is the \"seed\" used in random number generation, which guarantees our model will be reproducible."
   ]
  },
  {
   "cell_type": "markdown",
   "id": "8bf83688",
   "metadata": {},
   "source": [
    "In this notebook, you are going to vary the hyperparameters of your random forest model that you used to classify HNSC patients based on their HPV status. By carrying out multiple steps of model evaluation, you are going to build the most optimal random forest model that you can to solve this problem.  "
   ]
  },
  {
   "cell_type": "markdown",
   "id": "91fe01ea",
   "metadata": {},
   "source": [
    "If you get stuck at any point in this notebook, you can look at the `model_evaluation.ipynb` notebook that we went through in class for guidance or you can raise your hand and one of the course instructors will come over to help you"
   ]
  },
  {
   "cell_type": "markdown",
   "id": "65b5f7ae",
   "metadata": {},
   "source": [
    "## 1) Build a random forest classifier for the HPV status  \n",
    "  \n",
    "This is exactly the same as your homework task: you can copy and paste over the code needed to do this.  \n",
    "  \n",
    "  \n",
    "Remember you need to: \n",
    "- import libraries\n",
    "- read in data \n",
    "- split into features and outcome\n",
    "- train test split\n",
    "- build a random forest model"
   ]
  },
  {
   "cell_type": "code",
   "execution_count": null,
   "id": "0fdfbec1",
   "metadata": {
    "vscode": {
     "languageId": "plaintext"
    }
   },
   "outputs": [],
   "source": []
  },
  {
   "cell_type": "code",
   "execution_count": null,
   "id": "5be1045c",
   "metadata": {
    "vscode": {
     "languageId": "plaintext"
    }
   },
   "outputs": [],
   "source": []
  },
  {
   "cell_type": "code",
   "execution_count": null,
   "id": "d799a721",
   "metadata": {
    "vscode": {
     "languageId": "plaintext"
    }
   },
   "outputs": [],
   "source": []
  },
  {
   "cell_type": "code",
   "execution_count": null,
   "id": "fffe0b25",
   "metadata": {
    "vscode": {
     "languageId": "plaintext"
    }
   },
   "outputs": [],
   "source": []
  },
  {
   "cell_type": "code",
   "execution_count": null,
   "id": "196f45eb",
   "metadata": {
    "vscode": {
     "languageId": "plaintext"
    }
   },
   "outputs": [],
   "source": []
  },
  {
   "cell_type": "markdown",
   "id": "25535c9a",
   "metadata": {},
   "source": [
    "## 2) Now evaluate that model. \n",
    "  \n",
    "Some ways to evaluate the model that you might want to use are \n",
    "* accuracy \n",
    "* f1-score\n",
    "* the ROC curve\n",
    "* the area under the ROC curve"
   ]
  },
  {
   "cell_type": "code",
   "execution_count": null,
   "id": "015c3e24",
   "metadata": {
    "vscode": {
     "languageId": "plaintext"
    }
   },
   "outputs": [],
   "source": []
  },
  {
   "cell_type": "code",
   "execution_count": null,
   "id": "8890ed5a",
   "metadata": {
    "vscode": {
     "languageId": "plaintext"
    }
   },
   "outputs": [],
   "source": []
  },
  {
   "cell_type": "code",
   "execution_count": null,
   "id": "93822578",
   "metadata": {
    "vscode": {
     "languageId": "plaintext"
    }
   },
   "outputs": [],
   "source": []
  },
  {
   "cell_type": "code",
   "execution_count": null,
   "id": "56728cc9",
   "metadata": {
    "vscode": {
     "languageId": "plaintext"
    }
   },
   "outputs": [],
   "source": []
  },
  {
   "cell_type": "markdown",
   "id": "66829820",
   "metadata": {},
   "source": [
    "## 3) Now build a new model and evaluate it\n",
    "  \n",
    "Now, using the same data, try to build a new random forest model. You can change the hyperparameters any way that you want. The table below shows all of the hyperparameters and some example values that they can take.  \n",
    "  \n",
    "Once you've built the model, carry out model evaluation (as you did above) to see whether the model you have built is better or worse than the base model"
   ]
  },
  {
   "cell_type": "code",
   "execution_count": null,
   "id": "e33a1537",
   "metadata": {
    "vscode": {
     "languageId": "plaintext"
    }
   },
   "outputs": [],
   "source": []
  },
  {
   "cell_type": "code",
   "execution_count": null,
   "id": "e62de99a",
   "metadata": {
    "vscode": {
     "languageId": "plaintext"
    }
   },
   "outputs": [],
   "source": []
  },
  {
   "cell_type": "code",
   "execution_count": null,
   "id": "0b8877c9",
   "metadata": {
    "vscode": {
     "languageId": "plaintext"
    }
   },
   "outputs": [],
   "source": []
  },
  {
   "cell_type": "code",
   "execution_count": null,
   "id": "6b38c107",
   "metadata": {
    "vscode": {
     "languageId": "plaintext"
    }
   },
   "outputs": [],
   "source": []
  },
  {
   "cell_type": "code",
   "execution_count": null,
   "id": "1e884a4b",
   "metadata": {
    "vscode": {
     "languageId": "plaintext"
    }
   },
   "outputs": [],
   "source": []
  },
  {
   "cell_type": "markdown",
   "id": "4472ccbb",
   "metadata": {},
   "source": [
    "## 4) What about another set of hyperparameters?  \n",
    "  \n",
    "If you've got this far, how about trying to come up with another set of hyperparameters? How does that affect the model?  \n",
    "  \n",
    "In reality, hyperparameter optimisation for machine learning is an extremely long and tedious process! You try out hundreds of different sets of hyperparameters to build the best possible model. We are giving you a flavour of what that is like here. "
   ]
  },
  {
   "cell_type": "code",
   "execution_count": null,
   "id": "8dd8e15d",
   "metadata": {
    "vscode": {
     "languageId": "plaintext"
    }
   },
   "outputs": [],
   "source": []
  },
  {
   "cell_type": "code",
   "execution_count": null,
   "id": "ae7638bd",
   "metadata": {
    "vscode": {
     "languageId": "plaintext"
    }
   },
   "outputs": [],
   "source": []
  },
  {
   "cell_type": "markdown",
   "id": "839f14f2",
   "metadata": {},
   "source": [
    "### Bonus. \n",
    "  \n",
    "There is an error in what we have asked you to do in this notebook. Can you think what it might be?    \n",
    "It relates to the train-test splitting of models. Remember that the test set must stay independent and unseen, what have we done wrong here?"
   ]
  }
 ],
 "metadata": {
  "language_info": {
   "name": "python"
  }
 },
 "nbformat": 4,
 "nbformat_minor": 5
}
