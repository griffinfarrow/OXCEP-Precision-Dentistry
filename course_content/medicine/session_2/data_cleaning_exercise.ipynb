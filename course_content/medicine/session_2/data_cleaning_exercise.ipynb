{
 "cells": [
  {
   "cell_type": "markdown",
   "id": "9ebb29b2",
   "metadata": {},
   "source": [
    "<div style=\"border: 2px solid #ddd; background-color: #f9f9f9; padding: 15px; margin: 10px 0; border-radius: 8px; color: #333;\">\n",
    "\n",
    "# Data Cleaning Exercise\n",
    "\n",
    "In this exercise, you will be given a synthetic dataset that we have designed to be deliberately \"messy\". It has duplicates, missing values and mixed up types. Your task is to use the skills you learned in the `data_cleaning.ipynb` demonstration to try to clean up this data.  \n",
    "  \n",
    "If you get stuck at any point, then look back on that exercise notebook to remember how to analyse the data.  \n",
    "  \n",
    "**There are no wrong answers**. This notebook is not assessed in any way, and there is no one unique way to do data cleaning. This notebook is intended to help you practice data cleaning on some real world data."
   ]
  },
  {
   "cell_type": "code",
   "execution_count": null,
   "id": "1f88b420",
   "metadata": {},
   "outputs": [],
   "source": [
    "# First, we import the libraries that we are going to use \n",
    "\n",
    "import numpy as np \n",
    "import pandas as pd "
   ]
  },
  {
   "cell_type": "code",
   "execution_count": null,
   "id": "a4a20d65",
   "metadata": {},
   "outputs": [],
   "source": [
    "# this cell reads in our dataset\n",
    "\n",
    "df = pd.read_csv(\"dataset/synthetic_bad_patient_data.csv\")\n",
    "\n",
    "df"
   ]
  },
  {
   "cell_type": "markdown",
   "id": "21850625",
   "metadata": {},
   "source": [
    "<div style=\"border: 2px solid #ddd; background-color: #f9f9f9; padding: 15px; margin: 10px 0; border-radius: 8px; color: #333;\">\n",
    "\n",
    "### Data Exploration \n",
    "  \n",
    "The most important first step is to **explore** the data. We need to find out *what* is wrong with it.  \n",
    "  \n",
    "Try to answer the following questions:\n",
    "- How many patients are there?\n",
    "- What are the data types of each column?\n",
    "- How many missing values are there in each column?\n",
    "- Which columns should we just drop, because so many values are missing?"
   ]
  },
  {
   "cell_type": "markdown",
   "id": "3a369701",
   "metadata": {},
   "source": [
    "<div style=\"border: 2px solid #ddd; background-color: #f9f9f9; padding: 15px; margin: 10px 0; border-radius: 8px; color: #333;\">\n",
    "\n",
    "Hints: You may find these functions useful:\n",
    "- `df.isna().sum()` will tell you how many NaN values are in each column\n",
    "- `print(df.dtypes)` will tell you what data types each column is. Remember that an \"object\" is a column with mixed types and this is what we want to fix. \n",
    "  \n",
    "You can use the next few Python cells to do this analysis"
   ]
  },
  {
   "cell_type": "code",
   "execution_count": null,
   "id": "4dbc215e",
   "metadata": {},
   "outputs": [],
   "source": []
  },
  {
   "cell_type": "code",
   "execution_count": null,
   "id": "5bedc2e0",
   "metadata": {},
   "outputs": [],
   "source": []
  },
  {
   "cell_type": "code",
   "execution_count": null,
   "id": "fb5866d6",
   "metadata": {},
   "outputs": [],
   "source": []
  },
  {
   "cell_type": "code",
   "execution_count": null,
   "id": "6722cecd",
   "metadata": {},
   "outputs": [],
   "source": []
  },
  {
   "cell_type": "code",
   "execution_count": null,
   "id": "ae52c490",
   "metadata": {},
   "outputs": [],
   "source": []
  },
  {
   "cell_type": "code",
   "execution_count": null,
   "id": "90bed10e",
   "metadata": {},
   "outputs": [],
   "source": []
  },
  {
   "cell_type": "markdown",
   "id": "000b15fb",
   "metadata": {},
   "source": [
    "<div style=\"border: 2px solid #ddd; background-color: #f9f9f9; padding: 15px; margin: 10px 0; border-radius: 8px; color: #333;\">\n",
    "\n",
    "### 1) De-duplication. \n",
    "  \n",
    "The first thing that is useful to do is drop any duplicates. Do you remember how to do this?  \n",
    "  \n",
    "Do it in the cell below:"
   ]
  },
  {
   "cell_type": "code",
   "execution_count": null,
   "id": "873aa03d",
   "metadata": {},
   "outputs": [],
   "source": []
  },
  {
   "cell_type": "markdown",
   "id": "2e41f011",
   "metadata": {},
   "source": [
    "<div style=\"border: 2px solid #ddd; background-color: #f9f9f9; padding: 15px; margin: 10px 0; border-radius: 8px; color: #333;\">\n",
    "\n",
    "### 2) Dropping any columns\n",
    "  \n",
    "Are there any columns that we should consider dropping? Why?   \n",
    "  \n",
    "Use the cells below to drop any columns you feel you need to:"
   ]
  },
  {
   "cell_type": "code",
   "execution_count": null,
   "id": "ecda5075",
   "metadata": {},
   "outputs": [],
   "source": []
  },
  {
   "cell_type": "code",
   "execution_count": null,
   "id": "12f4a77f",
   "metadata": {},
   "outputs": [],
   "source": []
  },
  {
   "cell_type": "code",
   "execution_count": null,
   "id": "eec311c9",
   "metadata": {},
   "outputs": [],
   "source": []
  },
  {
   "cell_type": "code",
   "execution_count": null,
   "id": "c908fb08",
   "metadata": {},
   "outputs": [],
   "source": []
  },
  {
   "cell_type": "code",
   "execution_count": null,
   "id": "0e144813",
   "metadata": {},
   "outputs": [],
   "source": []
  },
  {
   "cell_type": "markdown",
   "id": "86e7af1b",
   "metadata": {},
   "source": [
    "<div style=\"border: 2px solid #ddd; background-color: #f9f9f9; padding: 15px; margin: 10px 0; border-radius: 8px; color: #333;\">\n",
    "\n",
    "### 3) Missing Value Imputation\n",
    "  \n",
    "Do you still have any missing values? How could you check?  \n",
    "  \n",
    "If you still have some, you could consider using \"mean value imputation\", \"median value imputation\" or some other variant of your choice. It is totally up to you! Make sure you document what you did and why: try to explain your choices "
   ]
  },
  {
   "cell_type": "code",
   "execution_count": null,
   "id": "923e07ce",
   "metadata": {},
   "outputs": [],
   "source": []
  },
  {
   "cell_type": "code",
   "execution_count": null,
   "id": "fb0b02bb",
   "metadata": {},
   "outputs": [],
   "source": []
  },
  {
   "cell_type": "code",
   "execution_count": null,
   "id": "f761ea87",
   "metadata": {},
   "outputs": [],
   "source": []
  },
  {
   "cell_type": "code",
   "execution_count": null,
   "id": "f9ccfbb4",
   "metadata": {},
   "outputs": [],
   "source": []
  },
  {
   "cell_type": "code",
   "execution_count": null,
   "id": "ca05fd6b",
   "metadata": {},
   "outputs": [],
   "source": []
  },
  {
   "cell_type": "code",
   "execution_count": null,
   "id": "06047223",
   "metadata": {},
   "outputs": [],
   "source": []
  },
  {
   "cell_type": "code",
   "execution_count": null,
   "id": "c97c6ce8",
   "metadata": {},
   "outputs": [],
   "source": []
  }
 ],
 "metadata": {
  "kernelspec": {
   "display_name": "precision-course-env",
   "language": "python",
   "name": "python3"
  },
  "language_info": {
   "codemirror_mode": {
    "name": "ipython",
    "version": 3
   },
   "file_extension": ".py",
   "mimetype": "text/x-python",
   "name": "python",
   "nbconvert_exporter": "python",
   "pygments_lexer": "ipython3",
   "version": "3.9.21"
  }
 },
 "nbformat": 4,
 "nbformat_minor": 5
}
