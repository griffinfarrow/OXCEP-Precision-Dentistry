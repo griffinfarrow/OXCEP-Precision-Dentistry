{
 "cells": [
  {
   "cell_type": "markdown",
   "metadata": {},
   "source": [
    "# Data Science for Personalized Medicine\n",
    "## Introduction to Jupyter Notebooks, Pandas, and Machine Learning\n",
    "\n",
    "This notebook demonstrates the fundamental concepts of data science applied to personalized medicine. We'll cover:\n",
    "\n",
    "1. **Reading data** with pandas\n",
    "2. **Exploring and filtering** patient data\n",
    "3. **Visualizing** clinical patterns\n",
    "4. **Training a Random Forest model** to predict treatment outcomes\n",
    "\n",
    "---"
   ]
  },
  {
   "cell_type": "markdown",
   "metadata": {},
   "source": [
    "## 1. Import Required Libraries\n",
    "\n",
    "First, we'll import the essential libraries for data science in healthcare.  \n",
    "  \n",
    "If you've used R before, this is the same as `library(dplyr)`"
   ]
  },
  {
   "cell_type": "code",
   "execution_count": 2,
   "metadata": {},
   "outputs": [
    {
     "name": "stdout",
     "output_type": "stream",
     "text": [
      "Libraries imported successfully!\n"
     ]
    }
   ],
   "source": [
    "# Data manipulation and analysis\n",
    "import pandas as pd\n",
    "import numpy as np\n",
    "\n",
    "# Data visualization\n",
    "import matplotlib.pyplot as plt\n",
    "\n",
    "# Machine learning\n",
    "from sklearn.ensemble import RandomForestClassifier\n",
    "from sklearn.model_selection import train_test_split\n",
    "from sklearn.metrics import classification_report, confusion_matrix, accuracy_score\n",
    "from sklearn.preprocessing import LabelEncoder\n",
    "\n",
    "# Set random seed for reproducibility\n",
    "np.random.seed(42)\n",
    "\n",
    "print(\"Libraries imported successfully!\")"
   ]
  },
  {
   "cell_type": "markdown",
   "metadata": {},
   "source": [
    "## 2. Create Synthetic Patient Data\n",
    "\n",
    "For this demonstration, we'll create a synthetic dataset representing patients with cardiovascular conditions. In practice, you would load real clinical data from CSV files, databases, or electronic health records.  \n",
    "  \n",
    "You can skip this cell if you only want to see the final dataset and aren't interested in how we produce it. "
   ]
  },
  {
   "cell_type": "code",
   "execution_count": 3,
   "metadata": {},
   "outputs": [
    {
     "name": "stdout",
     "output_type": "stream",
     "text": [
      "Created dataset with 1000 patients\n",
      "Columns: ['patient_id', 'age', 'gender', 'bmi', 'systolic_bp', 'diastolic_bp', 'cholesterol', 'glucose', 'smoking', 'family_history', 'exercise_hours_week', 'treatment_outcome']\n"
     ]
    }
   ],
   "source": [
    "# Create synthetic patient data\n",
    "np.random.seed(42)\n",
    "n_patients = 1000\n",
    "\n",
    "# Generate patient demographics and clinical measurements\n",
    "patient_data = {\n",
    "    'patient_id': range(1, n_patients + 1),\n",
    "    'age': np.random.normal(65, 12, n_patients).astype(int),\n",
    "    'gender': np.random.choice(['Male', 'Female'], n_patients),\n",
    "    'bmi': np.random.normal(28, 5, n_patients),\n",
    "    'systolic_bp': np.random.normal(140, 20, n_patients),\n",
    "    'diastolic_bp': np.random.normal(90, 10, n_patients),\n",
    "    'cholesterol': np.random.normal(220, 40, n_patients),\n",
    "    'glucose': np.random.normal(120, 30, n_patients),\n",
    "    'smoking': np.random.choice(['Never', 'Former', 'Current'], n_patients, p=[0.5, 0.3, 0.2]),\n",
    "    'family_history': np.random.choice(['Yes', 'No'], n_patients, p=[0.3, 0.7]),\n",
    "    'exercise_hours_week': np.random.exponential(2, n_patients)\n",
    "}\n",
    "\n",
    "# Create DataFrame\n",
    "df = pd.DataFrame(patient_data)\n",
    "\n",
    "# Ensure realistic ranges\n",
    "df['age'] = np.clip(df['age'], 18, 95)\n",
    "df['bmi'] = np.clip(df['bmi'], 15, 50)\n",
    "df['systolic_bp'] = np.clip(df['systolic_bp'], 90, 200)\n",
    "df['diastolic_bp'] = np.clip(df['diastolic_bp'], 60, 120)\n",
    "df['cholesterol'] = np.clip(df['cholesterol'], 120, 350)\n",
    "df['glucose'] = np.clip(df['glucose'], 70, 250)\n",
    "df['exercise_hours_week'] = np.clip(df['exercise_hours_week'], 0, 15)\n",
    "\n",
    "# Create treatment outcome based on risk factors (this simulates real-world relationships)\n",
    "# Higher risk = lower probability of positive treatment outcome\n",
    "risk_score = (\n",
    "    (df['age'] > 70) * 0.2 +\n",
    "    (df['bmi'] > 30) * 0.15 +\n",
    "    (df['systolic_bp'] > 150) * 0.2 +\n",
    "    (df['cholesterol'] > 240) * 0.15 +\n",
    "    (df['smoking'] == 'Current') * 0.25 +\n",
    "    (df['family_history'] == 'Yes') * 0.1 +\n",
    "    (df['exercise_hours_week'] < 1) * 0.1\n",
    ")\n",
    "\n",
    "# Convert risk score to treatment outcome (0 = Poor, 1 = Good)\n",
    "treatment_probability = 1 / (1 + np.exp(5 * (risk_score - 0.5)))  # Logistic function\n",
    "df['treatment_outcome'] = np.random.binomial(1, treatment_probability, n_patients)\n",
    "df['treatment_outcome'] = df['treatment_outcome'].map({0: 'Poor', 1: 'Good'})\n",
    "\n",
    "print(f\"Created dataset with {len(df)} patients\")\n",
    "print(f\"Columns: {list(df.columns)}\")"
   ]
  },
  {
   "cell_type": "markdown",
   "metadata": {},
   "source": [
    "## 3. Reading and Exploring Data with Pandas\n",
    "\n",
    "Now let's explore our dataset using pandas - the fundamental tool for data manipulation in Python."
   ]
  },
  {
   "cell_type": "code",
   "execution_count": 4,
   "metadata": {},
   "outputs": [
    {
     "name": "stdout",
     "output_type": "stream",
     "text": [
      "Dataset Shape: (1000, 12)\n"
     ]
    }
   ],
   "source": [
    "# Display basic information about the dataset\n",
    "print(\"Dataset Shape:\", df.shape)\n"
   ]
  },
  {
   "cell_type": "code",
   "execution_count": 5,
   "metadata": {},
   "outputs": [
    {
     "name": "stdout",
     "output_type": "stream",
     "text": [
      "\n",
      "First 5 rows:\n"
     ]
    },
    {
     "data": {
      "text/html": [
       "<div>\n",
       "<style scoped>\n",
       "    .dataframe tbody tr th:only-of-type {\n",
       "        vertical-align: middle;\n",
       "    }\n",
       "\n",
       "    .dataframe tbody tr th {\n",
       "        vertical-align: top;\n",
       "    }\n",
       "\n",
       "    .dataframe thead th {\n",
       "        text-align: right;\n",
       "    }\n",
       "</style>\n",
       "<table border=\"1\" class=\"dataframe\">\n",
       "  <thead>\n",
       "    <tr style=\"text-align: right;\">\n",
       "      <th></th>\n",
       "      <th>patient_id</th>\n",
       "      <th>age</th>\n",
       "      <th>gender</th>\n",
       "      <th>bmi</th>\n",
       "      <th>systolic_bp</th>\n",
       "      <th>diastolic_bp</th>\n",
       "      <th>cholesterol</th>\n",
       "      <th>glucose</th>\n",
       "      <th>smoking</th>\n",
       "      <th>family_history</th>\n",
       "      <th>exercise_hours_week</th>\n",
       "      <th>treatment_outcome</th>\n",
       "    </tr>\n",
       "  </thead>\n",
       "  <tbody>\n",
       "    <tr>\n",
       "      <th>0</th>\n",
       "      <td>1</td>\n",
       "      <td>70</td>\n",
       "      <td>Male</td>\n",
       "      <td>26.173392</td>\n",
       "      <td>138.331241</td>\n",
       "      <td>109.725422</td>\n",
       "      <td>253.586555</td>\n",
       "      <td>77.668295</td>\n",
       "      <td>Former</td>\n",
       "      <td>No</td>\n",
       "      <td>0.216361</td>\n",
       "      <td>Poor</td>\n",
       "    </tr>\n",
       "    <tr>\n",
       "      <th>1</th>\n",
       "      <td>2</td>\n",
       "      <td>63</td>\n",
       "      <td>Female</td>\n",
       "      <td>28.923402</td>\n",
       "      <td>111.007096</td>\n",
       "      <td>76.140121</td>\n",
       "      <td>165.699298</td>\n",
       "      <td>144.094642</td>\n",
       "      <td>Never</td>\n",
       "      <td>No</td>\n",
       "      <td>1.896558</td>\n",
       "      <td>Good</td>\n",
       "    </tr>\n",
       "    <tr>\n",
       "      <th>2</th>\n",
       "      <td>3</td>\n",
       "      <td>72</td>\n",
       "      <td>Male</td>\n",
       "      <td>21.264369</td>\n",
       "      <td>121.562804</td>\n",
       "      <td>95.055892</td>\n",
       "      <td>183.973145</td>\n",
       "      <td>127.188826</td>\n",
       "      <td>Never</td>\n",
       "      <td>No</td>\n",
       "      <td>0.197896</td>\n",
       "      <td>Poor</td>\n",
       "    </tr>\n",
       "    <tr>\n",
       "      <th>3</th>\n",
       "      <td>4</td>\n",
       "      <td>83</td>\n",
       "      <td>Female</td>\n",
       "      <td>23.141930</td>\n",
       "      <td>119.920853</td>\n",
       "      <td>104.891131</td>\n",
       "      <td>181.431997</td>\n",
       "      <td>141.991628</td>\n",
       "      <td>Former</td>\n",
       "      <td>No</td>\n",
       "      <td>2.807144</td>\n",
       "      <td>Good</td>\n",
       "    </tr>\n",
       "    <tr>\n",
       "      <th>4</th>\n",
       "      <td>5</td>\n",
       "      <td>62</td>\n",
       "      <td>Male</td>\n",
       "      <td>34.002070</td>\n",
       "      <td>144.145347</td>\n",
       "      <td>112.714497</td>\n",
       "      <td>263.202242</td>\n",
       "      <td>70.000000</td>\n",
       "      <td>Never</td>\n",
       "      <td>No</td>\n",
       "      <td>0.041448</td>\n",
       "      <td>Poor</td>\n",
       "    </tr>\n",
       "  </tbody>\n",
       "</table>\n",
       "</div>"
      ],
      "text/plain": [
       "   patient_id  age  gender        bmi  systolic_bp  diastolic_bp  cholesterol  \\\n",
       "0           1   70    Male  26.173392   138.331241    109.725422   253.586555   \n",
       "1           2   63  Female  28.923402   111.007096     76.140121   165.699298   \n",
       "2           3   72    Male  21.264369   121.562804     95.055892   183.973145   \n",
       "3           4   83  Female  23.141930   119.920853    104.891131   181.431997   \n",
       "4           5   62    Male  34.002070   144.145347    112.714497   263.202242   \n",
       "\n",
       "      glucose smoking family_history  exercise_hours_week treatment_outcome  \n",
       "0   77.668295  Former             No             0.216361              Poor  \n",
       "1  144.094642   Never             No             1.896558              Good  \n",
       "2  127.188826   Never             No             0.197896              Poor  \n",
       "3  141.991628  Former             No             2.807144              Good  \n",
       "4   70.000000   Never             No             0.041448              Poor  "
      ]
     },
     "execution_count": 5,
     "metadata": {},
     "output_type": "execute_result"
    }
   ],
   "source": [
    "print(\"\\nFirst 5 rows:\")\n",
    "df.head()"
   ]
  },
  {
   "cell_type": "code",
   "execution_count": 6,
   "metadata": {},
   "outputs": [
    {
     "name": "stdout",
     "output_type": "stream",
     "text": [
      "Summary Statistics:\n"
     ]
    },
    {
     "data": {
      "text/html": [
       "<div>\n",
       "<style scoped>\n",
       "    .dataframe tbody tr th:only-of-type {\n",
       "        vertical-align: middle;\n",
       "    }\n",
       "\n",
       "    .dataframe tbody tr th {\n",
       "        vertical-align: top;\n",
       "    }\n",
       "\n",
       "    .dataframe thead th {\n",
       "        text-align: right;\n",
       "    }\n",
       "</style>\n",
       "<table border=\"1\" class=\"dataframe\">\n",
       "  <thead>\n",
       "    <tr style=\"text-align: right;\">\n",
       "      <th></th>\n",
       "      <th>patient_id</th>\n",
       "      <th>age</th>\n",
       "      <th>bmi</th>\n",
       "      <th>systolic_bp</th>\n",
       "      <th>diastolic_bp</th>\n",
       "      <th>cholesterol</th>\n",
       "      <th>glucose</th>\n",
       "      <th>exercise_hours_week</th>\n",
       "    </tr>\n",
       "  </thead>\n",
       "  <tbody>\n",
       "    <tr>\n",
       "      <th>count</th>\n",
       "      <td>1000.000000</td>\n",
       "      <td>1000.000000</td>\n",
       "      <td>1000.000000</td>\n",
       "      <td>1000.000000</td>\n",
       "      <td>1000.000000</td>\n",
       "      <td>1000.000000</td>\n",
       "      <td>1000.000000</td>\n",
       "      <td>1000.000000</td>\n",
       "    </tr>\n",
       "    <tr>\n",
       "      <th>mean</th>\n",
       "      <td>500.500000</td>\n",
       "      <td>64.717000</td>\n",
       "      <td>28.155972</td>\n",
       "      <td>140.087859</td>\n",
       "      <td>89.535834</td>\n",
       "      <td>219.454459</td>\n",
       "      <td>119.757603</td>\n",
       "      <td>2.017600</td>\n",
       "    </tr>\n",
       "    <tr>\n",
       "      <th>std</th>\n",
       "      <td>288.819436</td>\n",
       "      <td>11.674125</td>\n",
       "      <td>4.899528</td>\n",
       "      <td>19.979528</td>\n",
       "      <td>10.108710</td>\n",
       "      <td>39.205808</td>\n",
       "      <td>29.095575</td>\n",
       "      <td>1.919296</td>\n",
       "    </tr>\n",
       "    <tr>\n",
       "      <th>min</th>\n",
       "      <td>1.000000</td>\n",
       "      <td>26.000000</td>\n",
       "      <td>15.000000</td>\n",
       "      <td>90.000000</td>\n",
       "      <td>60.000000</td>\n",
       "      <td>120.000000</td>\n",
       "      <td>70.000000</td>\n",
       "      <td>0.004286</td>\n",
       "    </tr>\n",
       "    <tr>\n",
       "      <th>25%</th>\n",
       "      <td>250.750000</td>\n",
       "      <td>57.000000</td>\n",
       "      <td>24.893510</td>\n",
       "      <td>125.795433</td>\n",
       "      <td>82.849786</td>\n",
       "      <td>192.809278</td>\n",
       "      <td>99.837550</td>\n",
       "      <td>0.614676</td>\n",
       "    </tr>\n",
       "    <tr>\n",
       "      <th>50%</th>\n",
       "      <td>500.500000</td>\n",
       "      <td>65.000000</td>\n",
       "      <td>28.083845</td>\n",
       "      <td>140.070712</td>\n",
       "      <td>89.596407</td>\n",
       "      <td>219.718642</td>\n",
       "      <td>118.632253</td>\n",
       "      <td>1.437502</td>\n",
       "    </tr>\n",
       "    <tr>\n",
       "      <th>75%</th>\n",
       "      <td>750.250000</td>\n",
       "      <td>72.000000</td>\n",
       "      <td>31.421283</td>\n",
       "      <td>153.647426</td>\n",
       "      <td>95.854506</td>\n",
       "      <td>246.515244</td>\n",
       "      <td>140.395475</td>\n",
       "      <td>2.845803</td>\n",
       "    </tr>\n",
       "    <tr>\n",
       "      <th>max</th>\n",
       "      <td>1000.000000</td>\n",
       "      <td>95.000000</td>\n",
       "      <td>43.965538</td>\n",
       "      <td>200.000000</td>\n",
       "      <td>120.000000</td>\n",
       "      <td>344.516408</td>\n",
       "      <td>212.948983</td>\n",
       "      <td>15.000000</td>\n",
       "    </tr>\n",
       "  </tbody>\n",
       "</table>\n",
       "</div>"
      ],
      "text/plain": [
       "        patient_id          age          bmi  systolic_bp  diastolic_bp  \\\n",
       "count  1000.000000  1000.000000  1000.000000  1000.000000   1000.000000   \n",
       "mean    500.500000    64.717000    28.155972   140.087859     89.535834   \n",
       "std     288.819436    11.674125     4.899528    19.979528     10.108710   \n",
       "min       1.000000    26.000000    15.000000    90.000000     60.000000   \n",
       "25%     250.750000    57.000000    24.893510   125.795433     82.849786   \n",
       "50%     500.500000    65.000000    28.083845   140.070712     89.596407   \n",
       "75%     750.250000    72.000000    31.421283   153.647426     95.854506   \n",
       "max    1000.000000    95.000000    43.965538   200.000000    120.000000   \n",
       "\n",
       "       cholesterol      glucose  exercise_hours_week  \n",
       "count  1000.000000  1000.000000          1000.000000  \n",
       "mean    219.454459   119.757603             2.017600  \n",
       "std      39.205808    29.095575             1.919296  \n",
       "min     120.000000    70.000000             0.004286  \n",
       "25%     192.809278    99.837550             0.614676  \n",
       "50%     219.718642   118.632253             1.437502  \n",
       "75%     246.515244   140.395475             2.845803  \n",
       "max     344.516408   212.948983            15.000000  "
      ]
     },
     "execution_count": 6,
     "metadata": {},
     "output_type": "execute_result"
    }
   ],
   "source": [
    "# Get summary statistics\n",
    "print(\"Summary Statistics:\")\n",
    "df.describe()"
   ]
  },
  {
   "cell_type": "code",
   "execution_count": 7,
   "metadata": {},
   "outputs": [
    {
     "name": "stdout",
     "output_type": "stream",
     "text": [
      "Data Types and Missing Values:\n",
      "<class 'pandas.core.frame.DataFrame'>\n",
      "RangeIndex: 1000 entries, 0 to 999\n",
      "Data columns (total 12 columns):\n",
      " #   Column               Non-Null Count  Dtype  \n",
      "---  ------               --------------  -----  \n",
      " 0   patient_id           1000 non-null   int64  \n",
      " 1   age                  1000 non-null   int64  \n",
      " 2   gender               1000 non-null   object \n",
      " 3   bmi                  1000 non-null   float64\n",
      " 4   systolic_bp          1000 non-null   float64\n",
      " 5   diastolic_bp         1000 non-null   float64\n",
      " 6   cholesterol          1000 non-null   float64\n",
      " 7   glucose              1000 non-null   float64\n",
      " 8   smoking              1000 non-null   object \n",
      " 9   family_history       1000 non-null   object \n",
      " 10  exercise_hours_week  1000 non-null   float64\n",
      " 11  treatment_outcome    1000 non-null   object \n",
      "dtypes: float64(6), int64(2), object(4)\n",
      "memory usage: 93.9+ KB\n",
      "None\n"
     ]
    }
   ],
   "source": [
    "# Check data types and missing values\n",
    "print(\"Data Types and Missing Values:\")\n",
    "print(df.info())\n",
    "\n"
   ]
  },
  {
   "cell_type": "code",
   "execution_count": 8,
   "metadata": {},
   "outputs": [
    {
     "name": "stdout",
     "output_type": "stream",
     "text": [
      "\n",
      "Missing values per column:\n",
      "patient_id             0\n",
      "age                    0\n",
      "gender                 0\n",
      "bmi                    0\n",
      "systolic_bp            0\n",
      "diastolic_bp           0\n",
      "cholesterol            0\n",
      "glucose                0\n",
      "smoking                0\n",
      "family_history         0\n",
      "exercise_hours_week    0\n",
      "treatment_outcome      0\n",
      "dtype: int64\n"
     ]
    }
   ],
   "source": [
    "print(\"\\nMissing values per column:\")\n",
    "print(df.isnull().sum())"
   ]
  },
  {
   "cell_type": "markdown",
   "metadata": {},
   "source": [
    "## 4. Filtering and Viewing Data\n",
    "\n",
    "Let's learn how to filter and subset our patient data based on clinical criteria.  \n",
    "  \n",
    "Again, this is similar to the way that dataframes are manipulated in R"
   ]
  },
  {
   "cell_type": "code",
   "execution_count": 9,
   "metadata": {},
   "outputs": [
    {
     "name": "stdout",
     "output_type": "stream",
     "text": [
      "Number of elderly patients (≥70 years): 330\n",
      "\n",
      "First 5 elderly patients:\n"
     ]
    },
    {
     "data": {
      "text/html": [
       "<div>\n",
       "<style scoped>\n",
       "    .dataframe tbody tr th:only-of-type {\n",
       "        vertical-align: middle;\n",
       "    }\n",
       "\n",
       "    .dataframe tbody tr th {\n",
       "        vertical-align: top;\n",
       "    }\n",
       "\n",
       "    .dataframe thead th {\n",
       "        text-align: right;\n",
       "    }\n",
       "</style>\n",
       "<table border=\"1\" class=\"dataframe\">\n",
       "  <thead>\n",
       "    <tr style=\"text-align: right;\">\n",
       "      <th></th>\n",
       "      <th>patient_id</th>\n",
       "      <th>age</th>\n",
       "      <th>gender</th>\n",
       "      <th>bmi</th>\n",
       "      <th>systolic_bp</th>\n",
       "      <th>diastolic_bp</th>\n",
       "      <th>cholesterol</th>\n",
       "      <th>glucose</th>\n",
       "      <th>smoking</th>\n",
       "      <th>family_history</th>\n",
       "      <th>exercise_hours_week</th>\n",
       "      <th>treatment_outcome</th>\n",
       "    </tr>\n",
       "  </thead>\n",
       "  <tbody>\n",
       "    <tr>\n",
       "      <th>0</th>\n",
       "      <td>1</td>\n",
       "      <td>70</td>\n",
       "      <td>Male</td>\n",
       "      <td>26.173392</td>\n",
       "      <td>138.331241</td>\n",
       "      <td>109.725422</td>\n",
       "      <td>253.586555</td>\n",
       "      <td>77.668295</td>\n",
       "      <td>Former</td>\n",
       "      <td>No</td>\n",
       "      <td>0.216361</td>\n",
       "      <td>Poor</td>\n",
       "    </tr>\n",
       "    <tr>\n",
       "      <th>2</th>\n",
       "      <td>3</td>\n",
       "      <td>72</td>\n",
       "      <td>Male</td>\n",
       "      <td>21.264369</td>\n",
       "      <td>121.562804</td>\n",
       "      <td>95.055892</td>\n",
       "      <td>183.973145</td>\n",
       "      <td>127.188826</td>\n",
       "      <td>Never</td>\n",
       "      <td>No</td>\n",
       "      <td>0.197896</td>\n",
       "      <td>Poor</td>\n",
       "    </tr>\n",
       "    <tr>\n",
       "      <th>3</th>\n",
       "      <td>4</td>\n",
       "      <td>83</td>\n",
       "      <td>Female</td>\n",
       "      <td>23.141930</td>\n",
       "      <td>119.920853</td>\n",
       "      <td>104.891131</td>\n",
       "      <td>181.431997</td>\n",
       "      <td>141.991628</td>\n",
       "      <td>Former</td>\n",
       "      <td>No</td>\n",
       "      <td>2.807144</td>\n",
       "      <td>Good</td>\n",
       "    </tr>\n",
       "    <tr>\n",
       "      <th>6</th>\n",
       "      <td>7</td>\n",
       "      <td>83</td>\n",
       "      <td>Male</td>\n",
       "      <td>22.765445</td>\n",
       "      <td>125.565249</td>\n",
       "      <td>94.914295</td>\n",
       "      <td>239.492209</td>\n",
       "      <td>84.367043</td>\n",
       "      <td>Never</td>\n",
       "      <td>No</td>\n",
       "      <td>4.426708</td>\n",
       "      <td>Good</td>\n",
       "    </tr>\n",
       "    <tr>\n",
       "      <th>7</th>\n",
       "      <td>8</td>\n",
       "      <td>74</td>\n",
       "      <td>Male</td>\n",
       "      <td>30.683264</td>\n",
       "      <td>143.536417</td>\n",
       "      <td>95.697604</td>\n",
       "      <td>262.877195</td>\n",
       "      <td>108.080302</td>\n",
       "      <td>Former</td>\n",
       "      <td>No</td>\n",
       "      <td>2.535468</td>\n",
       "      <td>Good</td>\n",
       "    </tr>\n",
       "  </tbody>\n",
       "</table>\n",
       "</div>"
      ],
      "text/plain": [
       "   patient_id  age  gender        bmi  systolic_bp  diastolic_bp  cholesterol  \\\n",
       "0           1   70    Male  26.173392   138.331241    109.725422   253.586555   \n",
       "2           3   72    Male  21.264369   121.562804     95.055892   183.973145   \n",
       "3           4   83  Female  23.141930   119.920853    104.891131   181.431997   \n",
       "6           7   83    Male  22.765445   125.565249     94.914295   239.492209   \n",
       "7           8   74    Male  30.683264   143.536417     95.697604   262.877195   \n",
       "\n",
       "      glucose smoking family_history  exercise_hours_week treatment_outcome  \n",
       "0   77.668295  Former             No             0.216361              Poor  \n",
       "2  127.188826   Never             No             0.197896              Poor  \n",
       "3  141.991628  Former             No             2.807144              Good  \n",
       "6   84.367043   Never             No             4.426708              Good  \n",
       "7  108.080302  Former             No             2.535468              Good  "
      ]
     },
     "execution_count": 9,
     "metadata": {},
     "output_type": "execute_result"
    }
   ],
   "source": [
    "# Filter patients by age group\n",
    "elderly_patients = df[df['age'] >= 70]\n",
    "print(f\"Number of elderly patients (≥70 years): {len(elderly_patients)}\")\n",
    "\n",
    "# Display first few elderly patients\n",
    "print(\"\\nFirst 5 elderly patients:\")\n",
    "elderly_patients.head()"
   ]
  },
  {
   "cell_type": "code",
   "execution_count": 10,
   "metadata": {},
   "outputs": [
    {
     "name": "stdout",
     "output_type": "stream",
     "text": [
      "Number of male patients: 489\n",
      "\n",
      "First 5 male patients:\n"
     ]
    },
    {
     "data": {
      "text/html": [
       "<div>\n",
       "<style scoped>\n",
       "    .dataframe tbody tr th:only-of-type {\n",
       "        vertical-align: middle;\n",
       "    }\n",
       "\n",
       "    .dataframe tbody tr th {\n",
       "        vertical-align: top;\n",
       "    }\n",
       "\n",
       "    .dataframe thead th {\n",
       "        text-align: right;\n",
       "    }\n",
       "</style>\n",
       "<table border=\"1\" class=\"dataframe\">\n",
       "  <thead>\n",
       "    <tr style=\"text-align: right;\">\n",
       "      <th></th>\n",
       "      <th>patient_id</th>\n",
       "      <th>age</th>\n",
       "      <th>gender</th>\n",
       "      <th>bmi</th>\n",
       "      <th>systolic_bp</th>\n",
       "      <th>diastolic_bp</th>\n",
       "      <th>cholesterol</th>\n",
       "      <th>glucose</th>\n",
       "      <th>smoking</th>\n",
       "      <th>family_history</th>\n",
       "      <th>exercise_hours_week</th>\n",
       "      <th>treatment_outcome</th>\n",
       "    </tr>\n",
       "  </thead>\n",
       "  <tbody>\n",
       "    <tr>\n",
       "      <th>0</th>\n",
       "      <td>1</td>\n",
       "      <td>70</td>\n",
       "      <td>Male</td>\n",
       "      <td>26.173392</td>\n",
       "      <td>138.331241</td>\n",
       "      <td>109.725422</td>\n",
       "      <td>253.586555</td>\n",
       "      <td>77.668295</td>\n",
       "      <td>Former</td>\n",
       "      <td>No</td>\n",
       "      <td>0.216361</td>\n",
       "      <td>Poor</td>\n",
       "    </tr>\n",
       "    <tr>\n",
       "      <th>2</th>\n",
       "      <td>3</td>\n",
       "      <td>72</td>\n",
       "      <td>Male</td>\n",
       "      <td>21.264369</td>\n",
       "      <td>121.562804</td>\n",
       "      <td>95.055892</td>\n",
       "      <td>183.973145</td>\n",
       "      <td>127.188826</td>\n",
       "      <td>Never</td>\n",
       "      <td>No</td>\n",
       "      <td>0.197896</td>\n",
       "      <td>Poor</td>\n",
       "    </tr>\n",
       "    <tr>\n",
       "      <th>4</th>\n",
       "      <td>5</td>\n",
       "      <td>62</td>\n",
       "      <td>Male</td>\n",
       "      <td>34.002070</td>\n",
       "      <td>144.145347</td>\n",
       "      <td>112.714497</td>\n",
       "      <td>263.202242</td>\n",
       "      <td>70.000000</td>\n",
       "      <td>Never</td>\n",
       "      <td>No</td>\n",
       "      <td>0.041448</td>\n",
       "      <td>Poor</td>\n",
       "    </tr>\n",
       "    <tr>\n",
       "      <th>5</th>\n",
       "      <td>6</td>\n",
       "      <td>62</td>\n",
       "      <td>Male</td>\n",
       "      <td>24.715529</td>\n",
       "      <td>141.386887</td>\n",
       "      <td>85.956026</td>\n",
       "      <td>257.711541</td>\n",
       "      <td>129.344726</td>\n",
       "      <td>Former</td>\n",
       "      <td>No</td>\n",
       "      <td>0.573700</td>\n",
       "      <td>Good</td>\n",
       "    </tr>\n",
       "    <tr>\n",
       "      <th>6</th>\n",
       "      <td>7</td>\n",
       "      <td>83</td>\n",
       "      <td>Male</td>\n",
       "      <td>22.765445</td>\n",
       "      <td>125.565249</td>\n",
       "      <td>94.914295</td>\n",
       "      <td>239.492209</td>\n",
       "      <td>84.367043</td>\n",
       "      <td>Never</td>\n",
       "      <td>No</td>\n",
       "      <td>4.426708</td>\n",
       "      <td>Good</td>\n",
       "    </tr>\n",
       "  </tbody>\n",
       "</table>\n",
       "</div>"
      ],
      "text/plain": [
       "   patient_id  age gender        bmi  systolic_bp  diastolic_bp  cholesterol  \\\n",
       "0           1   70   Male  26.173392   138.331241    109.725422   253.586555   \n",
       "2           3   72   Male  21.264369   121.562804     95.055892   183.973145   \n",
       "4           5   62   Male  34.002070   144.145347    112.714497   263.202242   \n",
       "5           6   62   Male  24.715529   141.386887     85.956026   257.711541   \n",
       "6           7   83   Male  22.765445   125.565249     94.914295   239.492209   \n",
       "\n",
       "      glucose smoking family_history  exercise_hours_week treatment_outcome  \n",
       "0   77.668295  Former             No             0.216361              Poor  \n",
       "2  127.188826   Never             No             0.197896              Poor  \n",
       "4   70.000000   Never             No             0.041448              Poor  \n",
       "5  129.344726  Former             No             0.573700              Good  \n",
       "6   84.367043   Never             No             4.426708              Good  "
      ]
     },
     "execution_count": 10,
     "metadata": {},
     "output_type": "execute_result"
    }
   ],
   "source": [
    "# Filter patients by gender\n",
    "male_patients = df[df['gender'] == \"Male\"]\n",
    "print(f\"Number of male patients: {len(male_patients)}\")\n",
    "\n",
    "# Display first few male patients\n",
    "print(\"\\nFirst 5 male patients:\")\n",
    "male_patients.head()"
   ]
  },
  {
   "cell_type": "code",
   "execution_count": 11,
   "metadata": {},
   "outputs": [
    {
     "ename": "KeyError",
     "evalue": "'Gender'",
     "output_type": "error",
     "traceback": [
      "\u001b[0;31m---------------------------------------------------------------------------\u001b[0m",
      "\u001b[0;31mKeyError\u001b[0m                                  Traceback (most recent call last)",
      "File \u001b[0;32m~/.pyenv/versions/3.9.21/envs/precision-course-env/lib/python3.9/site-packages/pandas/core/indexes/base.py:3805\u001b[0m, in \u001b[0;36mIndex.get_loc\u001b[0;34m(self, key)\u001b[0m\n\u001b[1;32m   3804\u001b[0m \u001b[38;5;28;01mtry\u001b[39;00m:\n\u001b[0;32m-> 3805\u001b[0m     \u001b[38;5;28;01mreturn\u001b[39;00m \u001b[38;5;28;43mself\u001b[39;49m\u001b[38;5;241;43m.\u001b[39;49m\u001b[43m_engine\u001b[49m\u001b[38;5;241;43m.\u001b[39;49m\u001b[43mget_loc\u001b[49m\u001b[43m(\u001b[49m\u001b[43mcasted_key\u001b[49m\u001b[43m)\u001b[49m\n\u001b[1;32m   3806\u001b[0m \u001b[38;5;28;01mexcept\u001b[39;00m \u001b[38;5;167;01mKeyError\u001b[39;00m \u001b[38;5;28;01mas\u001b[39;00m err:\n",
      "File \u001b[0;32mindex.pyx:167\u001b[0m, in \u001b[0;36mpandas._libs.index.IndexEngine.get_loc\u001b[0;34m()\u001b[0m\n",
      "File \u001b[0;32mindex.pyx:196\u001b[0m, in \u001b[0;36mpandas._libs.index.IndexEngine.get_loc\u001b[0;34m()\u001b[0m\n",
      "File \u001b[0;32mpandas/_libs/hashtable_class_helper.pxi:7081\u001b[0m, in \u001b[0;36mpandas._libs.hashtable.PyObjectHashTable.get_item\u001b[0;34m()\u001b[0m\n",
      "File \u001b[0;32mpandas/_libs/hashtable_class_helper.pxi:7089\u001b[0m, in \u001b[0;36mpandas._libs.hashtable.PyObjectHashTable.get_item\u001b[0;34m()\u001b[0m\n",
      "\u001b[0;31mKeyError\u001b[0m: 'Gender'",
      "\nThe above exception was the direct cause of the following exception:\n",
      "\u001b[0;31mKeyError\u001b[0m                                  Traceback (most recent call last)",
      "Cell \u001b[0;32mIn[11], line 2\u001b[0m\n\u001b[1;32m      1\u001b[0m \u001b[38;5;66;03m# Be careful to get the name of the column exactly right, or you will get errors \u001b[39;00m\n\u001b[0;32m----> 2\u001b[0m male_patients \u001b[38;5;241m=\u001b[39m df[\u001b[43mdf\u001b[49m\u001b[43m[\u001b[49m\u001b[38;5;124;43m'\u001b[39;49m\u001b[38;5;124;43mGender\u001b[39;49m\u001b[38;5;124;43m'\u001b[39;49m\u001b[43m]\u001b[49m \u001b[38;5;241m==\u001b[39m \u001b[38;5;124m\"\u001b[39m\u001b[38;5;124mMale\u001b[39m\u001b[38;5;124m\"\u001b[39m]\n",
      "File \u001b[0;32m~/.pyenv/versions/3.9.21/envs/precision-course-env/lib/python3.9/site-packages/pandas/core/frame.py:4102\u001b[0m, in \u001b[0;36mDataFrame.__getitem__\u001b[0;34m(self, key)\u001b[0m\n\u001b[1;32m   4100\u001b[0m \u001b[38;5;28;01mif\u001b[39;00m \u001b[38;5;28mself\u001b[39m\u001b[38;5;241m.\u001b[39mcolumns\u001b[38;5;241m.\u001b[39mnlevels \u001b[38;5;241m>\u001b[39m \u001b[38;5;241m1\u001b[39m:\n\u001b[1;32m   4101\u001b[0m     \u001b[38;5;28;01mreturn\u001b[39;00m \u001b[38;5;28mself\u001b[39m\u001b[38;5;241m.\u001b[39m_getitem_multilevel(key)\n\u001b[0;32m-> 4102\u001b[0m indexer \u001b[38;5;241m=\u001b[39m \u001b[38;5;28;43mself\u001b[39;49m\u001b[38;5;241;43m.\u001b[39;49m\u001b[43mcolumns\u001b[49m\u001b[38;5;241;43m.\u001b[39;49m\u001b[43mget_loc\u001b[49m\u001b[43m(\u001b[49m\u001b[43mkey\u001b[49m\u001b[43m)\u001b[49m\n\u001b[1;32m   4103\u001b[0m \u001b[38;5;28;01mif\u001b[39;00m is_integer(indexer):\n\u001b[1;32m   4104\u001b[0m     indexer \u001b[38;5;241m=\u001b[39m [indexer]\n",
      "File \u001b[0;32m~/.pyenv/versions/3.9.21/envs/precision-course-env/lib/python3.9/site-packages/pandas/core/indexes/base.py:3812\u001b[0m, in \u001b[0;36mIndex.get_loc\u001b[0;34m(self, key)\u001b[0m\n\u001b[1;32m   3807\u001b[0m     \u001b[38;5;28;01mif\u001b[39;00m \u001b[38;5;28misinstance\u001b[39m(casted_key, \u001b[38;5;28mslice\u001b[39m) \u001b[38;5;129;01mor\u001b[39;00m (\n\u001b[1;32m   3808\u001b[0m         \u001b[38;5;28misinstance\u001b[39m(casted_key, abc\u001b[38;5;241m.\u001b[39mIterable)\n\u001b[1;32m   3809\u001b[0m         \u001b[38;5;129;01mand\u001b[39;00m \u001b[38;5;28many\u001b[39m(\u001b[38;5;28misinstance\u001b[39m(x, \u001b[38;5;28mslice\u001b[39m) \u001b[38;5;28;01mfor\u001b[39;00m x \u001b[38;5;129;01min\u001b[39;00m casted_key)\n\u001b[1;32m   3810\u001b[0m     ):\n\u001b[1;32m   3811\u001b[0m         \u001b[38;5;28;01mraise\u001b[39;00m InvalidIndexError(key)\n\u001b[0;32m-> 3812\u001b[0m     \u001b[38;5;28;01mraise\u001b[39;00m \u001b[38;5;167;01mKeyError\u001b[39;00m(key) \u001b[38;5;28;01mfrom\u001b[39;00m\u001b[38;5;250m \u001b[39m\u001b[38;5;21;01merr\u001b[39;00m\n\u001b[1;32m   3813\u001b[0m \u001b[38;5;28;01mexcept\u001b[39;00m \u001b[38;5;167;01mTypeError\u001b[39;00m:\n\u001b[1;32m   3814\u001b[0m     \u001b[38;5;66;03m# If we have a listlike key, _check_indexing_error will raise\u001b[39;00m\n\u001b[1;32m   3815\u001b[0m     \u001b[38;5;66;03m#  InvalidIndexError. Otherwise we fall through and re-raise\u001b[39;00m\n\u001b[1;32m   3816\u001b[0m     \u001b[38;5;66;03m#  the TypeError.\u001b[39;00m\n\u001b[1;32m   3817\u001b[0m     \u001b[38;5;28mself\u001b[39m\u001b[38;5;241m.\u001b[39m_check_indexing_error(key)\n",
      "\u001b[0;31mKeyError\u001b[0m: 'Gender'"
     ]
    }
   ],
   "source": [
    "# Be careful to get the name of the column exactly right, or you will get errors \n",
    "male_patients = df[df['Gender'] == \"Male\"]"
   ]
  },
  {
   "cell_type": "code",
   "execution_count": 12,
   "metadata": {},
   "outputs": [
    {
     "name": "stdout",
     "output_type": "stream",
     "text": [
      "High-risk patients (high BP + high cholesterol + smoking): 16\n",
      "Percentage of total: 1.6%\n",
      "\n",
      "Treatment outcomes in high-risk group:\n",
      "treatment_outcome\n",
      "Poor    15\n",
      "Good     1\n",
      "Name: count, dtype: int64\n"
     ]
    }
   ],
   "source": [
    "# Multiple condition filtering - high-risk patients\n",
    "high_risk_patients = df[\n",
    "    (df['systolic_bp'] > 150) & \n",
    "    (df['cholesterol'] > 240) & \n",
    "    (df['smoking'] == 'Current')\n",
    "]\n",
    "\n",
    "print(f\"High-risk patients (high BP + high cholesterol + smoking): {len(high_risk_patients)}\")\n",
    "print(f\"Percentage of total: {len(high_risk_patients)/len(df)*100:.1f}%\")\n",
    "\n",
    "if len(high_risk_patients) > 0:\n",
    "    print(\"\\nTreatment outcomes in high-risk group:\")\n",
    "    print(high_risk_patients['treatment_outcome'].value_counts())"
   ]
  },
  {
   "cell_type": "code",
   "execution_count": 13,
   "metadata": {},
   "outputs": [
    {
     "name": "stdout",
     "output_type": "stream",
     "text": [
      "Treatment outcomes by gender:\n",
      "treatment_outcome  Good  Poor\n",
      "gender                       \n",
      "Female              317   194\n",
      "Male                327   162\n",
      "\n",
      "Treatment success rates by gender:\n",
      "gender\n",
      "Female    0.620352\n",
      "Male      0.668712\n",
      "Name: treatment_outcome, dtype: float64\n"
     ]
    }
   ],
   "source": [
    "# Group analysis - treatment outcomes by gender\n",
    "print(\"Treatment outcomes by gender:\")\n",
    "gender_outcomes = df.groupby(['gender', 'treatment_outcome']).size().unstack(fill_value=0)\n",
    "print(gender_outcomes)\n",
    "\n",
    "# Calculate success rates\n",
    "print(\"\\nTreatment success rates by gender:\")\n",
    "success_rates = df.groupby('gender')['treatment_outcome'].apply(lambda x: (x == 'Good').mean())\n",
    "print(success_rates)"
   ]
  },
  {
   "cell_type": "markdown",
   "metadata": {},
   "source": [
    "## 6. Preparing Data for Machine Learning\n",
    "\n",
    "Before we can train our Random Forest model, we need to prepare the data:"
   ]
  },
  {
   "cell_type": "code",
   "execution_count": 14,
   "metadata": {},
   "outputs": [
    {
     "name": "stdout",
     "output_type": "stream",
     "text": [
      "\n",
      "Feature matrix shape: (1000, 7)\n",
      "Target vector shape: (1000,)\n",
      "\n",
      "Target classes: ['Poor' 'Good']\n"
     ]
    }
   ],
   "source": [
    "# Prepare features for machine learning\n",
    "# We need to convert categorical variables to numerical format\n",
    "\n",
    "# Select features for the model\n",
    "feature_columns = [\n",
    "    'age', 'bmi', 'systolic_bp', 'diastolic_bp', 'cholesterol', 'glucose',\n",
    "    'exercise_hours_week'\n",
    "]\n",
    "\n",
    "X = df[feature_columns]\n",
    "y = df['treatment_outcome']\n",
    "\n",
    "print(f\"\\nFeature matrix shape: {X.shape}\")\n",
    "print(f\"Target vector shape: {y.shape}\")\n",
    "print(f\"\\nTarget classes: {y.unique()}\")"
   ]
  },
  {
   "cell_type": "markdown",
   "metadata": {},
   "source": [
    "## 7. Training a Random Forest Model\n",
    "\n",
    "Random Forest is an excellent algorithm for medical prediction tasks because it:\n",
    "- Handles mixed data types well\n",
    "- Provides feature importance rankings\n",
    "- Is relatively interpretable\n",
    "- Performs well with limited data preprocessing"
   ]
  },
  {
   "cell_type": "code",
   "execution_count": 15,
   "metadata": {},
   "outputs": [
    {
     "name": "stdout",
     "output_type": "stream",
     "text": [
      "Training set size: 800 patients\n",
      "Testing set size: 200 patients\n",
      "\n",
      "Training set outcome distribution:\n",
      "treatment_outcome\n",
      "Good    515\n",
      "Poor    285\n",
      "Name: count, dtype: int64\n"
     ]
    }
   ],
   "source": [
    "# Split the data into training and testing sets\n",
    "X_train, X_test, y_train, y_test = train_test_split(\n",
    "    X, y, test_size=0.2, random_state=42, stratify=y\n",
    ")\n",
    "\n",
    "print(f\"Training set size: {X_train.shape[0]} patients\")\n",
    "print(f\"Testing set size: {X_test.shape[0]} patients\")\n",
    "print(f\"\\nTraining set outcome distribution:\")\n",
    "print(y_train.value_counts())"
   ]
  },
  {
   "cell_type": "code",
   "execution_count": 16,
   "metadata": {},
   "outputs": [
    {
     "name": "stdout",
     "output_type": "stream",
     "text": [
      "Training Random Forest model...\n",
      "Model training completed!\n"
     ]
    }
   ],
   "source": [
    "# Create and train the Random Forest model\n",
    "rf_model = RandomForestClassifier(\n",
    "    n_estimators=100,        # Number of trees in the forest\n",
    "    max_depth=10,           # Maximum depth of trees\n",
    "    min_samples_split=5,    # Minimum samples required to split a node\n",
    "    min_samples_leaf=2,     # Minimum samples required at a leaf node\n",
    "    random_state=42         # For reproducibility\n",
    ")\n",
    "\n",
    "# Train the model\n",
    "print(\"Training Random Forest model...\")\n",
    "rf_model.fit(X_train, y_train)\n",
    "print(\"Model training completed!\")"
   ]
  },
  {
   "cell_type": "code",
   "execution_count": 17,
   "metadata": {},
   "outputs": [],
   "source": [
    "# Make predictions on the test ste \n",
    "y_test = rf_model.predict(X_test)"
   ]
  },
  {
   "cell_type": "code",
   "execution_count": 18,
   "metadata": {},
   "outputs": [
    {
     "name": "stdout",
     "output_type": "stream",
     "text": [
      "Accuracy =  1.0\n"
     ]
    }
   ],
   "source": [
    "from sklearn.metrics import accuracy_score, classification_report \n",
    "\n",
    "print(\"Accuracy = \", accuracy_score(y_test, rf_model.predict(X_test)))"
   ]
  },
  {
   "cell_type": "code",
   "execution_count": null,
   "metadata": {},
   "outputs": [
    {
     "name": "stdout",
     "output_type": "stream",
     "text": [
      "              precision    recall  f1-score   support\n",
      "\n",
      "        Good       1.00      1.00      1.00       157\n",
      "        Poor       1.00      1.00      1.00        43\n",
      "\n",
      "    accuracy                           1.00       200\n",
      "   macro avg       1.00      1.00      1.00       200\n",
      "weighted avg       1.00      1.00      1.00       200\n",
      "\n"
     ]
    }
   ],
   "source": [
    "print(classification_report(y_test, rf_model.predict(X_test)))"
   ]
  },
  {
   "cell_type": "markdown",
   "metadata": {},
   "source": [
    "We will discuss model evaluation more in the second lesson, including how to interpret these results!"
   ]
  },
  {
   "cell_type": "markdown",
   "metadata": {},
   "source": [
    "# Hints  \n",
    "  \n",
    "Coding is about iteration and improvement; it is okay and expected to not get things correct the first time. But what can you do if you get stuck or your code is not working as expected?  \n"
   ]
  },
  {
   "cell_type": "markdown",
   "metadata": {},
   "source": [
    "### 1) Read any error messages you get: they may have a clue about what has gone wrong"
   ]
  },
  {
   "cell_type": "code",
   "execution_count": 27,
   "metadata": {},
   "outputs": [
    {
     "ename": "KeyError",
     "evalue": "'Gender'",
     "output_type": "error",
     "traceback": [
      "\u001b[0;31m---------------------------------------------------------------------------\u001b[0m",
      "\u001b[0;31mKeyError\u001b[0m                                  Traceback (most recent call last)",
      "File \u001b[0;32m~/.pyenv/versions/precision-course-env/lib/python3.9/site-packages/pandas/core/indexes/base.py:3805\u001b[0m, in \u001b[0;36mIndex.get_loc\u001b[0;34m(self, key)\u001b[0m\n\u001b[1;32m   3804\u001b[0m \u001b[38;5;28;01mtry\u001b[39;00m:\n\u001b[0;32m-> 3805\u001b[0m     \u001b[38;5;28;01mreturn\u001b[39;00m \u001b[38;5;28;43mself\u001b[39;49m\u001b[38;5;241;43m.\u001b[39;49m\u001b[43m_engine\u001b[49m\u001b[38;5;241;43m.\u001b[39;49m\u001b[43mget_loc\u001b[49m\u001b[43m(\u001b[49m\u001b[43mcasted_key\u001b[49m\u001b[43m)\u001b[49m\n\u001b[1;32m   3806\u001b[0m \u001b[38;5;28;01mexcept\u001b[39;00m \u001b[38;5;167;01mKeyError\u001b[39;00m \u001b[38;5;28;01mas\u001b[39;00m err:\n",
      "File \u001b[0;32mindex.pyx:167\u001b[0m, in \u001b[0;36mpandas._libs.index.IndexEngine.get_loc\u001b[0;34m()\u001b[0m\n",
      "File \u001b[0;32mindex.pyx:196\u001b[0m, in \u001b[0;36mpandas._libs.index.IndexEngine.get_loc\u001b[0;34m()\u001b[0m\n",
      "File \u001b[0;32mpandas/_libs/hashtable_class_helper.pxi:7081\u001b[0m, in \u001b[0;36mpandas._libs.hashtable.PyObjectHashTable.get_item\u001b[0;34m()\u001b[0m\n",
      "File \u001b[0;32mpandas/_libs/hashtable_class_helper.pxi:7089\u001b[0m, in \u001b[0;36mpandas._libs.hashtable.PyObjectHashTable.get_item\u001b[0;34m()\u001b[0m\n",
      "\u001b[0;31mKeyError\u001b[0m: 'Gender'",
      "\nThe above exception was the direct cause of the following exception:\n",
      "\u001b[0;31mKeyError\u001b[0m                                  Traceback (most recent call last)",
      "Cell \u001b[0;32mIn[27], line 1\u001b[0m\n\u001b[0;32m----> 1\u001b[0m male_patients \u001b[38;5;241m=\u001b[39m df[\u001b[43mdf\u001b[49m\u001b[43m[\u001b[49m\u001b[38;5;124;43m'\u001b[39;49m\u001b[38;5;124;43mGender\u001b[39;49m\u001b[38;5;124;43m'\u001b[39;49m\u001b[43m]\u001b[49m \u001b[38;5;241m==\u001b[39m \u001b[38;5;124m\"\u001b[39m\u001b[38;5;124mMale\u001b[39m\u001b[38;5;124m\"\u001b[39m]\n",
      "File \u001b[0;32m~/.pyenv/versions/precision-course-env/lib/python3.9/site-packages/pandas/core/frame.py:4102\u001b[0m, in \u001b[0;36mDataFrame.__getitem__\u001b[0;34m(self, key)\u001b[0m\n\u001b[1;32m   4100\u001b[0m \u001b[38;5;28;01mif\u001b[39;00m \u001b[38;5;28mself\u001b[39m\u001b[38;5;241m.\u001b[39mcolumns\u001b[38;5;241m.\u001b[39mnlevels \u001b[38;5;241m>\u001b[39m \u001b[38;5;241m1\u001b[39m:\n\u001b[1;32m   4101\u001b[0m     \u001b[38;5;28;01mreturn\u001b[39;00m \u001b[38;5;28mself\u001b[39m\u001b[38;5;241m.\u001b[39m_getitem_multilevel(key)\n\u001b[0;32m-> 4102\u001b[0m indexer \u001b[38;5;241m=\u001b[39m \u001b[38;5;28;43mself\u001b[39;49m\u001b[38;5;241;43m.\u001b[39;49m\u001b[43mcolumns\u001b[49m\u001b[38;5;241;43m.\u001b[39;49m\u001b[43mget_loc\u001b[49m\u001b[43m(\u001b[49m\u001b[43mkey\u001b[49m\u001b[43m)\u001b[49m\n\u001b[1;32m   4103\u001b[0m \u001b[38;5;28;01mif\u001b[39;00m is_integer(indexer):\n\u001b[1;32m   4104\u001b[0m     indexer \u001b[38;5;241m=\u001b[39m [indexer]\n",
      "File \u001b[0;32m~/.pyenv/versions/precision-course-env/lib/python3.9/site-packages/pandas/core/indexes/base.py:3812\u001b[0m, in \u001b[0;36mIndex.get_loc\u001b[0;34m(self, key)\u001b[0m\n\u001b[1;32m   3807\u001b[0m     \u001b[38;5;28;01mif\u001b[39;00m \u001b[38;5;28misinstance\u001b[39m(casted_key, \u001b[38;5;28mslice\u001b[39m) \u001b[38;5;129;01mor\u001b[39;00m (\n\u001b[1;32m   3808\u001b[0m         \u001b[38;5;28misinstance\u001b[39m(casted_key, abc\u001b[38;5;241m.\u001b[39mIterable)\n\u001b[1;32m   3809\u001b[0m         \u001b[38;5;129;01mand\u001b[39;00m \u001b[38;5;28many\u001b[39m(\u001b[38;5;28misinstance\u001b[39m(x, \u001b[38;5;28mslice\u001b[39m) \u001b[38;5;28;01mfor\u001b[39;00m x \u001b[38;5;129;01min\u001b[39;00m casted_key)\n\u001b[1;32m   3810\u001b[0m     ):\n\u001b[1;32m   3811\u001b[0m         \u001b[38;5;28;01mraise\u001b[39;00m InvalidIndexError(key)\n\u001b[0;32m-> 3812\u001b[0m     \u001b[38;5;28;01mraise\u001b[39;00m \u001b[38;5;167;01mKeyError\u001b[39;00m(key) \u001b[38;5;28;01mfrom\u001b[39;00m\u001b[38;5;250m \u001b[39m\u001b[38;5;21;01merr\u001b[39;00m\n\u001b[1;32m   3813\u001b[0m \u001b[38;5;28;01mexcept\u001b[39;00m \u001b[38;5;167;01mTypeError\u001b[39;00m:\n\u001b[1;32m   3814\u001b[0m     \u001b[38;5;66;03m# If we have a listlike key, _check_indexing_error will raise\u001b[39;00m\n\u001b[1;32m   3815\u001b[0m     \u001b[38;5;66;03m#  InvalidIndexError. Otherwise we fall through and re-raise\u001b[39;00m\n\u001b[1;32m   3816\u001b[0m     \u001b[38;5;66;03m#  the TypeError.\u001b[39;00m\n\u001b[1;32m   3817\u001b[0m     \u001b[38;5;28mself\u001b[39m\u001b[38;5;241m.\u001b[39m_check_indexing_error(key)\n",
      "\u001b[0;31mKeyError\u001b[0m: 'Gender'"
     ]
    }
   ],
   "source": [
    "male_patients = df[df['Gender'] == \"Male\"]"
   ]
  },
  {
   "cell_type": "markdown",
   "metadata": {},
   "source": [
    "### 2) Try asking colleagues or help, maybe they experienced the same issue?"
   ]
  },
  {
   "cell_type": "markdown",
   "metadata": {},
   "source": [
    "### 3) Ask a chatbot, like ChatGPT. \n",
    "  \n",
    "Whilst it is always best to try to fix problems yourself first (to aid in learning), AI chatbots like ChatGPT are really useful in coding.  \n",
    "  \n",
    "If you are really stuck, explain your problem to the chatbot and it may be able to explain what is going wrong."
   ]
  }
 ],
 "metadata": {
  "kernelspec": {
   "display_name": "precision-course-env",
   "language": "python",
   "name": "python3"
  },
  "language_info": {
   "codemirror_mode": {
    "name": "ipython",
    "version": 3
   },
   "file_extension": ".py",
   "mimetype": "text/x-python",
   "name": "python",
   "nbconvert_exporter": "python",
   "pygments_lexer": "ipython3",
   "version": "3.9.21"
  }
 },
 "nbformat": 4,
 "nbformat_minor": 4
}
