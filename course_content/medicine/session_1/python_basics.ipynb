{
 "cells": [
  {
   "cell_type": "markdown",
   "metadata": {},
   "source": [
    "# Introduction to Pandas for Clinicians\n",
    "## A Foundation for Data Science in Personalised Medicine\n",
    "\n",
    "Welcome to this introduction to Pandas - one of the most important tools you'll use for data analysis in Python. This notebook is designed specifically for clinicians who want to leverage data science for personalised medicine.\n",
    "\n",
    "By the end of this notebook, you'll understand how to:\n",
    "- Import Python modules and why this is important\n",
    "- Read CSV files containing patient data\n",
    "- Work with DataFrames (think of them as sophisticated spreadsheets)\n",
    "- Filter data to find specific patient populations or conditions\n",
    "\n",
    "Let's begin!"
   ]
  },
  {
   "cell_type": "markdown",
   "metadata": {},
   "source": [
    "---\n",
    "\n",
    "## 1. Importing Modules in Python\n",
    "\n",
    "### Why Do We Import Modules?\n",
    "\n",
    "In Python, modules are like specialized toolkits. Just as you wouldn't bring every medical instrument to every patient encounter, Python doesn't load every possible function when it starts. Instead, we import only the tools we need.\n",
    "\n",
    "**Think of it this way:**\n",
    "- **Base Python** = Your basic clinical skills\n",
    "- **Pandas** = Your specialized diagnostic equipment\n",
    "- **Other modules** = Additional specialist tools (statistics, visualization, etc.)\n",
    "\n",
    "### How to Import Modules\n",
    "\n",
    "```python\n",
    "# The standard way to import pandas\n",
    "import pandas as pd\n",
    "\n",
    "# Why 'as pd'? \n",
    "# - It's a widely accepted convention\n",
    "# - Saves typing (pd.read_csv vs pandas.read_csv)\n",
    "# - Makes code more readable\n",
    "```"
   ]
  },
  {
   "cell_type": "code",
   "execution_count": 1,
   "metadata": {},
   "outputs": [
    {
     "name": "stdout",
     "output_type": "stream",
     "text": [
      "Pandas version: 2.2.3\n",
      "✅ Pandas imported successfully!\n"
     ]
    }
   ],
   "source": [
    "# Let's import pandas and check it's working\n",
    "import pandas as pd\n",
    "print(f\"Pandas version: {pd.__version__}\")\n",
    "print(\"✅ Pandas imported successfully!\")"
   ]
  },
  {
   "cell_type": "markdown",
   "metadata": {},
   "source": [
    "### Other Common Imports You'll See"
   ]
  },
  {
   "cell_type": "code",
   "execution_count": 2,
   "metadata": {},
   "outputs": [
    {
     "name": "stdout",
     "output_type": "stream",
     "text": [
      "All modules imported successfully!\n"
     ]
    }
   ],
   "source": [
    "# These are other modules commonly used with pandas\n",
    "import numpy as np          # For numerical operations\n",
    "import matplotlib.pyplot as plt  # For creating plots\n",
    "# import seaborn as sns     # For statistical visualizations\n",
    "\n",
    "print(\"All modules imported successfully!\")"
   ]
  },
  {
   "cell_type": "markdown",
   "metadata": {},
   "source": [
    "---\n",
    "\n",
    "## 2. Reading CSV Files with Pandas\n",
    "\n",
    "### What is a CSV File?\n",
    "\n",
    "CSV stands for \"Comma-Separated Values.\" It's like a simplified spreadsheet that can be opened by any program. Most clinical data exports (from EMRs, lab systems, etc.) come in CSV format.\n",
    "\n",
    "### Creating Sample Clinical Data\n",
    "\n",
    "First, let's create some sample patient data to work with:"
   ]
  },
  {
   "cell_type": "code",
   "execution_count": 3,
   "metadata": {},
   "outputs": [
    {
     "name": "stdout",
     "output_type": "stream",
     "text": [
      "✅ Sample CSV file created: 'sample_patient_data.csv'\n"
     ]
    }
   ],
   "source": [
    "# Create a sample dataset that mimics clinical data\n",
    "sample_data = {\n",
    "    'patient_id': ['P001', 'P002', 'P003', 'P004', 'P005', 'P006', 'P007', 'P008'],\n",
    "    'age': [45, 62, 38, 71, 29, 55, 68, 42],\n",
    "    'gender': ['M', 'F', 'F', 'M', 'F', 'M', 'F', 'M'],\n",
    "    'diagnosis': ['Hypertension', 'Diabetes', 'Asthma', 'Diabetes', 'Hypertension', 'Diabetes', 'Asthma', 'Hypertension'],\n",
    "    'systolic_bp': [140, 130, 110, 145, 125, 155, 115, 138],\n",
    "    'hba1c': [5.2, 8.1, 5.0, 9.2, 4.8, 7.8, 5.1, 5.5],\n",
    "    'medication_adherence': [0.85, 0.72, 0.95, 0.68, 0.90, 0.75, 0.88, 0.82]\n",
    "}\n",
    "\n",
    "# Convert to DataFrame and save as CSV\n",
    "df_sample = pd.DataFrame(sample_data)\n",
    "df_sample.to_csv('sample_patient_data.csv', index=False)\n",
    "print(\"✅ Sample CSV file created: 'sample_patient_data.csv'\")"
   ]
  },
  {
   "cell_type": "markdown",
   "metadata": {},
   "source": [
    "### Reading the CSV File"
   ]
  },
  {
   "cell_type": "code",
   "execution_count": 4,
   "metadata": {},
   "outputs": [
    {
     "name": "stdout",
     "output_type": "stream",
     "text": [
      "✅ CSV file loaded successfully!\n",
      "Data shape: 8 patients, 7 variables\n"
     ]
    }
   ],
   "source": [
    "# Read the CSV file into a pandas DataFrame\n",
    "df = pd.read_csv('sample_patient_data.csv')\n",
    "\n",
    "print(\"✅ CSV file loaded successfully!\")\n",
    "print(f\"Data shape: {df.shape[0]} patients, {df.shape[1]} variables\")"
   ]
  },
  {
   "cell_type": "markdown",
   "metadata": {},
   "source": [
    "### Common CSV Reading Options"
   ]
  },
  {
   "cell_type": "code",
   "execution_count": 5,
   "metadata": {},
   "outputs": [
    {
     "name": "stdout",
     "output_type": "stream",
     "text": [
      "These options help handle real-world clinical data variations\n"
     ]
    }
   ],
   "source": [
    "# pandas.read_csv() has many useful options for clinical data:\n",
    "\n",
    "# If your CSV has different separators (semicolons are common in European data)\n",
    "# df = pd.read_csv('file.csv', sep=';')\n",
    "\n",
    "# If you want to specify which column contains patient IDs\n",
    "# df = pd.read_csv('file.csv', index_col='patient_id')\n",
    "\n",
    "# If you have missing data coded differently\n",
    "# df = pd.read_csv('file.csv', na_values=['NULL', 'N/A', 'missing'])\n",
    "\n",
    "print(\"These options help handle real-world clinical data variations\")"
   ]
  },
  {
   "cell_type": "markdown",
   "metadata": {},
   "source": [
    "---\n",
    "\n",
    "## 3. Understanding DataFrames\n",
    "\n",
    "### What is a DataFrame?\n",
    "\n",
    "A DataFrame is like a smart spreadsheet. It has:\n",
    "- **Rows** (observations) - each row represents one patient\n",
    "- **Columns** (variables) - each column represents one measurement or characteristic\n",
    "- **Index** - row labels (often patient IDs)\n",
    "\n",
    "### Exploring Your DataFrame"
   ]
  },
  {
   "cell_type": "code",
   "execution_count": 6,
   "metadata": {},
   "outputs": [
    {
     "name": "stdout",
     "output_type": "stream",
     "text": [
      "=== FIRST FEW ROWS ===\n",
      "  patient_id  age gender     diagnosis  systolic_bp  hba1c  \\\n",
      "0       P001   45      M  Hypertension          140    5.2   \n",
      "1       P002   62      F      Diabetes          130    8.1   \n",
      "2       P003   38      F        Asthma          110    5.0   \n",
      "3       P004   71      M      Diabetes          145    9.2   \n",
      "4       P005   29      F  Hypertension          125    4.8   \n",
      "\n",
      "   medication_adherence  \n",
      "0                  0.85  \n",
      "1                  0.72  \n",
      "2                  0.95  \n",
      "3                  0.68  \n",
      "4                  0.90  \n"
     ]
    }
   ],
   "source": [
    "# First, let's look at our data\n",
    "print(\"=== FIRST FEW ROWS ===\")\n",
    "print(df.head())  # Shows first 5 rows by default"
   ]
  },
  {
   "cell_type": "code",
   "execution_count": 7,
   "metadata": {},
   "outputs": [
    {
     "name": "stdout",
     "output_type": "stream",
     "text": [
      "\n",
      "=== BASIC INFORMATION ===\n",
      "Shape: (8, 7)\n",
      "Column names: ['patient_id', 'age', 'gender', 'diagnosis', 'systolic_bp', 'hba1c', 'medication_adherence']\n"
     ]
    }
   ],
   "source": [
    "print(\"\\n=== BASIC INFORMATION ===\")\n",
    "print(f\"Shape: {df.shape}\")  # (rows, columns)\n",
    "print(f\"Column names: {list(df.columns)}\")"
   ]
  },
  {
   "cell_type": "code",
   "execution_count": 8,
   "metadata": {},
   "outputs": [
    {
     "name": "stdout",
     "output_type": "stream",
     "text": [
      "\n",
      "=== DATA TYPES ===\n",
      "patient_id               object\n",
      "age                       int64\n",
      "gender                   object\n",
      "diagnosis                object\n",
      "systolic_bp               int64\n",
      "hba1c                   float64\n",
      "medication_adherence    float64\n",
      "dtype: object\n"
     ]
    }
   ],
   "source": [
    "print(\"\\n=== DATA TYPES ===\")\n",
    "print(df.dtypes)\n",
    "# This is important! \n",
    "# - object = text/categorical data\n",
    "# - int64/float64 = numerical data\n",
    "# - datetime64 = dates/times"
   ]
  },
  {
   "cell_type": "code",
   "execution_count": 9,
   "metadata": {},
   "outputs": [
    {
     "name": "stdout",
     "output_type": "stream",
     "text": [
      "\n",
      "=== SUMMARY STATISTICS ===\n",
      "             age  systolic_bp     hba1c  medication_adherence\n",
      "count   8.000000     8.000000  8.000000               8.00000\n",
      "mean   51.250000   132.250000  6.337500               0.81875\n",
      "std    15.097303    15.229201  1.736941               0.09433\n",
      "min    29.000000   110.000000  4.800000               0.68000\n",
      "25%    41.000000   122.500000  5.075000               0.74250\n",
      "50%    50.000000   134.000000  5.350000               0.83500\n",
      "75%    63.500000   141.250000  7.875000               0.88500\n",
      "max    71.000000   155.000000  9.200000               0.95000\n"
     ]
    }
   ],
   "source": [
    "print(\"\\n=== SUMMARY STATISTICS ===\")\n",
    "print(df.describe())\n",
    "# This gives you key statistics for numerical columns\n",
    "# Very useful for quality checks!"
   ]
  },
  {
   "cell_type": "markdown",
   "metadata": {},
   "source": [
    "### Accessing Individual Columns"
   ]
  },
  {
   "cell_type": "code",
   "execution_count": 10,
   "metadata": {},
   "outputs": [
    {
     "name": "stdout",
     "output_type": "stream",
     "text": [
      "=== AGE COLUMN ===\n",
      "0    45\n",
      "1    62\n",
      "2    38\n",
      "3    71\n",
      "4    29\n",
      "5    55\n",
      "6    68\n",
      "7    42\n",
      "Name: age, dtype: int64\n",
      "\n",
      "Type: <class 'pandas.core.series.Series'>\n"
     ]
    }
   ],
   "source": [
    "# Get a single column (this creates a \"Series\")\n",
    "ages = df['age']\n",
    "print(\"=== AGE COLUMN ===\")\n",
    "print(ages)\n",
    "print(f\"\\nType: {type(ages)}\")"
   ]
  },
  {
   "cell_type": "code",
   "execution_count": 11,
   "metadata": {},
   "outputs": [
    {
     "name": "stdout",
     "output_type": "stream",
     "text": [
      "=== CLINICAL MEASURES ===\n",
      "   age  systolic_bp  hba1c\n",
      "0   45          140    5.2\n",
      "1   62          130    8.1\n",
      "2   38          110    5.0\n",
      "3   71          145    9.2\n",
      "4   29          125    4.8\n"
     ]
    }
   ],
   "source": [
    "# Get multiple columns (this creates a DataFrame)\n",
    "clinical_measures = df[['age', 'systolic_bp', 'hba1c']]\n",
    "print(\"=== CLINICAL MEASURES ===\")\n",
    "print(clinical_measures.head())"
   ]
  },
  {
   "cell_type": "markdown",
   "metadata": {},
   "source": [
    "### Key DataFrame Attributes"
   ]
  },
  {
   "cell_type": "code",
   "execution_count": 12,
   "metadata": {},
   "outputs": [
    {
     "name": "stdout",
     "output_type": "stream",
     "text": [
      "=== USEFUL DATAFRAME ATTRIBUTES ===\n",
      "Shape: (8, 7)\n",
      "Size (total cells): 56\n",
      "Number of patients: 8\n",
      "Column names: ['patient_id', 'age', 'gender', 'diagnosis', 'systolic_bp', 'hba1c', 'medication_adherence']\n",
      "Index: [0, 1, 2, 3, 4, 5, 6, 7]\n"
     ]
    }
   ],
   "source": [
    "print(\"=== USEFUL DATAFRAME ATTRIBUTES ===\")\n",
    "print(f\"Shape: {df.shape}\")\n",
    "print(f\"Size (total cells): {df.size}\")\n",
    "print(f\"Number of patients: {len(df)}\")\n",
    "print(f\"Column names: {list(df.columns)}\")\n",
    "print(f\"Index: {list(df.index)}\")"
   ]
  },
  {
   "cell_type": "markdown",
   "metadata": {},
   "source": [
    "---\n",
    "\n",
    "## 4. Filtering DataFrames\n",
    "\n",
    "### Why Filter Data?\n",
    "\n",
    "In clinical practice, you often need to focus on specific patient populations:\n",
    "- Diabetic patients only\n",
    "- Patients over 65\n",
    "- Those with poor medication adherence\n",
    "- Combinations of conditions\n",
    "\n",
    "Filtering helps you create these targeted datasets.\n",
    "\n",
    "### Basic Filtering with Conditions"
   ]
  },
  {
   "cell_type": "code",
   "execution_count": 13,
   "metadata": {},
   "outputs": [
    {
     "name": "stdout",
     "output_type": "stream",
     "text": [
      "=== DIABETIC PATIENTS ===\n",
      "  patient_id  age gender diagnosis  systolic_bp  hba1c  medication_adherence\n",
      "1       P002   62      F  Diabetes          130    8.1                  0.72\n",
      "3       P004   71      M  Diabetes          145    9.2                  0.68\n",
      "5       P006   55      M  Diabetes          155    7.8                  0.75\n",
      "\n",
      "Found 3 diabetic patients\n"
     ]
    }
   ],
   "source": [
    "# Filter 1: Find all diabetic patients\n",
    "diabetic_patients = df[df['diagnosis'] == 'Diabetes']\n",
    "print(\"=== DIABETIC PATIENTS ===\")\n",
    "print(diabetic_patients)\n",
    "print(f\"\\nFound {len(diabetic_patients)} diabetic patients\")"
   ]
  },
  {
   "cell_type": "code",
   "execution_count": 14,
   "metadata": {},
   "outputs": [
    {
     "name": "stdout",
     "output_type": "stream",
     "text": [
      "=== PATIENTS OVER 60 ===\n",
      "  patient_id  age diagnosis\n",
      "1       P002   62  Diabetes\n",
      "3       P004   71  Diabetes\n",
      "6       P007   68    Asthma\n"
     ]
    }
   ],
   "source": [
    "# Filter 2: Find patients over 60\n",
    "elderly_patients = df[df['age'] > 60]\n",
    "print(\"=== PATIENTS OVER 60 ===\")\n",
    "print(elderly_patients[['patient_id', 'age', 'diagnosis']])"
   ]
  },
  {
   "cell_type": "code",
   "execution_count": 15,
   "metadata": {},
   "outputs": [
    {
     "name": "stdout",
     "output_type": "stream",
     "text": [
      "=== PATIENTS WITH HIGH BP ===\n",
      "  patient_id  systolic_bp diagnosis\n",
      "3       P004          145  Diabetes\n",
      "5       P006          155  Diabetes\n"
     ]
    }
   ],
   "source": [
    "# Filter 3: Find patients with high blood pressure (>140 mmHg)\n",
    "hypertensive_patients = df[df['systolic_bp'] > 140]\n",
    "print(\"=== PATIENTS WITH HIGH BP ===\")\n",
    "print(hypertensive_patients[['patient_id', 'systolic_bp', 'diagnosis']])"
   ]
  },
  {
   "cell_type": "markdown",
   "metadata": {},
   "source": [
    "### Multiple Conditions (AND Logic)"
   ]
  },
  {
   "cell_type": "code",
   "execution_count": 16,
   "metadata": {},
   "outputs": [
    {
     "name": "stdout",
     "output_type": "stream",
     "text": [
      "=== ELDERLY DIABETIC PATIENTS ===\n",
      "  patient_id  age gender diagnosis  systolic_bp  hba1c  medication_adherence\n",
      "1       P002   62      F  Diabetes          130    8.1                  0.72\n",
      "3       P004   71      M  Diabetes          145    9.2                  0.68\n"
     ]
    }
   ],
   "source": [
    "# Find elderly diabetic patients (both conditions must be true)\n",
    "elderly_diabetics = df[(df['age'] > 60) & (df['diagnosis'] == 'Diabetes')]\n",
    "print(\"=== ELDERLY DIABETIC PATIENTS ===\")\n",
    "print(elderly_diabetics)\n",
    "\n",
    "# Note: Use & for AND, not 'and'\n",
    "# Always use parentheses around each condition!"
   ]
  },
  {
   "cell_type": "markdown",
   "metadata": {},
   "source": [
    "### Multiple Conditions (OR Logic)"
   ]
  },
  {
   "cell_type": "code",
   "execution_count": 17,
   "metadata": {},
   "outputs": [
    {
     "name": "stdout",
     "output_type": "stream",
     "text": [
      "=== PATIENTS WITH EXTREME AGES ===\n",
      "  patient_id  age\n",
      "3       P004   71\n",
      "4       P005   29\n",
      "6       P007   68\n"
     ]
    }
   ],
   "source": [
    "# Find patients who are either very young OR very old\n",
    "extreme_ages = df[(df['age'] < 35) | (df['age'] > 65)]\n",
    "print(\"=== PATIENTS WITH EXTREME AGES ===\")\n",
    "print(extreme_ages[['patient_id', 'age']])\n",
    "\n",
    "# Note: Use | for OR, not 'or'"
   ]
  },
  {
   "cell_type": "markdown",
   "metadata": {},
   "source": [
    "### Filtering with Multiple Values"
   ]
  },
  {
   "cell_type": "code",
   "execution_count": 18,
   "metadata": {},
   "outputs": [
    {
     "name": "stdout",
     "output_type": "stream",
     "text": [
      "=== PATIENTS WITH CHRONIC CONDITIONS ===\n",
      "  patient_id  age gender     diagnosis  systolic_bp  hba1c  \\\n",
      "0       P001   45      M  Hypertension          140    5.2   \n",
      "1       P002   62      F      Diabetes          130    8.1   \n",
      "3       P004   71      M      Diabetes          145    9.2   \n",
      "4       P005   29      F  Hypertension          125    4.8   \n",
      "5       P006   55      M      Diabetes          155    7.8   \n",
      "7       P008   42      M  Hypertension          138    5.5   \n",
      "\n",
      "   medication_adherence  \n",
      "0                  0.85  \n",
      "1                  0.72  \n",
      "3                  0.68  \n",
      "4                  0.90  \n",
      "5                  0.75  \n",
      "7                  0.82  \n"
     ]
    }
   ],
   "source": [
    "# Find patients with diabetes OR hypertension\n",
    "chronic_conditions = df[df['diagnosis'].isin(['Diabetes', 'Hypertension'])]\n",
    "print(\"=== PATIENTS WITH CHRONIC CONDITIONS ===\")\n",
    "print(chronic_conditions)"
   ]
  },
  {
   "cell_type": "markdown",
   "metadata": {},
   "source": [
    "### Practical Clinical Example"
   ]
  },
  {
   "cell_type": "code",
   "execution_count": 19,
   "metadata": {},
   "outputs": [
    {
     "name": "stdout",
     "output_type": "stream",
     "text": [
      "=== HIGH-RISK DIABETIC PATIENTS ===\n",
      "  patient_id  age gender diagnosis  systolic_bp  hba1c  medication_adherence\n",
      "1       P002   62      F  Diabetes          130    8.1                  0.72\n",
      "3       P004   71      M  Diabetes          145    9.2                  0.68\n",
      "5       P006   55      M  Diabetes          155    7.8                  0.75\n",
      "\n",
      "Identified 3 high-risk patients\n",
      "Average HbA1c in this group: 8.4%\n",
      "Average adherence: 0.72\n"
     ]
    }
   ],
   "source": [
    "# Real-world scenario: Find high-risk diabetic patients\n",
    "# Criteria: Diabetes + HbA1c > 7.0 + Poor adherence < 0.80\n",
    "\n",
    "high_risk_diabetics = df[\n",
    "    (df['diagnosis'] == 'Diabetes') & \n",
    "    (df['hba1c'] > 7.0) & \n",
    "    (df['medication_adherence'] < 0.80)\n",
    "]\n",
    "\n",
    "print(\"=== HIGH-RISK DIABETIC PATIENTS ===\")\n",
    "print(high_risk_diabetics)\n",
    "print(f\"\\nIdentified {len(high_risk_diabetics)} high-risk patients\")\n",
    "\n",
    "if len(high_risk_diabetics) > 0:\n",
    "    print(f\"Average HbA1c in this group: {high_risk_diabetics['hba1c'].mean():.1f}%\")\n",
    "    print(f\"Average adherence: {high_risk_diabetics['medication_adherence'].mean():.2f}\")"
   ]
  },
  {
   "cell_type": "markdown",
   "metadata": {},
   "source": [
    "### Filtering Summary"
   ]
  },
  {
   "cell_type": "code",
   "execution_count": 20,
   "metadata": {},
   "outputs": [
    {
     "name": "stdout",
     "output_type": "stream",
     "text": [
      "=== FILTERING OPERATORS SUMMARY ===\n",
      "==  : equals\n",
      "!=  : not equals\n",
      ">   : greater than\n",
      ">= : greater than or equal\n",
      "<   : less than\n",
      "<=  : less than or equal\n",
      "&   : AND (both conditions)\n",
      "|   : OR (either condition)\n",
      "~   : NOT (opposite)\n",
      ".isin([list]) : value is in the list\n"
     ]
    }
   ],
   "source": [
    "print(\"=== FILTERING OPERATORS SUMMARY ===\")\n",
    "print(\"==  : equals\")\n",
    "print(\"!=  : not equals\") \n",
    "print(\">   : greater than\")\n",
    "print(\">= : greater than or equal\")\n",
    "print(\"<   : less than\")\n",
    "print(\"<=  : less than or equal\")\n",
    "print(\"&   : AND (both conditions)\")\n",
    "print(\"|   : OR (either condition)\")\n",
    "print(\"~   : NOT (opposite)\")\n",
    "print(\".isin([list]) : value is in the list\")"
   ]
  },
  {
   "cell_type": "markdown",
   "metadata": {},
   "source": [
    "---\n",
    "\n",
    "## 5. Putting It All Together: A Clinical Workflow\n",
    "\n",
    "Let's simulate a real clinical data analysis workflow:"
   ]
  },
  {
   "cell_type": "code",
   "execution_count": 21,
   "metadata": {},
   "outputs": [
    {
     "name": "stdout",
     "output_type": "stream",
     "text": [
      "=== CLINICAL DATA ANALYSIS WORKFLOW ===\n",
      "1. Loaded data: 8 patients, 7 variables\n",
      "2. Missing values: 0\n",
      "3. Patient population:\n",
      "   - Age range: 29-71 years\n",
      "   - Gender distribution: {'M': 4, 'F': 4}\n",
      "   - Diagnoses: {'Hypertension': 3, 'Diabetes': 3, 'Asthma': 2}\n",
      "4. Clinical insights:\n",
      "   - Diabetic patients: 3\n",
      "   - Average HbA1c: 8.4%\n",
      "   - Patients with HbA1c > 7%: 3\n",
      "   - Hypertensive patients: 3\n",
      "   - Average systolic BP: 134 mmHg\n"
     ]
    }
   ],
   "source": [
    "print(\"=== CLINICAL DATA ANALYSIS WORKFLOW ===\")\n",
    "\n",
    "# Step 1: Load and examine the data\n",
    "print(f\"1. Loaded data: {df.shape[0]} patients, {df.shape[1]} variables\")\n",
    "\n",
    "# Step 2: Data quality check\n",
    "print(f\"2. Missing values: {df.isnull().sum().sum()}\")\n",
    "\n",
    "# Step 3: Patient population summary\n",
    "print(\"3. Patient population:\")\n",
    "print(f\"   - Age range: {df['age'].min()}-{df['age'].max()} years\")\n",
    "print(f\"   - Gender distribution: {df['gender'].value_counts().to_dict()}\")\n",
    "print(f\"   - Diagnoses: {df['diagnosis'].value_counts().to_dict()}\")\n",
    "\n",
    "# Step 4: Clinical insights\n",
    "print(\"4. Clinical insights:\")\n",
    "diabetics = df[df['diagnosis'] == 'Diabetes']\n",
    "if len(diabetics) > 0:\n",
    "    print(f\"   - Diabetic patients: {len(diabetics)}\")\n",
    "    print(f\"   - Average HbA1c: {diabetics['hba1c'].mean():.1f}%\")\n",
    "    print(f\"   - Patients with HbA1c > 7%: {len(diabetics[diabetics['hba1c'] > 7.0])}\")\n",
    "\n",
    "hypertensives = df[df['diagnosis'] == 'Hypertension']\n",
    "if len(hypertensives) > 0:\n",
    "    print(f\"   - Hypertensive patients: {len(hypertensives)}\")\n",
    "    print(f\"   - Average systolic BP: {hypertensives['systolic_bp'].mean():.0f} mmHg\")"
   ]
  },
  {
   "cell_type": "markdown",
   "metadata": {},
   "source": [
    "---\n",
    "\n",
    "## 6. Next Steps and Best Practices\n",
    "\n",
    "### What You've Learned\n",
    "✅ How to import pandas and other essential modules  \n",
    "✅ How to read CSV files containing clinical data  \n",
    "✅ How to explore and understand DataFrames  \n",
    "✅ How to filter data to find specific patient populations  \n",
    "\n",
    "### Best Practices for Clinical Data"
   ]
  },
  {
   "cell_type": "code",
   "execution_count": 22,
   "metadata": {},
   "outputs": [
    {
     "name": "stdout",
     "output_type": "stream",
     "text": [
      "=== DATA VALIDATION CHECKLIST ===\n",
      "✓ Check data shape and types\n",
      "✓ Look for missing values\n",
      "✓ Verify value ranges make clinical sense\n",
      "✓ Check for duplicate patients\n",
      "✓ Validate categorical values\n",
      "\n",
      "Age range check: 29-71 years\n",
      "Systolic BP range: 110-155 mmHg\n",
      "HbA1c range: 4.8-9.2%\n"
     ]
    }
   ],
   "source": [
    "# Always check your data after loading\n",
    "print(\"=== DATA VALIDATION CHECKLIST ===\")\n",
    "print(\"✓ Check data shape and types\")\n",
    "print(\"✓ Look for missing values\")\n",
    "print(\"✓ Verify value ranges make clinical sense\")\n",
    "print(\"✓ Check for duplicate patients\")\n",
    "print(\"✓ Validate categorical values\")\n",
    "\n",
    "# Example validation\n",
    "print(f\"\\nAge range check: {df['age'].min()}-{df['age'].max()} years\")\n",
    "print(f\"Systolic BP range: {df['systolic_bp'].min()}-{df['systolic_bp'].max()} mmHg\")\n",
    "print(f\"HbA1c range: {df['hba1c'].min():.1f}-{df['hba1c'].max():.1f}%\")"
   ]
  },
  {
   "cell_type": "markdown",
   "metadata": {},
   "source": [
    "### What's Next?\n",
    "\n",
    "This notebook covered the fundamentals. In your data science journey, you'll learn:\n",
    "- More advanced filtering with `.loc[]` and `.iloc[]`\n",
    "- Grouping and aggregating data (e.g., average by diagnosis)\n",
    "- Merging datasets (combining lab results with demographics)\n",
    "- Handling missing data\n",
    "- Creating visualizations\n",
    "- Statistical analysis\n",
    "\n",
    "### Resources for Further Learning\n",
    "\n",
    "- **Pandas Documentation**: https://pandas.pydata.org/docs/\n",
    "- **Practice with real datasets**: Kaggle, UCI ML Repository\n",
    "- **Clinical data standards**: HL7 FHIR, OMOP Common Data Model"
   ]
  },
  {
   "cell_type": "markdown",
   "metadata": {},
   "source": [
    "---\n",
    "\n",
    "## Practice Exercises\n",
    "\n",
    "Try these exercises to reinforce your learning:"
   ]
  },
  {
   "cell_type": "code",
   "execution_count": 23,
   "metadata": {},
   "outputs": [
    {
     "name": "stdout",
     "output_type": "stream",
     "text": [
      "=== PRACTICE EXERCISES ===\n",
      "1. Find all female patients over 50\n",
      "2. Calculate the average medication adherence by diagnosis\n",
      "3. Find patients with systolic BP between 120-140 mmHg\n",
      "4. Identify patients who might need medication adjustment\n",
      "   (Hint: Consider diagnosis + relevant biomarker values)\n"
     ]
    }
   ],
   "source": [
    "print(\"=== PRACTICE EXERCISES ===\")\n",
    "print(\"1. Find all female patients over 50\")\n",
    "print(\"2. Calculate the average medication adherence by diagnosis\")\n",
    "print(\"3. Find patients with systolic BP between 120-140 mmHg\")\n",
    "print(\"4. Identify patients who might need medication adjustment\")\n",
    "print(\"   (Hint: Consider diagnosis + relevant biomarker values)\")"
   ]
  },
  {
   "cell_type": "markdown",
   "metadata": {},
   "source": [
    "**Congratulations!** You now have the foundation to work with clinical data using pandas. This is your first step toward leveraging data science for personalised medicine."
   ]
  },
  {
   "cell_type": "code",
   "execution_count": null,
   "metadata": {},
   "outputs": [],
   "source": []
  }
 ],
 "metadata": {
  "kernelspec": {
   "display_name": "precision-course-env",
   "language": "python",
   "name": "python3"
  },
  "language_info": {
   "codemirror_mode": {
    "name": "ipython",
    "version": 3
   },
   "file_extension": ".py",
   "mimetype": "text/x-python",
   "name": "python",
   "nbconvert_exporter": "python",
   "pygments_lexer": "ipython3",
   "version": "3.9.21"
  }
 },
 "nbformat": 4,
 "nbformat_minor": 4
}
