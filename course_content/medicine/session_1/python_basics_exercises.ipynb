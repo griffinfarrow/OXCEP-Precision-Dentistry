{
 "cells": [
  {
   "cell_type": "markdown",
   "id": "64da80e2",
   "metadata": {},
   "source": [
    "# Python Exercises"
   ]
  },
  {
   "cell_type": "markdown",
   "id": "3137377f",
   "metadata": {},
   "source": [
    "This notebook is intended to give you a chance to practice the Python you learned in the `python_basics.ipynb` notebook!  \n",
    "  \n",
    "This is divided into cells that you can try out. If you get the correct answer to the puzzle, it will say \"Correct\" when you run the next cell"
   ]
  },
  {
   "cell_type": "markdown",
   "id": "7931ab14",
   "metadata": {},
   "source": [
    "## 1) Importing Libraries\n",
    "\n",
    "**Task**: Import the `numpy` library as `np`, the `pandas` library as `pd` and the `matplotlib.pyplot` library as `plt`"
   ]
  },
  {
   "cell_type": "code",
   "execution_count": 1,
   "id": "ac774839",
   "metadata": {},
   "outputs": [],
   "source": [
    "# write your code here\n",
    "\n",
    "import numpy as np\n",
    "import pandas as pd \n",
    "import matplotlib.pyplot as plt"
   ]
  },
  {
   "cell_type": "markdown",
   "id": "dd6fb8ad",
   "metadata": {},
   "source": [
    "Try to use the `help()` function to produce the help information for a `array` in numpy"
   ]
  },
  {
   "cell_type": "code",
   "execution_count": 2,
   "id": "63e7e8c8",
   "metadata": {},
   "outputs": [
    {
     "name": "stdout",
     "output_type": "stream",
     "text": [
      "Help on built-in function array in module numpy:\n",
      "\n",
      "array(...)\n",
      "    array(object, dtype=None, *, copy=True, order='K', subok=False, ndmin=0,\n",
      "          like=None)\n",
      "\n",
      "    Create an array.\n",
      "\n",
      "    Parameters\n",
      "    ----------\n",
      "    object : array_like\n",
      "        An array, any object exposing the array interface, an object whose\n",
      "        ``__array__`` method returns an array, or any (nested) sequence.\n",
      "        If object is a scalar, a 0-dimensional array containing object is\n",
      "        returned.\n",
      "    dtype : data-type, optional\n",
      "        The desired data-type for the array. If not given, NumPy will try to use\n",
      "        a default ``dtype`` that can represent the values (by applying promotion\n",
      "        rules when necessary.)\n",
      "    copy : bool, optional\n",
      "        If ``True`` (default), then the array data is copied. If ``None``,\n",
      "        a copy will only be made if ``__array__`` returns a copy, if obj is\n",
      "        a nested sequence, or if a copy is needed to satisfy any of the other\n",
      "        requirements (``dtype``, ``order``, etc.). Note that any copy of\n",
      "        the data is shallow, i.e., for arrays with object dtype, the new\n",
      "        array will point to the same objects. See Examples for `ndarray.copy`.\n",
      "        For ``False`` it raises a ``ValueError`` if a copy cannot be avoided.\n",
      "        Default: ``True``.\n",
      "    order : {'K', 'A', 'C', 'F'}, optional\n",
      "        Specify the memory layout of the array. If object is not an array, the\n",
      "        newly created array will be in C order (row major) unless 'F' is\n",
      "        specified, in which case it will be in Fortran order (column major).\n",
      "        If object is an array the following holds.\n",
      "\n",
      "        ===== ========= ===================================================\n",
      "        order  no copy                     copy=True\n",
      "        ===== ========= ===================================================\n",
      "        'K'   unchanged F & C order preserved, otherwise most similar order\n",
      "        'A'   unchanged F order if input is F and not C, otherwise C order\n",
      "        'C'   C order   C order\n",
      "        'F'   F order   F order\n",
      "        ===== ========= ===================================================\n",
      "\n",
      "        When ``copy=None`` and a copy is made for other reasons, the result is\n",
      "        the same as if ``copy=True``, with some exceptions for 'A', see the\n",
      "        Notes section. The default order is 'K'.\n",
      "    subok : bool, optional\n",
      "        If True, then sub-classes will be passed-through, otherwise\n",
      "        the returned array will be forced to be a base-class array (default).\n",
      "    ndmin : int, optional\n",
      "        Specifies the minimum number of dimensions that the resulting\n",
      "        array should have.  Ones will be prepended to the shape as\n",
      "        needed to meet this requirement.\n",
      "    like : array_like, optional\n",
      "        Reference object to allow the creation of arrays which are not\n",
      "        NumPy arrays. If an array-like passed in as ``like`` supports\n",
      "        the ``__array_function__`` protocol, the result will be defined\n",
      "        by it. In this case, it ensures the creation of an array object\n",
      "        compatible with that passed in via this argument.\n",
      "\n",
      "        .. versionadded:: 1.20.0\n",
      "\n",
      "    Returns\n",
      "    -------\n",
      "    out : ndarray\n",
      "        An array object satisfying the specified requirements.\n",
      "\n",
      "    See Also\n",
      "    --------\n",
      "    empty_like : Return an empty array with shape and type of input.\n",
      "    ones_like : Return an array of ones with shape and type of input.\n",
      "    zeros_like : Return an array of zeros with shape and type of input.\n",
      "    full_like : Return a new array with shape of input filled with value.\n",
      "    empty : Return a new uninitialized array.\n",
      "    ones : Return a new array setting values to one.\n",
      "    zeros : Return a new array setting values to zero.\n",
      "    full : Return a new array of given shape filled with value.\n",
      "    copy: Return an array copy of the given object.\n",
      "\n",
      "\n",
      "    Notes\n",
      "    -----\n",
      "    When order is 'A' and ``object`` is an array in neither 'C' nor 'F' order,\n",
      "    and a copy is forced by a change in dtype, then the order of the result is\n",
      "    not necessarily 'C' as expected. This is likely a bug.\n",
      "\n",
      "    Examples\n",
      "    --------\n",
      "    >>> import numpy as np\n",
      "    >>> np.array([1, 2, 3])\n",
      "    array([1, 2, 3])\n",
      "\n",
      "    Upcasting:\n",
      "\n",
      "    >>> np.array([1, 2, 3.0])\n",
      "    array([ 1.,  2.,  3.])\n",
      "\n",
      "    More than one dimension:\n",
      "\n",
      "    >>> np.array([[1, 2], [3, 4]])\n",
      "    array([[1, 2],\n",
      "           [3, 4]])\n",
      "\n",
      "    Minimum dimensions 2:\n",
      "\n",
      "    >>> np.array([1, 2, 3], ndmin=2)\n",
      "    array([[1, 2, 3]])\n",
      "\n",
      "    Type provided:\n",
      "\n",
      "    >>> np.array([1, 2, 3], dtype=complex)\n",
      "    array([ 1.+0.j,  2.+0.j,  3.+0.j])\n",
      "\n",
      "    Data-type consisting of more than one element:\n",
      "\n",
      "    >>> x = np.array([(1,2),(3,4)],dtype=[('a','<i4'),('b','<i4')])\n",
      "    >>> x['a']\n",
      "    array([1, 3])\n",
      "\n",
      "    Creating an array from sub-classes:\n",
      "\n",
      "    >>> np.array(np.asmatrix('1 2; 3 4'))\n",
      "    array([[1, 2],\n",
      "           [3, 4]])\n",
      "\n",
      "    >>> np.array(np.asmatrix('1 2; 3 4'), subok=True)\n",
      "    matrix([[1, 2],\n",
      "            [3, 4]])\n",
      "\n"
     ]
    }
   ],
   "source": [
    "# write your code here\n",
    "\n",
    "help(np.array)"
   ]
  },
  {
   "cell_type": "markdown",
   "id": "b544cd36",
   "metadata": {},
   "source": [
    "**Task**: Fix this next cell so that it no longer raises an error"
   ]
  },
  {
   "cell_type": "code",
   "execution_count": 4,
   "id": "fd441bf2",
   "metadata": {},
   "outputs": [],
   "source": [
    "# fix the error in this cell\n",
    "\n",
    "import sklearn as skl"
   ]
  },
  {
   "cell_type": "markdown",
   "id": "767efd48",
   "metadata": {},
   "source": [
    "**Task**: The next cell should be formatted as a comment. Make the cell into a comment so that it no longer raises an error"
   ]
  },
  {
   "cell_type": "code",
   "execution_count": 6,
   "id": "586d13b3",
   "metadata": {},
   "outputs": [],
   "source": [
    "# I am supposed to be a comment and I will not run until I am"
   ]
  },
  {
   "cell_type": "markdown",
   "id": "9140f3e8",
   "metadata": {},
   "source": [
    "## 2) Reading in data\n",
    "\n",
    "**Task**: Use the pandas library to read in the \"sample_patient_data.csv\" file in the cell below. You should call your dataset `df`."
   ]
  },
  {
   "cell_type": "code",
   "execution_count": 7,
   "id": "881e7fe1",
   "metadata": {},
   "outputs": [],
   "source": [
    "# write your code here\n",
    "df = pd.read_csv(\"sample_patient_data.csv\")"
   ]
  },
  {
   "cell_type": "markdown",
   "id": "9038f842",
   "metadata": {},
   "source": [
    "**Task**: Explore the data\n",
    "Answer the following questions when you are done"
   ]
  },
  {
   "cell_type": "code",
   "execution_count": 8,
   "id": "4e6b580e",
   "metadata": {},
   "outputs": [
    {
     "data": {
      "text/html": [
       "<div>\n",
       "<style scoped>\n",
       "    .dataframe tbody tr th:only-of-type {\n",
       "        vertical-align: middle;\n",
       "    }\n",
       "\n",
       "    .dataframe tbody tr th {\n",
       "        vertical-align: top;\n",
       "    }\n",
       "\n",
       "    .dataframe thead th {\n",
       "        text-align: right;\n",
       "    }\n",
       "</style>\n",
       "<table border=\"1\" class=\"dataframe\">\n",
       "  <thead>\n",
       "    <tr style=\"text-align: right;\">\n",
       "      <th></th>\n",
       "      <th>patient_id</th>\n",
       "      <th>age</th>\n",
       "      <th>gender</th>\n",
       "      <th>diagnosis</th>\n",
       "      <th>systolic_bp</th>\n",
       "      <th>hba1c</th>\n",
       "      <th>medication_adherence</th>\n",
       "    </tr>\n",
       "  </thead>\n",
       "  <tbody>\n",
       "    <tr>\n",
       "      <th>0</th>\n",
       "      <td>P001</td>\n",
       "      <td>45</td>\n",
       "      <td>M</td>\n",
       "      <td>Hypertension</td>\n",
       "      <td>140</td>\n",
       "      <td>5.2</td>\n",
       "      <td>0.85</td>\n",
       "    </tr>\n",
       "    <tr>\n",
       "      <th>1</th>\n",
       "      <td>P002</td>\n",
       "      <td>62</td>\n",
       "      <td>F</td>\n",
       "      <td>Diabetes</td>\n",
       "      <td>130</td>\n",
       "      <td>8.1</td>\n",
       "      <td>0.72</td>\n",
       "    </tr>\n",
       "    <tr>\n",
       "      <th>2</th>\n",
       "      <td>P003</td>\n",
       "      <td>38</td>\n",
       "      <td>F</td>\n",
       "      <td>Asthma</td>\n",
       "      <td>110</td>\n",
       "      <td>5.0</td>\n",
       "      <td>0.95</td>\n",
       "    </tr>\n",
       "    <tr>\n",
       "      <th>3</th>\n",
       "      <td>P004</td>\n",
       "      <td>71</td>\n",
       "      <td>M</td>\n",
       "      <td>Diabetes</td>\n",
       "      <td>145</td>\n",
       "      <td>9.2</td>\n",
       "      <td>0.68</td>\n",
       "    </tr>\n",
       "    <tr>\n",
       "      <th>4</th>\n",
       "      <td>P005</td>\n",
       "      <td>29</td>\n",
       "      <td>F</td>\n",
       "      <td>Hypertension</td>\n",
       "      <td>125</td>\n",
       "      <td>4.8</td>\n",
       "      <td>0.90</td>\n",
       "    </tr>\n",
       "  </tbody>\n",
       "</table>\n",
       "</div>"
      ],
      "text/plain": [
       "  patient_id  age gender     diagnosis  systolic_bp  hba1c  \\\n",
       "0       P001   45      M  Hypertension          140    5.2   \n",
       "1       P002   62      F      Diabetes          130    8.1   \n",
       "2       P003   38      F        Asthma          110    5.0   \n",
       "3       P004   71      M      Diabetes          145    9.2   \n",
       "4       P005   29      F  Hypertension          125    4.8   \n",
       "\n",
       "   medication_adherence  \n",
       "0                  0.85  \n",
       "1                  0.72  \n",
       "2                  0.95  \n",
       "3                  0.68  \n",
       "4                  0.90  "
      ]
     },
     "execution_count": 8,
     "metadata": {},
     "output_type": "execute_result"
    }
   ],
   "source": [
    "# you can write code for data exploration here\n",
    "df.head()"
   ]
  },
  {
   "cell_type": "code",
   "execution_count": 10,
   "id": "ff7f8e2e-94de-47b4-a24c-c5fcb7631f74",
   "metadata": {},
   "outputs": [
    {
     "data": {
      "text/html": [
       "<div>\n",
       "<style scoped>\n",
       "    .dataframe tbody tr th:only-of-type {\n",
       "        vertical-align: middle;\n",
       "    }\n",
       "\n",
       "    .dataframe tbody tr th {\n",
       "        vertical-align: top;\n",
       "    }\n",
       "\n",
       "    .dataframe thead th {\n",
       "        text-align: right;\n",
       "    }\n",
       "</style>\n",
       "<table border=\"1\" class=\"dataframe\">\n",
       "  <thead>\n",
       "    <tr style=\"text-align: right;\">\n",
       "      <th></th>\n",
       "      <th>age</th>\n",
       "      <th>systolic_bp</th>\n",
       "      <th>hba1c</th>\n",
       "      <th>medication_adherence</th>\n",
       "    </tr>\n",
       "  </thead>\n",
       "  <tbody>\n",
       "    <tr>\n",
       "      <th>count</th>\n",
       "      <td>8.000000</td>\n",
       "      <td>8.000000</td>\n",
       "      <td>8.000000</td>\n",
       "      <td>8.00000</td>\n",
       "    </tr>\n",
       "    <tr>\n",
       "      <th>mean</th>\n",
       "      <td>51.250000</td>\n",
       "      <td>132.250000</td>\n",
       "      <td>6.337500</td>\n",
       "      <td>0.81875</td>\n",
       "    </tr>\n",
       "    <tr>\n",
       "      <th>std</th>\n",
       "      <td>15.097303</td>\n",
       "      <td>15.229201</td>\n",
       "      <td>1.736941</td>\n",
       "      <td>0.09433</td>\n",
       "    </tr>\n",
       "    <tr>\n",
       "      <th>min</th>\n",
       "      <td>29.000000</td>\n",
       "      <td>110.000000</td>\n",
       "      <td>4.800000</td>\n",
       "      <td>0.68000</td>\n",
       "    </tr>\n",
       "    <tr>\n",
       "      <th>25%</th>\n",
       "      <td>41.000000</td>\n",
       "      <td>122.500000</td>\n",
       "      <td>5.075000</td>\n",
       "      <td>0.74250</td>\n",
       "    </tr>\n",
       "    <tr>\n",
       "      <th>50%</th>\n",
       "      <td>50.000000</td>\n",
       "      <td>134.000000</td>\n",
       "      <td>5.350000</td>\n",
       "      <td>0.83500</td>\n",
       "    </tr>\n",
       "    <tr>\n",
       "      <th>75%</th>\n",
       "      <td>63.500000</td>\n",
       "      <td>141.250000</td>\n",
       "      <td>7.875000</td>\n",
       "      <td>0.88500</td>\n",
       "    </tr>\n",
       "    <tr>\n",
       "      <th>max</th>\n",
       "      <td>71.000000</td>\n",
       "      <td>155.000000</td>\n",
       "      <td>9.200000</td>\n",
       "      <td>0.95000</td>\n",
       "    </tr>\n",
       "  </tbody>\n",
       "</table>\n",
       "</div>"
      ],
      "text/plain": [
       "             age  systolic_bp     hba1c  medication_adherence\n",
       "count   8.000000     8.000000  8.000000               8.00000\n",
       "mean   51.250000   132.250000  6.337500               0.81875\n",
       "std    15.097303    15.229201  1.736941               0.09433\n",
       "min    29.000000   110.000000  4.800000               0.68000\n",
       "25%    41.000000   122.500000  5.075000               0.74250\n",
       "50%    50.000000   134.000000  5.350000               0.83500\n",
       "75%    63.500000   141.250000  7.875000               0.88500\n",
       "max    71.000000   155.000000  9.200000               0.95000"
      ]
     },
     "execution_count": 10,
     "metadata": {},
     "output_type": "execute_result"
    }
   ],
   "source": [
    "df.describe()"
   ]
  },
  {
   "cell_type": "code",
   "execution_count": 11,
   "id": "028e8924-78cd-4edd-9d8f-8fd20fd66667",
   "metadata": {},
   "outputs": [
    {
     "data": {
      "text/plain": [
       "patient_id               object\n",
       "age                       int64\n",
       "gender                   object\n",
       "diagnosis                object\n",
       "systolic_bp               int64\n",
       "hba1c                   float64\n",
       "medication_adherence    float64\n",
       "dtype: object"
      ]
     },
     "execution_count": 11,
     "metadata": {},
     "output_type": "execute_result"
    }
   ],
   "source": [
    "df.dtypes"
   ]
  },
  {
   "cell_type": "code",
   "execution_count": 13,
   "id": "b08147fe-8846-4d82-baac-3029eae6ca47",
   "metadata": {},
   "outputs": [
    {
     "data": {
      "text/plain": [
       "(8, 7)"
      ]
     },
     "execution_count": 13,
     "metadata": {},
     "output_type": "execute_result"
    }
   ],
   "source": [
    "df.shape"
   ]
  },
  {
   "cell_type": "code",
   "execution_count": 14,
   "id": "eb79f8e6-37dd-4a78-9f72-09137ff725e3",
   "metadata": {},
   "outputs": [
    {
     "data": {
      "text/plain": [
       "Index(['patient_id', 'age', 'gender', 'diagnosis', 'systolic_bp', 'hba1c',\n",
       "       'medication_adherence'],\n",
       "      dtype='object')"
      ]
     },
     "execution_count": 14,
     "metadata": {},
     "output_type": "execute_result"
    }
   ],
   "source": [
    "df.columns"
   ]
  },
  {
   "cell_type": "markdown",
   "id": "d63b1a02",
   "metadata": {},
   "source": [
    "#### 1. How many patients do we have?"
   ]
  },
  {
   "cell_type": "markdown",
   "id": "b08a6771",
   "metadata": {},
   "source": [
    "<div style=\"border: 2px solid #ddd; background-color: #f9f9f9; padding: 15px; margin: 10px 0; border-radius: 8px; color: #333;\">\n",
    "\n",
    "*Write your answer in this box*\n",
    "\n",
    "8"
   ]
  },
  {
   "cell_type": "markdown",
   "id": "1cc9592f",
   "metadata": {},
   "source": [
    "#### 2. What are the features of our data?"
   ]
  },
  {
   "cell_type": "markdown",
   "id": "18ea0f60",
   "metadata": {},
   "source": [
    "<div style=\"border: 2px solid #ddd; background-color: #f9f9f9; padding: 15px; margin: 10px 0; border-radius: 8px; color: #333;\">\n",
    "\n",
    "*Write your answer in this box*\n",
    "7:\n",
    "\n"
   ]
  },
  {
   "cell_type": "markdown",
   "id": "1b9e9e42",
   "metadata": {},
   "source": [
    "#### 3. What are the data types in our data?\n",
    "Remember: each feature has a data type. It can be an integer (a whole number), a float (a decimal) or a string (text)"
   ]
  },
  {
   "cell_type": "markdown",
   "id": "2c5f4786",
   "metadata": {},
   "source": [
    "<div style=\"border: 2px solid #ddd; background-color: #f9f9f9; padding: 15px; margin: 10px 0; border-radius: 8px; color: #333;\">\n",
    "\n",
    "*Write your answer in this box*\n",
    "\n",
    "\n"
   ]
  },
  {
   "cell_type": "markdown",
   "id": "c3a3a574",
   "metadata": {},
   "source": [
    "## 3) Tasks to check understanding\n",
    "\n",
    "Use pandas to answer the following questions:"
   ]
  },
  {
   "cell_type": "markdown",
   "id": "d88beef8",
   "metadata": {},
   "source": [
    "#### 1. Find all female patients who are over the age of 50"
   ]
  },
  {
   "cell_type": "code",
   "execution_count": 16,
   "id": "dada6635",
   "metadata": {},
   "outputs": [
    {
     "data": {
      "text/html": [
       "<div>\n",
       "<style scoped>\n",
       "    .dataframe tbody tr th:only-of-type {\n",
       "        vertical-align: middle;\n",
       "    }\n",
       "\n",
       "    .dataframe tbody tr th {\n",
       "        vertical-align: top;\n",
       "    }\n",
       "\n",
       "    .dataframe thead th {\n",
       "        text-align: right;\n",
       "    }\n",
       "</style>\n",
       "<table border=\"1\" class=\"dataframe\">\n",
       "  <thead>\n",
       "    <tr style=\"text-align: right;\">\n",
       "      <th></th>\n",
       "      <th>patient_id</th>\n",
       "      <th>age</th>\n",
       "      <th>gender</th>\n",
       "      <th>diagnosis</th>\n",
       "      <th>systolic_bp</th>\n",
       "      <th>hba1c</th>\n",
       "      <th>medication_adherence</th>\n",
       "    </tr>\n",
       "  </thead>\n",
       "  <tbody>\n",
       "    <tr>\n",
       "      <th>1</th>\n",
       "      <td>P002</td>\n",
       "      <td>62</td>\n",
       "      <td>F</td>\n",
       "      <td>Diabetes</td>\n",
       "      <td>130</td>\n",
       "      <td>8.1</td>\n",
       "      <td>0.72</td>\n",
       "    </tr>\n",
       "    <tr>\n",
       "      <th>6</th>\n",
       "      <td>P007</td>\n",
       "      <td>68</td>\n",
       "      <td>F</td>\n",
       "      <td>Asthma</td>\n",
       "      <td>115</td>\n",
       "      <td>5.1</td>\n",
       "      <td>0.88</td>\n",
       "    </tr>\n",
       "  </tbody>\n",
       "</table>\n",
       "</div>"
      ],
      "text/plain": [
       "  patient_id  age gender diagnosis  systolic_bp  hba1c  medication_adherence\n",
       "1       P002   62      F  Diabetes          130    8.1                  0.72\n",
       "6       P007   68      F    Asthma          115    5.1                  0.88"
      ]
     },
     "execution_count": 16,
     "metadata": {},
     "output_type": "execute_result"
    }
   ],
   "source": [
    "# write your code here \n",
    "df[(df[\"age\"] > 50) & (df[\"gender\"] == \"F\")]"
   ]
  },
  {
   "cell_type": "markdown",
   "id": "a404c2da",
   "metadata": {},
   "source": [
    "#### 2. Calculate the average medication adherence by diagnosis"
   ]
  },
  {
   "cell_type": "code",
   "execution_count": 17,
   "id": "c4e5ada4",
   "metadata": {},
   "outputs": [
    {
     "data": {
      "text/plain": [
       "diagnosis\n",
       "Hypertension    3\n",
       "Diabetes        3\n",
       "Asthma          2\n",
       "Name: count, dtype: int64"
      ]
     },
     "execution_count": 17,
     "metadata": {},
     "output_type": "execute_result"
    }
   ],
   "source": [
    "# write your code here\n",
    "df[\"diagnosis\"].value_counts()"
   ]
  },
  {
   "cell_type": "code",
   "execution_count": 21,
   "id": "2aa125b5-4a4f-4004-b168-e5b466ea9dd8",
   "metadata": {},
   "outputs": [
    {
     "data": {
      "text/plain": [
       "np.float64(0.8566666666666666)"
      ]
     },
     "execution_count": 21,
     "metadata": {},
     "output_type": "execute_result"
    }
   ],
   "source": [
    "df.loc[df[\"diagnosis\"] == \"Hypertension\", \"medication_adherence\"].mean()"
   ]
  },
  {
   "cell_type": "markdown",
   "id": "9b9830f7",
   "metadata": {},
   "source": [
    "#### 3. Find patients with systolic BP between 120-140 mmHg"
   ]
  },
  {
   "cell_type": "code",
   "execution_count": 22,
   "id": "76f5a753",
   "metadata": {},
   "outputs": [
    {
     "data": {
      "text/html": [
       "<div>\n",
       "<style scoped>\n",
       "    .dataframe tbody tr th:only-of-type {\n",
       "        vertical-align: middle;\n",
       "    }\n",
       "\n",
       "    .dataframe tbody tr th {\n",
       "        vertical-align: top;\n",
       "    }\n",
       "\n",
       "    .dataframe thead th {\n",
       "        text-align: right;\n",
       "    }\n",
       "</style>\n",
       "<table border=\"1\" class=\"dataframe\">\n",
       "  <thead>\n",
       "    <tr style=\"text-align: right;\">\n",
       "      <th></th>\n",
       "      <th>patient_id</th>\n",
       "      <th>age</th>\n",
       "      <th>gender</th>\n",
       "      <th>diagnosis</th>\n",
       "      <th>systolic_bp</th>\n",
       "      <th>hba1c</th>\n",
       "      <th>medication_adherence</th>\n",
       "    </tr>\n",
       "  </thead>\n",
       "  <tbody>\n",
       "    <tr>\n",
       "      <th>1</th>\n",
       "      <td>P002</td>\n",
       "      <td>62</td>\n",
       "      <td>F</td>\n",
       "      <td>Diabetes</td>\n",
       "      <td>130</td>\n",
       "      <td>8.1</td>\n",
       "      <td>0.72</td>\n",
       "    </tr>\n",
       "    <tr>\n",
       "      <th>4</th>\n",
       "      <td>P005</td>\n",
       "      <td>29</td>\n",
       "      <td>F</td>\n",
       "      <td>Hypertension</td>\n",
       "      <td>125</td>\n",
       "      <td>4.8</td>\n",
       "      <td>0.90</td>\n",
       "    </tr>\n",
       "    <tr>\n",
       "      <th>7</th>\n",
       "      <td>P008</td>\n",
       "      <td>42</td>\n",
       "      <td>M</td>\n",
       "      <td>Hypertension</td>\n",
       "      <td>138</td>\n",
       "      <td>5.5</td>\n",
       "      <td>0.82</td>\n",
       "    </tr>\n",
       "  </tbody>\n",
       "</table>\n",
       "</div>"
      ],
      "text/plain": [
       "  patient_id  age gender     diagnosis  systolic_bp  hba1c  \\\n",
       "1       P002   62      F      Diabetes          130    8.1   \n",
       "4       P005   29      F  Hypertension          125    4.8   \n",
       "7       P008   42      M  Hypertension          138    5.5   \n",
       "\n",
       "   medication_adherence  \n",
       "1                  0.72  \n",
       "4                  0.90  \n",
       "7                  0.82  "
      ]
     },
     "execution_count": 22,
     "metadata": {},
     "output_type": "execute_result"
    }
   ],
   "source": [
    "# write your code here\n",
    "\n",
    "df[(df[\"systolic_bp\"] > 120) & (df[\"systolic_bp\"] < 140)]"
   ]
  },
  {
   "cell_type": "code",
   "execution_count": 23,
   "id": "bb00f35c-5fe0-4d20-98b7-39d63ea88dc0",
   "metadata": {},
   "outputs": [
    {
     "ename": "ValueError",
     "evalue": "The truth value of a Series is ambiguous. Use a.empty, a.bool(), a.item(), a.any() or a.all().",
     "output_type": "error",
     "traceback": [
      "\u001b[0;31m---------------------------------------------------------------------------\u001b[0m",
      "\u001b[0;31mValueError\u001b[0m                                Traceback (most recent call last)",
      "\u001b[0;32m/var/folders/kb/06bb15wj1bx_tnb_wwd4mc_80000gn/T/ipykernel_44923/3023402036.py\u001b[0m in \u001b[0;36m?\u001b[0;34m()\u001b[0m\n\u001b[0;32m----> 1\u001b[0;31m \u001b[0mdf\u001b[0m\u001b[0;34m[\u001b[0m\u001b[0;36m120\u001b[0m \u001b[0;34m<\u001b[0m \u001b[0mdf\u001b[0m\u001b[0;34m[\u001b[0m\u001b[0;34m\"systolic_bp\"\u001b[0m\u001b[0;34m]\u001b[0m \u001b[0;34m<\u001b[0m \u001b[0;36m140\u001b[0m\u001b[0;34m]\u001b[0m\u001b[0;34m\u001b[0m\u001b[0;34m\u001b[0m\u001b[0m\n\u001b[0m",
      "\u001b[0;32m/opt/anaconda3/lib/python3.13/site-packages/pandas/core/generic.py\u001b[0m in \u001b[0;36m?\u001b[0;34m(self)\u001b[0m\n\u001b[1;32m   1575\u001b[0m     \u001b[0;34m@\u001b[0m\u001b[0mfinal\u001b[0m\u001b[0;34m\u001b[0m\u001b[0;34m\u001b[0m\u001b[0m\n\u001b[1;32m   1576\u001b[0m     \u001b[0;32mdef\u001b[0m \u001b[0m__nonzero__\u001b[0m\u001b[0;34m(\u001b[0m\u001b[0mself\u001b[0m\u001b[0;34m)\u001b[0m \u001b[0;34m->\u001b[0m \u001b[0mNoReturn\u001b[0m\u001b[0;34m:\u001b[0m\u001b[0;34m\u001b[0m\u001b[0;34m\u001b[0m\u001b[0m\n\u001b[0;32m-> 1577\u001b[0;31m         raise ValueError(\n\u001b[0m\u001b[1;32m   1578\u001b[0m             \u001b[0;34mf\"\u001b[0m\u001b[0;34mThe truth value of a \u001b[0m\u001b[0;34m{\u001b[0m\u001b[0mtype\u001b[0m\u001b[0;34m(\u001b[0m\u001b[0mself\u001b[0m\u001b[0;34m)\u001b[0m\u001b[0;34m.\u001b[0m\u001b[0m__name__\u001b[0m\u001b[0;34m}\u001b[0m\u001b[0;34m is ambiguous. \u001b[0m\u001b[0;34m\"\u001b[0m\u001b[0;34m\u001b[0m\u001b[0;34m\u001b[0m\u001b[0m\n\u001b[1;32m   1579\u001b[0m             \u001b[0;34m\"Use a.empty, a.bool(), a.item(), a.any() or a.all().\"\u001b[0m\u001b[0;34m\u001b[0m\u001b[0;34m\u001b[0m\u001b[0m\n\u001b[1;32m   1580\u001b[0m         \u001b[0;34m)\u001b[0m\u001b[0;34m\u001b[0m\u001b[0;34m\u001b[0m\u001b[0m\n",
      "\u001b[0;31mValueError\u001b[0m: The truth value of a Series is ambiguous. Use a.empty, a.bool(), a.item(), a.any() or a.all()."
     ]
    }
   ],
   "source": [
    "df[120 < df[\"systolic_bp\"] < 140]"
   ]
  },
  {
   "cell_type": "markdown",
   "id": "6feac2f8",
   "metadata": {},
   "source": [
    "#### 4. What is the average age of the patients?"
   ]
  },
  {
   "cell_type": "code",
   "execution_count": 26,
   "id": "a177255f",
   "metadata": {},
   "outputs": [
    {
     "data": {
      "text/plain": [
       "50.0"
      ]
     },
     "execution_count": 26,
     "metadata": {},
     "output_type": "execute_result"
    }
   ],
   "source": [
    "# write your code here\n",
    "\n",
    "df[\"age\"].median()"
   ]
  },
  {
   "cell_type": "markdown",
   "id": "7c6b9525",
   "metadata": {},
   "source": [
    "#### 5. Save the dataset to a file \n",
    "  \n",
    "Hint: To save a dataset, we can use `df.to_csv()`. \n",
    "Use `help(df.to_csv())` for information about how to use this function"
   ]
  },
  {
   "cell_type": "code",
   "execution_count": 29,
   "id": "64e90f5c",
   "metadata": {},
   "outputs": [],
   "source": [
    "df.to_csv(\"saved_file.csv\")"
   ]
  },
  {
   "cell_type": "code",
   "execution_count": null,
   "id": "b3fe9230-a0c3-4dba-90fa-e8e06b688f2e",
   "metadata": {},
   "outputs": [],
   "source": []
  }
 ],
 "metadata": {
  "kernelspec": {
   "display_name": "Python [conda env:base] *",
   "language": "python",
   "name": "conda-base-py"
  },
  "language_info": {
   "codemirror_mode": {
    "name": "ipython",
    "version": 3
   },
   "file_extension": ".py",
   "mimetype": "text/x-python",
   "name": "python",
   "nbconvert_exporter": "python",
   "pygments_lexer": "ipython3",
   "version": "3.13.5"
  }
 },
 "nbformat": 4,
 "nbformat_minor": 5
}
