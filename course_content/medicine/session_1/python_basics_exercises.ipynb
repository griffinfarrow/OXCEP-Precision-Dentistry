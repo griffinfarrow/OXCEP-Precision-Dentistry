{
 "cells": [
  {
   "cell_type": "markdown",
   "id": "64da80e2",
   "metadata": {},
   "source": [
    "# Python Exercises"
   ]
  },
  {
   "cell_type": "markdown",
   "id": "3137377f",
   "metadata": {},
   "source": [
    "This notebook is intended to give you a chance to practice the Python you learned in the `python_basics.ipynb` notebook!  \n",
    "  \n",
    "This is divided into cells that you can try out. If you get the correct answer to the puzzle, it will say \"Correct\" when you run the next cell"
   ]
  },
  {
   "cell_type": "markdown",
   "id": "7931ab14",
   "metadata": {},
   "source": [
    "## 1) Importing Libraries\n",
    "\n",
    "**Task**: Import the `numpy` library as `np`, the `pandas` library as `pd` and the `matplotlib.pyplot` library as `plt`"
   ]
  },
  {
   "cell_type": "code",
   "execution_count": 21,
   "id": "ac774839",
   "metadata": {},
   "outputs": [],
   "source": [
    "# write your code here"
   ]
  },
  {
   "cell_type": "markdown",
   "id": "dd6fb8ad",
   "metadata": {},
   "source": [
    "Try to use the `help()` function to produce the help information for a `array` in numpy"
   ]
  },
  {
   "cell_type": "code",
   "execution_count": 22,
   "id": "63e7e8c8",
   "metadata": {},
   "outputs": [],
   "source": [
    "# write your code here"
   ]
  },
  {
   "cell_type": "markdown",
   "id": "b544cd36",
   "metadata": {},
   "source": [
    "**Task**: Fix this next cell so that it no longer raises an error"
   ]
  },
  {
   "cell_type": "code",
   "execution_count": 23,
   "id": "fd441bf2",
   "metadata": {},
   "outputs": [
    {
     "ename": "SyntaxError",
     "evalue": "invalid syntax (3679630725.py, line 3)",
     "output_type": "error",
     "traceback": [
      "\u001b[0;36m  Cell \u001b[0;32mIn[23], line 3\u001b[0;36m\u001b[0m\n\u001b[0;31m    include sklearn as skl\u001b[0m\n\u001b[0m            ^\u001b[0m\n\u001b[0;31mSyntaxError\u001b[0m\u001b[0;31m:\u001b[0m invalid syntax\n"
     ]
    }
   ],
   "source": [
    "# fix the error in this cell\n",
    "\n",
    "include sklearn as skl"
   ]
  },
  {
   "cell_type": "markdown",
   "id": "767efd48",
   "metadata": {},
   "source": [
    "**Task**: The next cell should be formatted as a comment. Make the cell into a comment so that it no longer raises an error"
   ]
  },
  {
   "cell_type": "code",
   "execution_count": null,
   "id": "586d13b3",
   "metadata": {},
   "outputs": [],
   "source": [
    "I am supposed to be a comment and I will not run until I am"
   ]
  },
  {
   "cell_type": "markdown",
   "id": "9140f3e8",
   "metadata": {},
   "source": [
    "## 2) Reading in data\n",
    "\n",
    "**Task**: Use the pandas library to read in the \"sample_patient_data.csv\" file in the cell below. You should call your dataset `df`."
   ]
  },
  {
   "cell_type": "code",
   "execution_count": null,
   "id": "881e7fe1",
   "metadata": {},
   "outputs": [
    {
     "ename": "SyntaxError",
     "evalue": "invalid syntax (1291102520.py, line 2)",
     "output_type": "error",
     "traceback": [
      "\u001b[0;36m  Cell \u001b[0;32mIn[13], line 2\u001b[0;36m\u001b[0m\n\u001b[0;31m    df =\u001b[0m\n\u001b[0m         ^\u001b[0m\n\u001b[0;31mSyntaxError\u001b[0m\u001b[0;31m:\u001b[0m invalid syntax\n"
     ]
    }
   ],
   "source": [
    "# write your code here\n",
    "df = "
   ]
  },
  {
   "cell_type": "markdown",
   "id": "9038f842",
   "metadata": {},
   "source": [
    "**Task**: Explore the data\n",
    "Answer the following questions when you are done"
   ]
  },
  {
   "cell_type": "code",
   "execution_count": null,
   "id": "4e6b580e",
   "metadata": {},
   "outputs": [],
   "source": [
    "# you can write code for data exploration here"
   ]
  },
  {
   "cell_type": "markdown",
   "id": "d63b1a02",
   "metadata": {},
   "source": [
    "#### 1. How many patients do we have?"
   ]
  },
  {
   "cell_type": "markdown",
   "id": "b08a6771",
   "metadata": {},
   "source": [
    "<div style=\"border: 2px solid #ddd; background-color: #f9f9f9; padding: 15px; margin: 10px 0; border-radius: 8px; color: #333;\">\n",
    "\n",
    "*Write your answer in this box*\n",
    "\n"
   ]
  },
  {
   "cell_type": "markdown",
   "id": "1cc9592f",
   "metadata": {},
   "source": [
    "#### 2. What are the features of our data?"
   ]
  },
  {
   "cell_type": "markdown",
   "id": "18ea0f60",
   "metadata": {},
   "source": [
    "<div style=\"border: 2px solid #ddd; background-color: #f9f9f9; padding: 15px; margin: 10px 0; border-radius: 8px; color: #333;\">\n",
    "\n",
    "*Write your answer in this box*\n",
    "\n",
    "\n"
   ]
  },
  {
   "cell_type": "markdown",
   "id": "1b9e9e42",
   "metadata": {},
   "source": [
    "#### 3. What are the data types in our data?\n",
    "Remember: each feature has a data type. It can be an integer (a whole number), a float (a decimal) or a string (text)"
   ]
  },
  {
   "cell_type": "markdown",
   "id": "2c5f4786",
   "metadata": {},
   "source": [
    "<div style=\"border: 2px solid #ddd; background-color: #f9f9f9; padding: 15px; margin: 10px 0; border-radius: 8px; color: #333;\">\n",
    "\n",
    "*Write your answer in this box*\n",
    "\n",
    "\n"
   ]
  },
  {
   "cell_type": "markdown",
   "id": "c3a3a574",
   "metadata": {},
   "source": [
    "## 3) Tasks to check understanding\n",
    "\n",
    "Use pandas to answer the following questions:"
   ]
  },
  {
   "cell_type": "markdown",
   "id": "d88beef8",
   "metadata": {},
   "source": [
    "#### 1. Find all female patients who are over the age of 50"
   ]
  },
  {
   "cell_type": "code",
   "execution_count": null,
   "id": "dada6635",
   "metadata": {},
   "outputs": [],
   "source": [
    "# write your code here "
   ]
  },
  {
   "cell_type": "markdown",
   "id": "a404c2da",
   "metadata": {},
   "source": [
    "#### 2. Calculate the average medication adherence by diagnosis"
   ]
  },
  {
   "cell_type": "code",
   "execution_count": null,
   "id": "c4e5ada4",
   "metadata": {},
   "outputs": [],
   "source": [
    "# write your code here"
   ]
  },
  {
   "cell_type": "markdown",
   "id": "9b9830f7",
   "metadata": {},
   "source": [
    "#### 3. Find patients with systolic BP between 120-140 mmHg"
   ]
  },
  {
   "cell_type": "code",
   "execution_count": null,
   "id": "76f5a753",
   "metadata": {},
   "outputs": [],
   "source": [
    "# write your code here"
   ]
  },
  {
   "cell_type": "markdown",
   "id": "6feac2f8",
   "metadata": {},
   "source": [
    "#### 4. What is the average age of the patients?"
   ]
  },
  {
   "cell_type": "code",
   "execution_count": null,
   "id": "a177255f",
   "metadata": {},
   "outputs": [],
   "source": [
    "# write your code here"
   ]
  },
  {
   "cell_type": "markdown",
   "id": "7c6b9525",
   "metadata": {},
   "source": [
    "#### 5. Save the dataset to a file \n",
    "  \n",
    "Hint: To save a dataset, we can use `df.to_csv()`. \n",
    "Use `help(df.to_csv())` for information about how to use this function"
   ]
  },
  {
   "cell_type": "code",
   "execution_count": 24,
   "id": "64e90f5c",
   "metadata": {},
   "outputs": [
    {
     "ename": "NameError",
     "evalue": "name 'df' is not defined",
     "output_type": "error",
     "traceback": [
      "\u001b[0;31m---------------------------------------------------------------------------\u001b[0m",
      "\u001b[0;31mNameError\u001b[0m                                 Traceback (most recent call last)",
      "Cell \u001b[0;32mIn[24], line 1\u001b[0m\n\u001b[0;32m----> 1\u001b[0m help(\u001b[43mdf\u001b[49m\u001b[38;5;241m.\u001b[39mto_csv())\n",
      "\u001b[0;31mNameError\u001b[0m: name 'df' is not defined"
     ]
    }
   ],
   "source": [
    "help(df.to_csv())"
   ]
  }
 ],
 "metadata": {
  "kernelspec": {
   "display_name": "precision-course-env",
   "language": "python",
   "name": "python3"
  },
  "language_info": {
   "codemirror_mode": {
    "name": "ipython",
    "version": 3
   },
   "file_extension": ".py",
   "mimetype": "text/x-python",
   "name": "python",
   "nbconvert_exporter": "python",
   "pygments_lexer": "ipython3",
   "version": "3.9.21"
  }
 },
 "nbformat": 4,
 "nbformat_minor": 5
}
