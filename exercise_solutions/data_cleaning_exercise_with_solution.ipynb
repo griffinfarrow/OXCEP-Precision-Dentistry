{
 "cells": [
  {
   "cell_type": "markdown",
   "id": "9ebb29b2",
   "metadata": {},
   "source": [
    "<div style=\"border: 2px solid #ddd; background-color: #f9f9f9; padding: 15px; margin: 10px 0; border-radius: 8px; color: #333;\">\n",
    "\n",
    "# Data Cleaning Exercise\n",
    "\n",
    "In this exercise, you will be given a synthetic dataset that we have designed to be deliberately \"messy\". It has duplicates, missing values and mixed up types. Your task is to use the skills you learned in the `data_cleaning.ipynb` demonstration to try to clean up this data.  \n",
    "  \n",
    "If you get stuck at any point, then look back on that exercise notebook to remember how to analyse the data.  \n",
    "  \n",
    "**There are no wrong answers**. This notebook is not assessed in any way, and there is no one unique way to do data cleaning. This notebook is intended to help you practice data cleaning on some real world data."
   ]
  },
  {
   "cell_type": "code",
   "execution_count": 37,
   "id": "1f88b420",
   "metadata": {},
   "outputs": [],
   "source": [
    "# First, we import the libraries that we are going to use \n",
    "\n",
    "import numpy as np \n",
    "import pandas as pd "
   ]
  },
  {
   "cell_type": "code",
   "execution_count": 38,
   "id": "a4a20d65",
   "metadata": {},
   "outputs": [],
   "source": [
    "# this cell reads in our dataset\n",
    "\n",
    "df = pd.read_csv(\"../course_content/medicine/session_2/dataset/synthetic_bad_patient_data.csv\")"
   ]
  },
  {
   "cell_type": "markdown",
   "id": "21850625",
   "metadata": {},
   "source": [
    "<div style=\"border: 2px solid #ddd; background-color: #f9f9f9; padding: 15px; margin: 10px 0; border-radius: 8px; color: #333;\">\n",
    "\n",
    "### Data Exploration \n",
    "  \n",
    "The most important first step is to **explore** the data. We need to find out *what* is wrong with it.  \n",
    "  \n",
    "Try to answer the following questions:\n",
    "- How many patients are there?\n",
    "- What are the data types of each column?\n",
    "- How many missing values are there in each column?\n",
    "- Which columns should we just drop, because so many values are missing?"
   ]
  },
  {
   "cell_type": "markdown",
   "id": "3a369701",
   "metadata": {},
   "source": [
    "<div style=\"border: 2px solid #ddd; background-color: #f9f9f9; padding: 15px; margin: 10px 0; border-radius: 8px; color: #333;\">\n",
    "\n",
    "Hints: You may find these functions useful:\n",
    "- `df.isna().sum()` will tell you how many NaN values are in each column\n",
    "- `print(df.dtypes)` will tell you what data types each column is. Remember that an \"object\" is a column with mixed types and this is what we want to fix. \n",
    "  \n",
    "You can use the next few Python cells to do this analysis"
   ]
  },
  {
   "cell_type": "code",
   "execution_count": 39,
   "id": "ba86aec9",
   "metadata": {},
   "outputs": [
    {
     "data": {
      "text/plain": [
       "550"
      ]
     },
     "execution_count": 39,
     "metadata": {},
     "output_type": "execute_result"
    }
   ],
   "source": [
    "len(df)\n",
    "# this line calculates the total number of rows in our dataset\n",
    "# there are 500 patients"
   ]
  },
  {
   "cell_type": "code",
   "execution_count": 40,
   "id": "4dbc215e",
   "metadata": {},
   "outputs": [
    {
     "data": {
      "text/plain": [
       "patient_id            0\n",
       "age                  25\n",
       "gender               30\n",
       "blood_pressure        0\n",
       "cholesterol          55\n",
       "height_cm           104\n",
       "weight_kg           202\n",
       "smoking_status       53\n",
       "exercise_freq        95\n",
       "alcohol_use          56\n",
       "diagnosis_code        0\n",
       "visit_count           0\n",
       "last_visit          122\n",
       "medication_count    102\n",
       "insurance_type      140\n",
       "glucose_level         0\n",
       "bmi                  81\n",
       "doctor_notes        120\n",
       "random_column_1     226\n",
       "random_column_2     384\n",
       "dtype: int64"
      ]
     },
     "execution_count": 40,
     "metadata": {},
     "output_type": "execute_result"
    }
   ],
   "source": [
    "df.isna().sum()\n",
    "\n",
    "# this line shows the number of Null (missing) values in each column. "
   ]
  },
  {
   "cell_type": "code",
   "execution_count": 41,
   "id": "5bedc2e0",
   "metadata": {},
   "outputs": [
    {
     "name": "stdout",
     "output_type": "stream",
     "text": [
      "patient_id            int64\n",
      "age                 float64\n",
      "gender               object\n",
      "blood_pressure      float64\n",
      "cholesterol         float64\n",
      "height_cm           float64\n",
      "weight_kg           float64\n",
      "smoking_status       object\n",
      "exercise_freq       float64\n",
      "alcohol_use          object\n",
      "diagnosis_code       object\n",
      "visit_count           int64\n",
      "last_visit           object\n",
      "medication_count    float64\n",
      "insurance_type       object\n",
      "glucose_level       float64\n",
      "bmi                 float64\n",
      "doctor_notes         object\n",
      "random_column_1      object\n",
      "random_column_2      object\n",
      "dtype: object\n"
     ]
    }
   ],
   "source": [
    "print(df.dtypes)\n",
    "\n",
    "# this line showws the type of each column in the dataset. We want to avoid types that are \"object\""
   ]
  },
  {
   "cell_type": "code",
   "execution_count": 42,
   "id": "fb5866d6",
   "metadata": {},
   "outputs": [
    {
     "data": {
      "text/html": [
       "<div>\n",
       "<style scoped>\n",
       "    .dataframe tbody tr th:only-of-type {\n",
       "        vertical-align: middle;\n",
       "    }\n",
       "\n",
       "    .dataframe tbody tr th {\n",
       "        vertical-align: top;\n",
       "    }\n",
       "\n",
       "    .dataframe thead th {\n",
       "        text-align: right;\n",
       "    }\n",
       "</style>\n",
       "<table border=\"1\" class=\"dataframe\">\n",
       "  <thead>\n",
       "    <tr style=\"text-align: right;\">\n",
       "      <th></th>\n",
       "      <th>patient_id</th>\n",
       "      <th>age</th>\n",
       "      <th>gender</th>\n",
       "      <th>blood_pressure</th>\n",
       "      <th>cholesterol</th>\n",
       "      <th>height_cm</th>\n",
       "      <th>weight_kg</th>\n",
       "      <th>smoking_status</th>\n",
       "      <th>exercise_freq</th>\n",
       "      <th>alcohol_use</th>\n",
       "      <th>diagnosis_code</th>\n",
       "      <th>visit_count</th>\n",
       "      <th>last_visit</th>\n",
       "      <th>medication_count</th>\n",
       "      <th>insurance_type</th>\n",
       "      <th>glucose_level</th>\n",
       "      <th>bmi</th>\n",
       "      <th>doctor_notes</th>\n",
       "      <th>random_column_1</th>\n",
       "      <th>random_column_2</th>\n",
       "    </tr>\n",
       "  </thead>\n",
       "  <tbody>\n",
       "    <tr>\n",
       "      <th>0</th>\n",
       "      <td>1377</td>\n",
       "      <td>30.0</td>\n",
       "      <td>Male</td>\n",
       "      <td>110.628157</td>\n",
       "      <td>180.0</td>\n",
       "      <td>NaN</td>\n",
       "      <td>80.0</td>\n",
       "      <td>never</td>\n",
       "      <td>1.0</td>\n",
       "      <td>high</td>\n",
       "      <td>D5</td>\n",
       "      <td>10</td>\n",
       "      <td>NaN</td>\n",
       "      <td>0.0</td>\n",
       "      <td>private</td>\n",
       "      <td>96.596998</td>\n",
       "      <td>32.0</td>\n",
       "      <td>Refer</td>\n",
       "      <td>NaN</td>\n",
       "      <td>NaN</td>\n",
       "    </tr>\n",
       "    <tr>\n",
       "      <th>1</th>\n",
       "      <td>1649</td>\n",
       "      <td>30.0</td>\n",
       "      <td>Other</td>\n",
       "      <td>107.742218</td>\n",
       "      <td>NaN</td>\n",
       "      <td>170.0</td>\n",
       "      <td>80.0</td>\n",
       "      <td>former</td>\n",
       "      <td>4.0</td>\n",
       "      <td>none</td>\n",
       "      <td>D3</td>\n",
       "      <td>2</td>\n",
       "      <td>2023-06-15</td>\n",
       "      <td>NaN</td>\n",
       "      <td>private</td>\n",
       "      <td>87.638960</td>\n",
       "      <td>28.0</td>\n",
       "      <td>Monitor</td>\n",
       "      <td>NaN</td>\n",
       "      <td>ok</td>\n",
       "    </tr>\n",
       "    <tr>\n",
       "      <th>2</th>\n",
       "      <td>1096</td>\n",
       "      <td>30.0</td>\n",
       "      <td>Female</td>\n",
       "      <td>119.324598</td>\n",
       "      <td>220.0</td>\n",
       "      <td>175.0</td>\n",
       "      <td>80.0</td>\n",
       "      <td>current</td>\n",
       "      <td>1.0</td>\n",
       "      <td>high</td>\n",
       "      <td>D2</td>\n",
       "      <td>5</td>\n",
       "      <td>unknown</td>\n",
       "      <td>0.0</td>\n",
       "      <td>private</td>\n",
       "      <td>97.295194</td>\n",
       "      <td>22.0</td>\n",
       "      <td>Refer</td>\n",
       "      <td>bad_data</td>\n",
       "      <td>NaN</td>\n",
       "    </tr>\n",
       "    <tr>\n",
       "      <th>3</th>\n",
       "      <td>1314</td>\n",
       "      <td>35.0</td>\n",
       "      <td>Female</td>\n",
       "      <td>145.216385</td>\n",
       "      <td>180.0</td>\n",
       "      <td>160.0</td>\n",
       "      <td>85.0</td>\n",
       "      <td>never</td>\n",
       "      <td>1.0</td>\n",
       "      <td>moderate</td>\n",
       "      <td>D3</td>\n",
       "      <td>15</td>\n",
       "      <td>unknown</td>\n",
       "      <td>0.0</td>\n",
       "      <td>NaN</td>\n",
       "      <td>71.612233</td>\n",
       "      <td>NaN</td>\n",
       "      <td>Refer</td>\n",
       "      <td>bad_data</td>\n",
       "      <td>NaN</td>\n",
       "    </tr>\n",
       "    <tr>\n",
       "      <th>4</th>\n",
       "      <td>1198</td>\n",
       "      <td>45.0</td>\n",
       "      <td>Male</td>\n",
       "      <td>121.106552</td>\n",
       "      <td>240.0</td>\n",
       "      <td>NaN</td>\n",
       "      <td>NaN</td>\n",
       "      <td>never</td>\n",
       "      <td>NaN</td>\n",
       "      <td>moderate</td>\n",
       "      <td>D5</td>\n",
       "      <td>7</td>\n",
       "      <td>2023-06-15</td>\n",
       "      <td>NaN</td>\n",
       "      <td>none</td>\n",
       "      <td>88.632031</td>\n",
       "      <td>30.0</td>\n",
       "      <td>Monitor</td>\n",
       "      <td>bad_data</td>\n",
       "      <td>NaN</td>\n",
       "    </tr>\n",
       "  </tbody>\n",
       "</table>\n",
       "</div>"
      ],
      "text/plain": [
       "   patient_id   age  gender  blood_pressure  cholesterol  height_cm  \\\n",
       "0        1377  30.0    Male      110.628157        180.0        NaN   \n",
       "1        1649  30.0   Other      107.742218          NaN      170.0   \n",
       "2        1096  30.0  Female      119.324598        220.0      175.0   \n",
       "3        1314  35.0  Female      145.216385        180.0      160.0   \n",
       "4        1198  45.0    Male      121.106552        240.0        NaN   \n",
       "\n",
       "   weight_kg smoking_status  exercise_freq alcohol_use diagnosis_code  \\\n",
       "0       80.0          never            1.0        high             D5   \n",
       "1       80.0         former            4.0        none             D3   \n",
       "2       80.0        current            1.0        high             D2   \n",
       "3       85.0          never            1.0    moderate             D3   \n",
       "4        NaN          never            NaN    moderate             D5   \n",
       "\n",
       "   visit_count  last_visit  medication_count insurance_type  glucose_level  \\\n",
       "0           10         NaN               0.0        private      96.596998   \n",
       "1            2  2023-06-15               NaN        private      87.638960   \n",
       "2            5     unknown               0.0        private      97.295194   \n",
       "3           15     unknown               0.0            NaN      71.612233   \n",
       "4            7  2023-06-15               NaN           none      88.632031   \n",
       "\n",
       "    bmi doctor_notes random_column_1 random_column_2  \n",
       "0  32.0        Refer             NaN             NaN  \n",
       "1  28.0      Monitor             NaN              ok  \n",
       "2  22.0        Refer        bad_data             NaN  \n",
       "3   NaN        Refer        bad_data             NaN  \n",
       "4  30.0      Monitor        bad_data             NaN  "
      ]
     },
     "execution_count": 42,
     "metadata": {},
     "output_type": "execute_result"
    }
   ],
   "source": [
    "df.head()\n",
    "\n",
    "# this shows the first 5 rows of the dataframe"
   ]
  },
  {
   "cell_type": "code",
   "execution_count": 43,
   "id": "6722cecd",
   "metadata": {},
   "outputs": [
    {
     "data": {
      "text/plain": [
       "gender\n",
       "Female    253\n",
       "Male      246\n",
       "Other      21\n",
       "Name: count, dtype: int64"
      ]
     },
     "execution_count": 43,
     "metadata": {},
     "output_type": "execute_result"
    }
   ],
   "source": [
    "df[\"gender\"].value_counts()\n",
    "\n",
    "# this line shows the number of cases of each type in the dataset"
   ]
  },
  {
   "cell_type": "code",
   "execution_count": null,
   "id": "ae52c490",
   "metadata": {},
   "outputs": [],
   "source": []
  },
  {
   "cell_type": "code",
   "execution_count": null,
   "id": "90bed10e",
   "metadata": {},
   "outputs": [],
   "source": []
  },
  {
   "cell_type": "markdown",
   "id": "000b15fb",
   "metadata": {},
   "source": [
    "<div style=\"border: 2px solid #ddd; background-color: #f9f9f9; padding: 15px; margin: 10px 0; border-radius: 8px; color: #333;\">\n",
    "\n",
    "### 1) De-duplication. \n",
    "  \n",
    "The first thing that is useful to do is drop any duplicates. Do you remember how to do this?  \n",
    "  \n",
    "Do it in the cell below:"
   ]
  },
  {
   "cell_type": "code",
   "execution_count": 44,
   "id": "873aa03d",
   "metadata": {},
   "outputs": [],
   "source": [
    "df = df.drop_duplicates()\n",
    "# drops duplicate rows "
   ]
  },
  {
   "cell_type": "code",
   "execution_count": 45,
   "id": "8640791b",
   "metadata": {},
   "outputs": [
    {
     "name": "stdout",
     "output_type": "stream",
     "text": [
      "500\n"
     ]
    }
   ],
   "source": [
    "print(len(df))\n",
    "\n",
    "# we dropped 50 rows! So there were duplicates!"
   ]
  },
  {
   "cell_type": "code",
   "execution_count": null,
   "id": "2dfbe43d",
   "metadata": {},
   "outputs": [],
   "source": []
  },
  {
   "cell_type": "markdown",
   "id": "2e41f011",
   "metadata": {},
   "source": [
    "<div style=\"border: 2px solid #ddd; background-color: #f9f9f9; padding: 15px; margin: 10px 0; border-radius: 8px; color: #333;\">\n",
    "\n",
    "### 2) Dropping any columns\n",
    "  \n",
    "Are there any columns that we should consider dropping? Why?   \n",
    "  \n",
    "Use the cells below to drop any columns you feel you need to:"
   ]
  },
  {
   "cell_type": "code",
   "execution_count": 46,
   "id": "c53b11d7",
   "metadata": {},
   "outputs": [],
   "source": [
    "# we should delete any column that has too many missing values to be sensible! \n",
    "# we are going to delete all columns with more than 100 missing values"
   ]
  },
  {
   "cell_type": "code",
   "execution_count": 47,
   "id": "12f4a77f",
   "metadata": {},
   "outputs": [],
   "source": [
    "df = df.drop(columns = \"last_visit\")\n",
    "df = df.drop(columns = \"random_column_1\")\n",
    "df = df.drop(columns = \"random_column_2\")\n",
    "df = df.drop(columns = \"insurance_type\")\n",
    "df = df.drop(columns = \"doctor_notes\")\n"
   ]
  },
  {
   "cell_type": "code",
   "execution_count": null,
   "id": "eec311c9",
   "metadata": {},
   "outputs": [],
   "source": []
  },
  {
   "cell_type": "code",
   "execution_count": null,
   "id": "c908fb08",
   "metadata": {},
   "outputs": [],
   "source": []
  },
  {
   "cell_type": "code",
   "execution_count": null,
   "id": "0e144813",
   "metadata": {},
   "outputs": [],
   "source": []
  },
  {
   "cell_type": "markdown",
   "id": "ad113720",
   "metadata": {},
   "source": [
    "<div style=\"border: 2px solid #ddd; background-color: #f9f9f9; padding: 15px; margin: 10px 0; border-radius: 8px; color: #333;\">\n",
    "\n",
    "### Cleaning Up Column Types\n",
    "  \n",
    "Make sure to convert the types of the columns so there are no \"object\" columns!"
   ]
  },
  {
   "cell_type": "code",
   "execution_count": 48,
   "id": "2b8b1ac7",
   "metadata": {},
   "outputs": [
    {
     "data": {
      "text/html": [
       "<div>\n",
       "<style scoped>\n",
       "    .dataframe tbody tr th:only-of-type {\n",
       "        vertical-align: middle;\n",
       "    }\n",
       "\n",
       "    .dataframe tbody tr th {\n",
       "        vertical-align: top;\n",
       "    }\n",
       "\n",
       "    .dataframe thead th {\n",
       "        text-align: right;\n",
       "    }\n",
       "</style>\n",
       "<table border=\"1\" class=\"dataframe\">\n",
       "  <thead>\n",
       "    <tr style=\"text-align: right;\">\n",
       "      <th></th>\n",
       "      <th>patient_id</th>\n",
       "      <th>age</th>\n",
       "      <th>gender</th>\n",
       "      <th>blood_pressure</th>\n",
       "      <th>cholesterol</th>\n",
       "      <th>height_cm</th>\n",
       "      <th>weight_kg</th>\n",
       "      <th>smoking_status</th>\n",
       "      <th>exercise_freq</th>\n",
       "      <th>alcohol_use</th>\n",
       "      <th>diagnosis_code</th>\n",
       "      <th>visit_count</th>\n",
       "      <th>medication_count</th>\n",
       "      <th>glucose_level</th>\n",
       "      <th>bmi</th>\n",
       "    </tr>\n",
       "  </thead>\n",
       "  <tbody>\n",
       "    <tr>\n",
       "      <th>0</th>\n",
       "      <td>1377</td>\n",
       "      <td>30.0</td>\n",
       "      <td>Male</td>\n",
       "      <td>110.628157</td>\n",
       "      <td>180.0</td>\n",
       "      <td>NaN</td>\n",
       "      <td>80.0</td>\n",
       "      <td>never</td>\n",
       "      <td>1.0</td>\n",
       "      <td>high</td>\n",
       "      <td>D5</td>\n",
       "      <td>10</td>\n",
       "      <td>0.0</td>\n",
       "      <td>96.596998</td>\n",
       "      <td>32.0</td>\n",
       "    </tr>\n",
       "    <tr>\n",
       "      <th>1</th>\n",
       "      <td>1649</td>\n",
       "      <td>30.0</td>\n",
       "      <td>Other</td>\n",
       "      <td>107.742218</td>\n",
       "      <td>NaN</td>\n",
       "      <td>170.0</td>\n",
       "      <td>80.0</td>\n",
       "      <td>former</td>\n",
       "      <td>4.0</td>\n",
       "      <td>none</td>\n",
       "      <td>D3</td>\n",
       "      <td>2</td>\n",
       "      <td>NaN</td>\n",
       "      <td>87.638960</td>\n",
       "      <td>28.0</td>\n",
       "    </tr>\n",
       "    <tr>\n",
       "      <th>2</th>\n",
       "      <td>1096</td>\n",
       "      <td>30.0</td>\n",
       "      <td>Female</td>\n",
       "      <td>119.324598</td>\n",
       "      <td>220.0</td>\n",
       "      <td>175.0</td>\n",
       "      <td>80.0</td>\n",
       "      <td>current</td>\n",
       "      <td>1.0</td>\n",
       "      <td>high</td>\n",
       "      <td>D2</td>\n",
       "      <td>5</td>\n",
       "      <td>0.0</td>\n",
       "      <td>97.295194</td>\n",
       "      <td>22.0</td>\n",
       "    </tr>\n",
       "    <tr>\n",
       "      <th>3</th>\n",
       "      <td>1314</td>\n",
       "      <td>35.0</td>\n",
       "      <td>Female</td>\n",
       "      <td>145.216385</td>\n",
       "      <td>180.0</td>\n",
       "      <td>160.0</td>\n",
       "      <td>85.0</td>\n",
       "      <td>never</td>\n",
       "      <td>1.0</td>\n",
       "      <td>moderate</td>\n",
       "      <td>D3</td>\n",
       "      <td>15</td>\n",
       "      <td>0.0</td>\n",
       "      <td>71.612233</td>\n",
       "      <td>NaN</td>\n",
       "    </tr>\n",
       "    <tr>\n",
       "      <th>4</th>\n",
       "      <td>1198</td>\n",
       "      <td>45.0</td>\n",
       "      <td>Male</td>\n",
       "      <td>121.106552</td>\n",
       "      <td>240.0</td>\n",
       "      <td>NaN</td>\n",
       "      <td>NaN</td>\n",
       "      <td>never</td>\n",
       "      <td>NaN</td>\n",
       "      <td>moderate</td>\n",
       "      <td>D5</td>\n",
       "      <td>7</td>\n",
       "      <td>NaN</td>\n",
       "      <td>88.632031</td>\n",
       "      <td>30.0</td>\n",
       "    </tr>\n",
       "  </tbody>\n",
       "</table>\n",
       "</div>"
      ],
      "text/plain": [
       "   patient_id   age  gender  blood_pressure  cholesterol  height_cm  \\\n",
       "0        1377  30.0    Male      110.628157        180.0        NaN   \n",
       "1        1649  30.0   Other      107.742218          NaN      170.0   \n",
       "2        1096  30.0  Female      119.324598        220.0      175.0   \n",
       "3        1314  35.0  Female      145.216385        180.0      160.0   \n",
       "4        1198  45.0    Male      121.106552        240.0        NaN   \n",
       "\n",
       "   weight_kg smoking_status  exercise_freq alcohol_use diagnosis_code  \\\n",
       "0       80.0          never            1.0        high             D5   \n",
       "1       80.0         former            4.0        none             D3   \n",
       "2       80.0        current            1.0        high             D2   \n",
       "3       85.0          never            1.0    moderate             D3   \n",
       "4        NaN          never            NaN    moderate             D5   \n",
       "\n",
       "   visit_count  medication_count  glucose_level   bmi  \n",
       "0           10               0.0      96.596998  32.0  \n",
       "1            2               NaN      87.638960  28.0  \n",
       "2            5               0.0      97.295194  22.0  \n",
       "3           15               0.0      71.612233   NaN  \n",
       "4            7               NaN      88.632031  30.0  "
      ]
     },
     "execution_count": 48,
     "metadata": {},
     "output_type": "execute_result"
    }
   ],
   "source": [
    "df.head()"
   ]
  },
  {
   "cell_type": "code",
   "execution_count": 49,
   "id": "bdcec64e",
   "metadata": {},
   "outputs": [
    {
     "data": {
      "text/plain": [
       "patient_id            int64\n",
       "age                 float64\n",
       "gender               object\n",
       "blood_pressure      float64\n",
       "cholesterol         float64\n",
       "height_cm           float64\n",
       "weight_kg           float64\n",
       "smoking_status       object\n",
       "exercise_freq       float64\n",
       "alcohol_use          object\n",
       "diagnosis_code       object\n",
       "visit_count           int64\n",
       "medication_count    float64\n",
       "glucose_level       float64\n",
       "bmi                 float64\n",
       "dtype: object"
      ]
     },
     "execution_count": 49,
     "metadata": {},
     "output_type": "execute_result"
    }
   ],
   "source": [
    "df.dtypes"
   ]
  },
  {
   "cell_type": "code",
   "execution_count": 50,
   "id": "c895d836",
   "metadata": {},
   "outputs": [],
   "source": [
    "df[\"gender\"] = df[\"gender\"].astype(str) # gender should be a \"string\" (text)\n",
    "df[\"weight_kg\"] = df[\"weight_kg\"].astype(float) # weight should be a \"float (number)\n",
    "df[\"smoking_status\"] = df[\"smoking_status\"].astype(str)\n",
    "df[\"alcohol_use\"] = df[\"alcohol_use\"].astype(str)\n",
    "df[\"diagnosis_code\"] = df[\"diagnosis_code\"].astype(str)"
   ]
  },
  {
   "cell_type": "code",
   "execution_count": null,
   "id": "8a3126bb",
   "metadata": {},
   "outputs": [],
   "source": []
  },
  {
   "cell_type": "code",
   "execution_count": null,
   "id": "e3b9a0ec",
   "metadata": {},
   "outputs": [],
   "source": []
  },
  {
   "cell_type": "markdown",
   "id": "86e7af1b",
   "metadata": {},
   "source": [
    "<div style=\"border: 2px solid #ddd; background-color: #f9f9f9; padding: 15px; margin: 10px 0; border-radius: 8px; color: #333;\">\n",
    "\n",
    "### 3) Missing Value Imputation\n",
    "  \n",
    "Do you still have any missing values? How could you check?  \n",
    "  \n",
    "If you still have some, you could consider using \"mean value imputation\", \"median value imputation\" or some other variant of your choice. It is totally up to you! Make sure you document what you did and why: try to explain your choices "
   ]
  },
  {
   "cell_type": "code",
   "execution_count": 51,
   "id": "923e07ce",
   "metadata": {},
   "outputs": [
    {
     "data": {
      "text/plain": [
       "patient_id            0\n",
       "age                  20\n",
       "gender                0\n",
       "blood_pressure        0\n",
       "cholesterol          52\n",
       "height_cm            90\n",
       "weight_kg           185\n",
       "smoking_status        0\n",
       "exercise_freq        88\n",
       "alcohol_use           0\n",
       "diagnosis_code        0\n",
       "visit_count           0\n",
       "medication_count     93\n",
       "glucose_level         0\n",
       "bmi                  73\n",
       "dtype: int64"
      ]
     },
     "execution_count": 51,
     "metadata": {},
     "output_type": "execute_result"
    }
   ],
   "source": [
    "df.isna().sum()"
   ]
  },
  {
   "cell_type": "markdown",
   "id": "b78eb5f9",
   "metadata": {},
   "source": [
    "For values that are numbers, we will impute using \"mean value imputation\""
   ]
  },
  {
   "cell_type": "code",
   "execution_count": 52,
   "id": "f761ea87",
   "metadata": {},
   "outputs": [],
   "source": [
    "mean_age = df[\"age\"].mean() # what is the mean age?\n",
    "df[\"age\"] = df[\"age\"].fillna(mean_age) # fill in missing age values with mean age\n",
    "\n",
    "# do the same for cholesterol \n",
    "mean_chol = df[\"cholesterol\"].mean()\n",
    "df[\"cholesterol\"] = df[\"cholesterol\"].fillna(mean_chol)\n",
    "\n",
    "mean_height = df[\"height_cm\"].mean()\n",
    "df[\"height_cm\"] = df[\"height_cm\"].fillna(mean_height)\n",
    "\n",
    "mean_weight = df[\"weight_kg\"].mean()\n",
    "df[\"weight_kg\"] = df[\"weight_kg\"].fillna(mean_weight)\n",
    "\n",
    "mean_exercise = df[\"exercise_freq\"].mean()\n",
    "df[\"exercise_freq\"] = df[\"exercise_freq\"].fillna(mean_exercise)\n",
    "\n",
    "mean_medication = df[\"medication_count\"].mean()\n",
    "df[\"medication_count\"] = df[\"medication_count\"].fillna(mean_medication)\n"
   ]
  },
  {
   "cell_type": "code",
   "execution_count": 56,
   "id": "0325bd44",
   "metadata": {},
   "outputs": [],
   "source": [
    "# now that we have values for weight and height, we can just calculate the BMI\n",
    "\n",
    "df[\"bmi\"] = df[\"weight_kg\"] / (df[\"height_cm\"]/100)**2\n",
    "\n",
    "# alternatively, we can use mean value imputation \n",
    "\n",
    "mean_bmi = df[\"bmi\"].mean()\n",
    "df[\"bmi\"] = df[\"bmi\"].fillna(mean_bmi)"
   ]
  },
  {
   "cell_type": "code",
   "execution_count": null,
   "id": "794ef6a9",
   "metadata": {},
   "outputs": [],
   "source": []
  },
  {
   "cell_type": "code",
   "execution_count": null,
   "id": "2228cda7",
   "metadata": {},
   "outputs": [],
   "source": []
  },
  {
   "cell_type": "code",
   "execution_count": null,
   "id": "c97c6ce8",
   "metadata": {},
   "outputs": [],
   "source": []
  },
  {
   "cell_type": "markdown",
   "id": "d96e854a",
   "metadata": {},
   "source": [
    "<div style=\"border: 2px solid #ddd; background-color: #f9f9f9; padding: 15px; margin: 10px 0; border-radius: 8px; color: #333;\">\n",
    "\n",
    "### 4) Check your work! \n",
    "  \n",
    "Now you have cleaned the data, you should check your work! Use a similar approach to what you did for 1) Data Exploration to check that you have dealt with the data. There should now be no missing values, all the columns should have a single type (no \"object\") and there should be no duplicated values.  \n",
    "  \n",
    "This dataset would now be ready for you to do some analysis on it!"
   ]
  },
  {
   "cell_type": "code",
   "execution_count": 53,
   "id": "45858afe",
   "metadata": {},
   "outputs": [
    {
     "data": {
      "text/plain": [
       "patient_id            int64\n",
       "age                 float64\n",
       "gender               object\n",
       "blood_pressure      float64\n",
       "cholesterol         float64\n",
       "height_cm           float64\n",
       "weight_kg           float64\n",
       "smoking_status       object\n",
       "exercise_freq       float64\n",
       "alcohol_use          object\n",
       "diagnosis_code       object\n",
       "visit_count           int64\n",
       "medication_count    float64\n",
       "glucose_level       float64\n",
       "bmi                 float64\n",
       "dtype: object"
      ]
     },
     "execution_count": 53,
     "metadata": {},
     "output_type": "execute_result"
    }
   ],
   "source": [
    "df.dtypes"
   ]
  },
  {
   "cell_type": "code",
   "execution_count": 54,
   "id": "edce1f71",
   "metadata": {},
   "outputs": [
    {
     "data": {
      "text/plain": [
       "patient_id           0\n",
       "age                  0\n",
       "gender               0\n",
       "blood_pressure       0\n",
       "cholesterol          0\n",
       "height_cm            0\n",
       "weight_kg            0\n",
       "smoking_status       0\n",
       "exercise_freq        0\n",
       "alcohol_use          0\n",
       "diagnosis_code       0\n",
       "visit_count          0\n",
       "medication_count     0\n",
       "glucose_level        0\n",
       "bmi                 73\n",
       "dtype: int64"
      ]
     },
     "execution_count": 54,
     "metadata": {},
     "output_type": "execute_result"
    }
   ],
   "source": [
    "df.isna().sum()"
   ]
  }
 ],
 "metadata": {
  "kernelspec": {
   "display_name": "precision-course-env",
   "language": "python",
   "name": "python3"
  },
  "language_info": {
   "codemirror_mode": {
    "name": "ipython",
    "version": 3
   },
   "file_extension": ".py",
   "mimetype": "text/x-python",
   "name": "python",
   "nbconvert_exporter": "python",
   "pygments_lexer": "ipython3",
   "version": "3.9.21"
  }
 },
 "nbformat": 4,
 "nbformat_minor": 5
}
