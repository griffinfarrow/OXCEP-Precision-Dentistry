{
 "cells": [
  {
   "cell_type": "markdown",
   "id": "64da80e2",
   "metadata": {},
   "source": [
    "# Python Exercises"
   ]
  },
  {
   "cell_type": "markdown",
   "id": "3137377f",
   "metadata": {},
   "source": [
    "This notebook is intended to give you a chance to practice the Python you learned in the `python_basics.ipynb` notebook!  \n",
    "  \n",
    "This is divided into cells that you can try out. If you get the correct answer to the puzzle, it will say \"Correct\" when you run the next cell"
   ]
  },
  {
   "cell_type": "markdown",
   "id": "7931ab14",
   "metadata": {},
   "source": [
    "## 1) Importing Libraries\n",
    "\n",
    "**Task**: Import the `numpy` library as `np`, the `pandas` library as `pd` and the `matplotlib.pyplot` library as `plt`"
   ]
  },
  {
   "cell_type": "code",
   "execution_count": 3,
   "id": "ac774839",
   "metadata": {},
   "outputs": [],
   "source": [
    "# write your code here\n",
    "\n",
    "import numpy as np \n",
    "import pandas as pd \n",
    "import matplotlib.pyplot as plt"
   ]
  },
  {
   "cell_type": "markdown",
   "id": "dd6fb8ad",
   "metadata": {},
   "source": [
    "Try to use the `help()` function to produce the help information for a `array` in numpy"
   ]
  },
  {
   "cell_type": "code",
   "execution_count": 4,
   "id": "63e7e8c8",
   "metadata": {},
   "outputs": [
    {
     "name": "stdout",
     "output_type": "stream",
     "text": [
      "Help on built-in function array in module numpy:\n",
      "\n",
      "array(...)\n",
      "    array(object, dtype=None, *, copy=True, order='K', subok=False, ndmin=0,\n",
      "          like=None)\n",
      "    \n",
      "    Create an array.\n",
      "    \n",
      "    Parameters\n",
      "    ----------\n",
      "    object : array_like\n",
      "        An array, any object exposing the array interface, an object whose\n",
      "        __array__ method returns an array, or any (nested) sequence.\n",
      "        If object is a scalar, a 0-dimensional array containing object is\n",
      "        returned.\n",
      "    dtype : data-type, optional\n",
      "        The desired data-type for the array.  If not given, then the type will\n",
      "        be determined as the minimum type required to hold the objects in the\n",
      "        sequence.\n",
      "    copy : bool, optional\n",
      "        If true (default), then the object is copied.  Otherwise, a copy will\n",
      "        only be made if __array__ returns a copy, if obj is a nested sequence,\n",
      "        or if a copy is needed to satisfy any of the other requirements\n",
      "        (`dtype`, `order`, etc.).\n",
      "    order : {'K', 'A', 'C', 'F'}, optional\n",
      "        Specify the memory layout of the array. If object is not an array, the\n",
      "        newly created array will be in C order (row major) unless 'F' is\n",
      "        specified, in which case it will be in Fortran order (column major).\n",
      "        If object is an array the following holds.\n",
      "    \n",
      "        ===== ========= ===================================================\n",
      "        order  no copy                     copy=True\n",
      "        ===== ========= ===================================================\n",
      "        'K'   unchanged F & C order preserved, otherwise most similar order\n",
      "        'A'   unchanged F order if input is F and not C, otherwise C order\n",
      "        'C'   C order   C order\n",
      "        'F'   F order   F order\n",
      "        ===== ========= ===================================================\n",
      "    \n",
      "        When ``copy=False`` and a copy is made for other reasons, the result is\n",
      "        the same as if ``copy=True``, with some exceptions for 'A', see the\n",
      "        Notes section. The default order is 'K'.\n",
      "    subok : bool, optional\n",
      "        If True, then sub-classes will be passed-through, otherwise\n",
      "        the returned array will be forced to be a base-class array (default).\n",
      "    ndmin : int, optional\n",
      "        Specifies the minimum number of dimensions that the resulting\n",
      "        array should have.  Ones will be prepended to the shape as\n",
      "        needed to meet this requirement.\n",
      "    like : array_like, optional\n",
      "        Reference object to allow the creation of arrays which are not\n",
      "        NumPy arrays. If an array-like passed in as ``like`` supports\n",
      "        the ``__array_function__`` protocol, the result will be defined\n",
      "        by it. In this case, it ensures the creation of an array object\n",
      "        compatible with that passed in via this argument.\n",
      "    \n",
      "        .. versionadded:: 1.20.0\n",
      "    \n",
      "    Returns\n",
      "    -------\n",
      "    out : ndarray\n",
      "        An array object satisfying the specified requirements.\n",
      "    \n",
      "    See Also\n",
      "    --------\n",
      "    empty_like : Return an empty array with shape and type of input.\n",
      "    ones_like : Return an array of ones with shape and type of input.\n",
      "    zeros_like : Return an array of zeros with shape and type of input.\n",
      "    full_like : Return a new array with shape of input filled with value.\n",
      "    empty : Return a new uninitialized array.\n",
      "    ones : Return a new array setting values to one.\n",
      "    zeros : Return a new array setting values to zero.\n",
      "    full : Return a new array of given shape filled with value.\n",
      "    \n",
      "    \n",
      "    Notes\n",
      "    -----\n",
      "    When order is 'A' and `object` is an array in neither 'C' nor 'F' order,\n",
      "    and a copy is forced by a change in dtype, then the order of the result is\n",
      "    not necessarily 'C' as expected. This is likely a bug.\n",
      "    \n",
      "    Examples\n",
      "    --------\n",
      "    >>> np.array([1, 2, 3])\n",
      "    array([1, 2, 3])\n",
      "    \n",
      "    Upcasting:\n",
      "    \n",
      "    >>> np.array([1, 2, 3.0])\n",
      "    array([ 1.,  2.,  3.])\n",
      "    \n",
      "    More than one dimension:\n",
      "    \n",
      "    >>> np.array([[1, 2], [3, 4]])\n",
      "    array([[1, 2],\n",
      "           [3, 4]])\n",
      "    \n",
      "    Minimum dimensions 2:\n",
      "    \n",
      "    >>> np.array([1, 2, 3], ndmin=2)\n",
      "    array([[1, 2, 3]])\n",
      "    \n",
      "    Type provided:\n",
      "    \n",
      "    >>> np.array([1, 2, 3], dtype=complex)\n",
      "    array([ 1.+0.j,  2.+0.j,  3.+0.j])\n",
      "    \n",
      "    Data-type consisting of more than one element:\n",
      "    \n",
      "    >>> x = np.array([(1,2),(3,4)],dtype=[('a','<i4'),('b','<i4')])\n",
      "    >>> x['a']\n",
      "    array([1, 3])\n",
      "    \n",
      "    Creating an array from sub-classes:\n",
      "    \n",
      "    >>> np.array(np.mat('1 2; 3 4'))\n",
      "    array([[1, 2],\n",
      "           [3, 4]])\n",
      "    \n",
      "    >>> np.array(np.mat('1 2; 3 4'), subok=True)\n",
      "    matrix([[1, 2],\n",
      "            [3, 4]])\n",
      "\n"
     ]
    }
   ],
   "source": [
    "# write your code here\n",
    "\n",
    "help(np.array)"
   ]
  },
  {
   "cell_type": "markdown",
   "id": "b544cd36",
   "metadata": {},
   "source": [
    "**Task**: Fix this next cell so that it no longer raises an error"
   ]
  },
  {
   "cell_type": "code",
   "execution_count": 5,
   "id": "fd441bf2",
   "metadata": {},
   "outputs": [],
   "source": [
    "# fix the error in this cell\n",
    "\n",
    "import sklearn as skl"
   ]
  },
  {
   "cell_type": "markdown",
   "id": "767efd48",
   "metadata": {},
   "source": [
    "**Task**: The next cell should be formatted as a comment. Make the cell into a comment so that it no longer raises an error"
   ]
  },
  {
   "cell_type": "code",
   "execution_count": 6,
   "id": "586d13b3",
   "metadata": {},
   "outputs": [],
   "source": [
    "# I am supposed to be a comment and I will not run until I am"
   ]
  },
  {
   "cell_type": "markdown",
   "id": "9140f3e8",
   "metadata": {},
   "source": [
    "## 2) Reading in data\n",
    "\n",
    "**Task**: Use the pandas library to read in the \"sample_patient_data.csv\" file in the cell below. You should call your dataset `df`."
   ]
  },
  {
   "cell_type": "code",
   "execution_count": 8,
   "id": "881e7fe1",
   "metadata": {},
   "outputs": [],
   "source": [
    "# write your code here\n",
    "df = pd.read_csv(\"sample_patient_data.csv\")"
   ]
  },
  {
   "cell_type": "markdown",
   "id": "9038f842",
   "metadata": {},
   "source": [
    "**Task**: Explore the data\n",
    "Answer the following questions when you are done"
   ]
  },
  {
   "cell_type": "code",
   "execution_count": 9,
   "id": "4e6b580e",
   "metadata": {},
   "outputs": [
    {
     "data": {
      "text/html": [
       "<div>\n",
       "<style scoped>\n",
       "    .dataframe tbody tr th:only-of-type {\n",
       "        vertical-align: middle;\n",
       "    }\n",
       "\n",
       "    .dataframe tbody tr th {\n",
       "        vertical-align: top;\n",
       "    }\n",
       "\n",
       "    .dataframe thead th {\n",
       "        text-align: right;\n",
       "    }\n",
       "</style>\n",
       "<table border=\"1\" class=\"dataframe\">\n",
       "  <thead>\n",
       "    <tr style=\"text-align: right;\">\n",
       "      <th></th>\n",
       "      <th>patient_id</th>\n",
       "      <th>age</th>\n",
       "      <th>gender</th>\n",
       "      <th>diagnosis</th>\n",
       "      <th>systolic_bp</th>\n",
       "      <th>hba1c</th>\n",
       "      <th>medication_adherence</th>\n",
       "    </tr>\n",
       "  </thead>\n",
       "  <tbody>\n",
       "    <tr>\n",
       "      <th>0</th>\n",
       "      <td>P001</td>\n",
       "      <td>45</td>\n",
       "      <td>M</td>\n",
       "      <td>Hypertension</td>\n",
       "      <td>140</td>\n",
       "      <td>5.2</td>\n",
       "      <td>0.85</td>\n",
       "    </tr>\n",
       "    <tr>\n",
       "      <th>1</th>\n",
       "      <td>P002</td>\n",
       "      <td>62</td>\n",
       "      <td>F</td>\n",
       "      <td>Diabetes</td>\n",
       "      <td>130</td>\n",
       "      <td>8.1</td>\n",
       "      <td>0.72</td>\n",
       "    </tr>\n",
       "    <tr>\n",
       "      <th>2</th>\n",
       "      <td>P003</td>\n",
       "      <td>38</td>\n",
       "      <td>F</td>\n",
       "      <td>Asthma</td>\n",
       "      <td>110</td>\n",
       "      <td>5.0</td>\n",
       "      <td>0.95</td>\n",
       "    </tr>\n",
       "    <tr>\n",
       "      <th>3</th>\n",
       "      <td>P004</td>\n",
       "      <td>71</td>\n",
       "      <td>M</td>\n",
       "      <td>Diabetes</td>\n",
       "      <td>145</td>\n",
       "      <td>9.2</td>\n",
       "      <td>0.68</td>\n",
       "    </tr>\n",
       "    <tr>\n",
       "      <th>4</th>\n",
       "      <td>P005</td>\n",
       "      <td>29</td>\n",
       "      <td>F</td>\n",
       "      <td>Hypertension</td>\n",
       "      <td>125</td>\n",
       "      <td>4.8</td>\n",
       "      <td>0.90</td>\n",
       "    </tr>\n",
       "    <tr>\n",
       "      <th>5</th>\n",
       "      <td>P006</td>\n",
       "      <td>55</td>\n",
       "      <td>M</td>\n",
       "      <td>Diabetes</td>\n",
       "      <td>155</td>\n",
       "      <td>7.8</td>\n",
       "      <td>0.75</td>\n",
       "    </tr>\n",
       "    <tr>\n",
       "      <th>6</th>\n",
       "      <td>P007</td>\n",
       "      <td>68</td>\n",
       "      <td>F</td>\n",
       "      <td>Asthma</td>\n",
       "      <td>115</td>\n",
       "      <td>5.1</td>\n",
       "      <td>0.88</td>\n",
       "    </tr>\n",
       "    <tr>\n",
       "      <th>7</th>\n",
       "      <td>P008</td>\n",
       "      <td>42</td>\n",
       "      <td>M</td>\n",
       "      <td>Hypertension</td>\n",
       "      <td>138</td>\n",
       "      <td>5.5</td>\n",
       "      <td>0.82</td>\n",
       "    </tr>\n",
       "  </tbody>\n",
       "</table>\n",
       "</div>"
      ],
      "text/plain": [
       "  patient_id  age gender     diagnosis  systolic_bp  hba1c  \\\n",
       "0       P001   45      M  Hypertension          140    5.2   \n",
       "1       P002   62      F      Diabetes          130    8.1   \n",
       "2       P003   38      F        Asthma          110    5.0   \n",
       "3       P004   71      M      Diabetes          145    9.2   \n",
       "4       P005   29      F  Hypertension          125    4.8   \n",
       "5       P006   55      M      Diabetes          155    7.8   \n",
       "6       P007   68      F        Asthma          115    5.1   \n",
       "7       P008   42      M  Hypertension          138    5.5   \n",
       "\n",
       "   medication_adherence  \n",
       "0                  0.85  \n",
       "1                  0.72  \n",
       "2                  0.95  \n",
       "3                  0.68  \n",
       "4                  0.90  \n",
       "5                  0.75  \n",
       "6                  0.88  \n",
       "7                  0.82  "
      ]
     },
     "execution_count": 9,
     "metadata": {},
     "output_type": "execute_result"
    }
   ],
   "source": [
    "# you can write code for data exploration here\n",
    "df"
   ]
  },
  {
   "cell_type": "markdown",
   "id": "d63b1a02",
   "metadata": {},
   "source": [
    "#### 1. How many patients do we have?"
   ]
  },
  {
   "cell_type": "markdown",
   "id": "b08a6771",
   "metadata": {},
   "source": [
    "<div style=\"border: 2px solid #ddd; background-color: #f9f9f9; padding: 15px; margin: 10px 0; border-radius: 8px; color: #333;\">\n",
    "\n",
    "*Write your answer in this box*\n",
    "\n",
    "There are 8 patients. Be careful: remember that python starts counting at 0, not 1."
   ]
  },
  {
   "cell_type": "markdown",
   "id": "1cc9592f",
   "metadata": {},
   "source": [
    "#### 2. What are the features of our data?"
   ]
  },
  {
   "cell_type": "markdown",
   "id": "18ea0f60",
   "metadata": {},
   "source": [
    "<div style=\"border: 2px solid #ddd; background-color: #f9f9f9; padding: 15px; margin: 10px 0; border-radius: 8px; color: #333;\">\n",
    "\n",
    "*Write your answer in this box*\n",
    "\n",
    "The **features** are the **columns** of the data. This is:\n",
    "* patient_id\n",
    "* age\n",
    "* gender\n",
    "* diagnosis \n",
    "* systolic_bp \n",
    "* hba1c \n",
    "* medication_adherence\n",
    "\n"
   ]
  },
  {
   "cell_type": "markdown",
   "id": "1b9e9e42",
   "metadata": {},
   "source": [
    "#### 3. What are the data types in our data?\n",
    "Remember: each feature has a data type. It can be an integer (a whole number), a float (a decimal) or a string (text)"
   ]
  },
  {
   "cell_type": "markdown",
   "id": "2c5f4786",
   "metadata": {},
   "source": [
    "<div style=\"border: 2px solid #ddd; background-color: #f9f9f9; padding: 15px; margin: 10px 0; border-radius: 8px; color: #333;\">\n",
    "\n",
    "*Write your answer in this box*\n",
    "\n",
    "* patient_id -> string; mix of numbers and letters is a string\n",
    "* age -> integer \n",
    "* gender -> string \n",
    "* diagnosis -> string\n",
    "* systolic_bp -> integer \n",
    "* hba1c -> float \n",
    "* medication_adherence -> float\n",
    "\n"
   ]
  },
  {
   "cell_type": "markdown",
   "id": "c3a3a574",
   "metadata": {},
   "source": [
    "## 3) Tasks to check understanding\n",
    "\n",
    "Use pandas to answer the following questions:"
   ]
  },
  {
   "cell_type": "markdown",
   "id": "d88beef8",
   "metadata": {},
   "source": [
    "#### 1. Find all female patients who are over the age of 50"
   ]
  },
  {
   "cell_type": "code",
   "execution_count": 10,
   "id": "dada6635",
   "metadata": {},
   "outputs": [
    {
     "data": {
      "text/html": [
       "<div>\n",
       "<style scoped>\n",
       "    .dataframe tbody tr th:only-of-type {\n",
       "        vertical-align: middle;\n",
       "    }\n",
       "\n",
       "    .dataframe tbody tr th {\n",
       "        vertical-align: top;\n",
       "    }\n",
       "\n",
       "    .dataframe thead th {\n",
       "        text-align: right;\n",
       "    }\n",
       "</style>\n",
       "<table border=\"1\" class=\"dataframe\">\n",
       "  <thead>\n",
       "    <tr style=\"text-align: right;\">\n",
       "      <th></th>\n",
       "      <th>patient_id</th>\n",
       "      <th>age</th>\n",
       "      <th>gender</th>\n",
       "      <th>diagnosis</th>\n",
       "      <th>systolic_bp</th>\n",
       "      <th>hba1c</th>\n",
       "      <th>medication_adherence</th>\n",
       "    </tr>\n",
       "  </thead>\n",
       "  <tbody>\n",
       "    <tr>\n",
       "      <th>1</th>\n",
       "      <td>P002</td>\n",
       "      <td>62</td>\n",
       "      <td>F</td>\n",
       "      <td>Diabetes</td>\n",
       "      <td>130</td>\n",
       "      <td>8.1</td>\n",
       "      <td>0.72</td>\n",
       "    </tr>\n",
       "    <tr>\n",
       "      <th>3</th>\n",
       "      <td>P004</td>\n",
       "      <td>71</td>\n",
       "      <td>M</td>\n",
       "      <td>Diabetes</td>\n",
       "      <td>145</td>\n",
       "      <td>9.2</td>\n",
       "      <td>0.68</td>\n",
       "    </tr>\n",
       "    <tr>\n",
       "      <th>5</th>\n",
       "      <td>P006</td>\n",
       "      <td>55</td>\n",
       "      <td>M</td>\n",
       "      <td>Diabetes</td>\n",
       "      <td>155</td>\n",
       "      <td>7.8</td>\n",
       "      <td>0.75</td>\n",
       "    </tr>\n",
       "    <tr>\n",
       "      <th>6</th>\n",
       "      <td>P007</td>\n",
       "      <td>68</td>\n",
       "      <td>F</td>\n",
       "      <td>Asthma</td>\n",
       "      <td>115</td>\n",
       "      <td>5.1</td>\n",
       "      <td>0.88</td>\n",
       "    </tr>\n",
       "  </tbody>\n",
       "</table>\n",
       "</div>"
      ],
      "text/plain": [
       "  patient_id  age gender diagnosis  systolic_bp  hba1c  medication_adherence\n",
       "1       P002   62      F  Diabetes          130    8.1                  0.72\n",
       "3       P004   71      M  Diabetes          145    9.2                  0.68\n",
       "5       P006   55      M  Diabetes          155    7.8                  0.75\n",
       "6       P007   68      F    Asthma          115    5.1                  0.88"
      ]
     },
     "execution_count": 10,
     "metadata": {},
     "output_type": "execute_result"
    }
   ],
   "source": [
    "# write your code here \n",
    "df[df[\"age\"] >= 50]"
   ]
  },
  {
   "cell_type": "markdown",
   "id": "a404c2da",
   "metadata": {},
   "source": [
    "#### 2. Calculate the average medication adherence by diagnosis"
   ]
  },
  {
   "cell_type": "code",
   "execution_count": null,
   "id": "c4e5ada4",
   "metadata": {},
   "outputs": [
    {
     "data": {
      "text/html": [
       "<div>\n",
       "<style scoped>\n",
       "    .dataframe tbody tr th:only-of-type {\n",
       "        vertical-align: middle;\n",
       "    }\n",
       "\n",
       "    .dataframe tbody tr th {\n",
       "        vertical-align: top;\n",
       "    }\n",
       "\n",
       "    .dataframe thead th {\n",
       "        text-align: right;\n",
       "    }\n",
       "</style>\n",
       "<table border=\"1\" class=\"dataframe\">\n",
       "  <thead>\n",
       "    <tr style=\"text-align: right;\">\n",
       "      <th></th>\n",
       "      <th>patient_id</th>\n",
       "      <th>age</th>\n",
       "      <th>gender</th>\n",
       "      <th>diagnosis</th>\n",
       "      <th>systolic_bp</th>\n",
       "      <th>hba1c</th>\n",
       "      <th>medication_adherence</th>\n",
       "    </tr>\n",
       "  </thead>\n",
       "  <tbody>\n",
       "    <tr>\n",
       "      <th>1</th>\n",
       "      <td>P002</td>\n",
       "      <td>62</td>\n",
       "      <td>F</td>\n",
       "      <td>Diabetes</td>\n",
       "      <td>130</td>\n",
       "      <td>8.1</td>\n",
       "      <td>0.72</td>\n",
       "    </tr>\n",
       "    <tr>\n",
       "      <th>3</th>\n",
       "      <td>P004</td>\n",
       "      <td>71</td>\n",
       "      <td>M</td>\n",
       "      <td>Diabetes</td>\n",
       "      <td>145</td>\n",
       "      <td>9.2</td>\n",
       "      <td>0.68</td>\n",
       "    </tr>\n",
       "    <tr>\n",
       "      <th>5</th>\n",
       "      <td>P006</td>\n",
       "      <td>55</td>\n",
       "      <td>M</td>\n",
       "      <td>Diabetes</td>\n",
       "      <td>155</td>\n",
       "      <td>7.8</td>\n",
       "      <td>0.75</td>\n",
       "    </tr>\n",
       "  </tbody>\n",
       "</table>\n",
       "</div>"
      ],
      "text/plain": [
       "  patient_id  age gender diagnosis  systolic_bp  hba1c  medication_adherence\n",
       "1       P002   62      F  Diabetes          130    8.1                  0.72\n",
       "3       P004   71      M  Diabetes          145    9.2                  0.68\n",
       "5       P006   55      M  Diabetes          155    7.8                  0.75"
      ]
     },
     "execution_count": 13,
     "metadata": {},
     "output_type": "execute_result"
    }
   ],
   "source": [
    "# write your code here\n",
    "diabetes = df[df[\"diagnosis\"] == \"Diabetes\"]\n",
    "diabetes\n",
    "\n",
    "# avg is (0.72 + 0.68 + 0.75)/3 = 0.72"
   ]
  },
  {
   "cell_type": "code",
   "execution_count": null,
   "id": "bc2bbd14",
   "metadata": {},
   "outputs": [
    {
     "data": {
      "text/html": [
       "<div>\n",
       "<style scoped>\n",
       "    .dataframe tbody tr th:only-of-type {\n",
       "        vertical-align: middle;\n",
       "    }\n",
       "\n",
       "    .dataframe tbody tr th {\n",
       "        vertical-align: top;\n",
       "    }\n",
       "\n",
       "    .dataframe thead th {\n",
       "        text-align: right;\n",
       "    }\n",
       "</style>\n",
       "<table border=\"1\" class=\"dataframe\">\n",
       "  <thead>\n",
       "    <tr style=\"text-align: right;\">\n",
       "      <th></th>\n",
       "      <th>patient_id</th>\n",
       "      <th>age</th>\n",
       "      <th>gender</th>\n",
       "      <th>diagnosis</th>\n",
       "      <th>systolic_bp</th>\n",
       "      <th>hba1c</th>\n",
       "      <th>medication_adherence</th>\n",
       "    </tr>\n",
       "  </thead>\n",
       "  <tbody>\n",
       "    <tr>\n",
       "      <th>0</th>\n",
       "      <td>P001</td>\n",
       "      <td>45</td>\n",
       "      <td>M</td>\n",
       "      <td>Hypertension</td>\n",
       "      <td>140</td>\n",
       "      <td>5.2</td>\n",
       "      <td>0.85</td>\n",
       "    </tr>\n",
       "    <tr>\n",
       "      <th>4</th>\n",
       "      <td>P005</td>\n",
       "      <td>29</td>\n",
       "      <td>F</td>\n",
       "      <td>Hypertension</td>\n",
       "      <td>125</td>\n",
       "      <td>4.8</td>\n",
       "      <td>0.90</td>\n",
       "    </tr>\n",
       "    <tr>\n",
       "      <th>7</th>\n",
       "      <td>P008</td>\n",
       "      <td>42</td>\n",
       "      <td>M</td>\n",
       "      <td>Hypertension</td>\n",
       "      <td>138</td>\n",
       "      <td>5.5</td>\n",
       "      <td>0.82</td>\n",
       "    </tr>\n",
       "  </tbody>\n",
       "</table>\n",
       "</div>"
      ],
      "text/plain": [
       "  patient_id  age gender     diagnosis  systolic_bp  hba1c  \\\n",
       "0       P001   45      M  Hypertension          140    5.2   \n",
       "4       P005   29      F  Hypertension          125    4.8   \n",
       "7       P008   42      M  Hypertension          138    5.5   \n",
       "\n",
       "   medication_adherence  \n",
       "0                  0.85  \n",
       "4                  0.90  \n",
       "7                  0.82  "
      ]
     },
     "execution_count": 15,
     "metadata": {},
     "output_type": "execute_result"
    }
   ],
   "source": [
    "hypertension = df[df[\"diagnosis\"] == \"Hypertension\"]\n",
    "hypertension\n",
    "\n",
    "# avg is (0.85 + 0.90 + 0.82)/3 = 0.86"
   ]
  },
  {
   "cell_type": "code",
   "execution_count": null,
   "id": "0b8d77bb",
   "metadata": {},
   "outputs": [
    {
     "data": {
      "text/html": [
       "<div>\n",
       "<style scoped>\n",
       "    .dataframe tbody tr th:only-of-type {\n",
       "        vertical-align: middle;\n",
       "    }\n",
       "\n",
       "    .dataframe tbody tr th {\n",
       "        vertical-align: top;\n",
       "    }\n",
       "\n",
       "    .dataframe thead th {\n",
       "        text-align: right;\n",
       "    }\n",
       "</style>\n",
       "<table border=\"1\" class=\"dataframe\">\n",
       "  <thead>\n",
       "    <tr style=\"text-align: right;\">\n",
       "      <th></th>\n",
       "      <th>patient_id</th>\n",
       "      <th>age</th>\n",
       "      <th>gender</th>\n",
       "      <th>diagnosis</th>\n",
       "      <th>systolic_bp</th>\n",
       "      <th>hba1c</th>\n",
       "      <th>medication_adherence</th>\n",
       "    </tr>\n",
       "  </thead>\n",
       "  <tbody>\n",
       "    <tr>\n",
       "      <th>2</th>\n",
       "      <td>P003</td>\n",
       "      <td>38</td>\n",
       "      <td>F</td>\n",
       "      <td>Asthma</td>\n",
       "      <td>110</td>\n",
       "      <td>5.0</td>\n",
       "      <td>0.95</td>\n",
       "    </tr>\n",
       "    <tr>\n",
       "      <th>6</th>\n",
       "      <td>P007</td>\n",
       "      <td>68</td>\n",
       "      <td>F</td>\n",
       "      <td>Asthma</td>\n",
       "      <td>115</td>\n",
       "      <td>5.1</td>\n",
       "      <td>0.88</td>\n",
       "    </tr>\n",
       "  </tbody>\n",
       "</table>\n",
       "</div>"
      ],
      "text/plain": [
       "  patient_id  age gender diagnosis  systolic_bp  hba1c  medication_adherence\n",
       "2       P003   38      F    Asthma          110    5.0                  0.95\n",
       "6       P007   68      F    Asthma          115    5.1                  0.88"
      ]
     },
     "execution_count": 17,
     "metadata": {},
     "output_type": "execute_result"
    }
   ],
   "source": [
    "asthma = df[df[\"diagnosis\"] == \"Asthma\"]\n",
    "asthma\n",
    "\n",
    "# avg is (0.95 + 0.88)/2 = 0.92"
   ]
  },
  {
   "cell_type": "markdown",
   "id": "9b9830f7",
   "metadata": {},
   "source": [
    "#### 3. Find patients with systolic BP between 120-140 mmHg"
   ]
  },
  {
   "cell_type": "code",
   "execution_count": null,
   "id": "76f5a753",
   "metadata": {},
   "outputs": [
    {
     "data": {
      "text/html": [
       "<div>\n",
       "<style scoped>\n",
       "    .dataframe tbody tr th:only-of-type {\n",
       "        vertical-align: middle;\n",
       "    }\n",
       "\n",
       "    .dataframe tbody tr th {\n",
       "        vertical-align: top;\n",
       "    }\n",
       "\n",
       "    .dataframe thead th {\n",
       "        text-align: right;\n",
       "    }\n",
       "</style>\n",
       "<table border=\"1\" class=\"dataframe\">\n",
       "  <thead>\n",
       "    <tr style=\"text-align: right;\">\n",
       "      <th></th>\n",
       "      <th>patient_id</th>\n",
       "      <th>age</th>\n",
       "      <th>gender</th>\n",
       "      <th>diagnosis</th>\n",
       "      <th>systolic_bp</th>\n",
       "      <th>hba1c</th>\n",
       "      <th>medication_adherence</th>\n",
       "    </tr>\n",
       "  </thead>\n",
       "  <tbody>\n",
       "    <tr>\n",
       "      <th>0</th>\n",
       "      <td>P001</td>\n",
       "      <td>45</td>\n",
       "      <td>M</td>\n",
       "      <td>Hypertension</td>\n",
       "      <td>140</td>\n",
       "      <td>5.2</td>\n",
       "      <td>0.85</td>\n",
       "    </tr>\n",
       "    <tr>\n",
       "      <th>1</th>\n",
       "      <td>P002</td>\n",
       "      <td>62</td>\n",
       "      <td>F</td>\n",
       "      <td>Diabetes</td>\n",
       "      <td>130</td>\n",
       "      <td>8.1</td>\n",
       "      <td>0.72</td>\n",
       "    </tr>\n",
       "    <tr>\n",
       "      <th>4</th>\n",
       "      <td>P005</td>\n",
       "      <td>29</td>\n",
       "      <td>F</td>\n",
       "      <td>Hypertension</td>\n",
       "      <td>125</td>\n",
       "      <td>4.8</td>\n",
       "      <td>0.90</td>\n",
       "    </tr>\n",
       "    <tr>\n",
       "      <th>7</th>\n",
       "      <td>P008</td>\n",
       "      <td>42</td>\n",
       "      <td>M</td>\n",
       "      <td>Hypertension</td>\n",
       "      <td>138</td>\n",
       "      <td>5.5</td>\n",
       "      <td>0.82</td>\n",
       "    </tr>\n",
       "  </tbody>\n",
       "</table>\n",
       "</div>"
      ],
      "text/plain": [
       "  patient_id  age gender     diagnosis  systolic_bp  hba1c  \\\n",
       "0       P001   45      M  Hypertension          140    5.2   \n",
       "1       P002   62      F      Diabetes          130    8.1   \n",
       "4       P005   29      F  Hypertension          125    4.8   \n",
       "7       P008   42      M  Hypertension          138    5.5   \n",
       "\n",
       "   medication_adherence  \n",
       "0                  0.85  \n",
       "1                  0.72  \n",
       "4                  0.90  \n",
       "7                  0.82  "
      ]
     },
     "execution_count": 18,
     "metadata": {},
     "output_type": "execute_result"
    }
   ],
   "source": [
    "# write your code here\n",
    "df[(df[\"systolic_bp\"] <= 140) & (df[\"systolic_bp\"] >= 120)]\n",
    "\n",
    "# remember, to do \"and\", we use &"
   ]
  },
  {
   "cell_type": "markdown",
   "id": "6feac2f8",
   "metadata": {},
   "source": [
    "#### 4. What is the average age of the patients?"
   ]
  },
  {
   "cell_type": "code",
   "execution_count": 19,
   "id": "a177255f",
   "metadata": {},
   "outputs": [
    {
     "data": {
      "text/plain": [
       "51.25"
      ]
     },
     "execution_count": 19,
     "metadata": {},
     "output_type": "execute_result"
    }
   ],
   "source": [
    "# write your code here\n",
    "df[\"age\"].mean()"
   ]
  },
  {
   "cell_type": "markdown",
   "id": "7c6b9525",
   "metadata": {},
   "source": [
    "#### 5. Save the dataset to a file \n",
    "  \n",
    "Hint: To save a dataset, we can use `df.to_csv()`. \n",
    "Use `help(df.to_csv())` for information about how to use this function"
   ]
  },
  {
   "cell_type": "code",
   "execution_count": null,
   "id": "64e90f5c",
   "metadata": {},
   "outputs": [
    {
     "ename": "NameError",
     "evalue": "name 'df' is not defined",
     "output_type": "error",
     "traceback": [
      "\u001b[0;31m---------------------------------------------------------------------------\u001b[0m",
      "\u001b[0;31mNameError\u001b[0m                                 Traceback (most recent call last)",
      "Cell \u001b[0;32mIn[24], line 1\u001b[0m\n\u001b[0;32m----> 1\u001b[0m help(\u001b[43mdf\u001b[49m\u001b[38;5;241m.\u001b[39mto_csv())\n",
      "\u001b[0;31mNameError\u001b[0m: name 'df' is not defined"
     ]
    }
   ],
   "source": [
    "help(df.to_csv())"
   ]
  }
 ],
 "metadata": {
  "kernelspec": {
   "display_name": "precision-course-env",
   "language": "python",
   "name": "python3"
  },
  "language_info": {
   "codemirror_mode": {
    "name": "ipython",
    "version": 3
   },
   "file_extension": ".py",
   "mimetype": "text/x-python",
   "name": "python",
   "nbconvert_exporter": "python",
   "pygments_lexer": "ipython3",
   "version": "3.9.21"
  }
 },
 "nbformat": 4,
 "nbformat_minor": 5
}
